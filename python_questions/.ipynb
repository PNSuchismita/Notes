{
 "cells": [
  {
   "cell_type": "markdown",
   "metadata": {},
   "source": [
    "## 1. Python data types\n",
    "\n",
    "### Container types\n",
    "\n",
    "* list (mutable)\n",
    "* set (mutable)\n",
    "* tuple (immutable)\n",
    "\n",
    "### Dictionaries\n"
   ]
  },
  {
   "cell_type": "code",
   "execution_count": null,
   "metadata": {},
   "outputs": [],
   "source": []
  },
  {
   "cell_type": "markdown",
   "metadata": {},
   "source": [
    "## 2. Scope in functions\n",
    "\n",
    "* Global scope - defined in the main body of the script\n",
    "* Local scope - defined inside a function. Once the execution of the function is done, any name defined inside the local scope seaces to exist\n",
    "* Built-in scope - names in the pre-defined built-ins module, such as print()\n",
    "\n",
    "When we reference a name, first a local scope is searched, then enclosing functions, then global scope, then the built-in scope.\n",
    "\n",
    "* Local scope\n",
    "* Enclosing function\n",
    "* Global\n",
    "* Built-in\n",
    "\n",
    "** If we wont to change the the local name in the inner function, we do\n",
    "                 \n",
    "                def outer():\n",
    "                    \"\"\" Prints the value of n.\"\"\"\n",
    "                    n = 1\n",
    "                    \n",
    "                    def inner():\n",
    "                        nonlocal n\n",
    "                        n = 2\n",
    "                        print(n)\n",
    "                        \n",
    "                    inner()\n",
    "                    print(n)\n",
    "                \n",
    "                In [1]: outer()\n",
    "                2\n",
    "                2\n",
    "\n",
    "**If we want to locally acces and globally alter the name, we call it within the function this way**\n",
    "                \n",
    "                new_val = 1\n",
    "                \n",
    "                def square(value):\n",
    "                    global new_val\n",
    "                    new_val = value ** 2\n",
    "                    return new_val\n",
    "                    \n",
    "                In [1]: new_val\n",
    "                1\n",
    "                In [2]: square(3)\n",
    "                9\n",
    "                In [3]: new_val\n",
    "                9"
   ]
  },
  {
   "cell_type": "code",
   "execution_count": null,
   "metadata": {},
   "outputs": [],
   "source": []
  },
  {
   "cell_type": "code",
   "execution_count": null,
   "metadata": {},
   "outputs": [],
   "source": []
  },
  {
   "cell_type": "code",
   "execution_count": null,
   "metadata": {},
   "outputs": [],
   "source": []
  },
  {
   "cell_type": "code",
   "execution_count": null,
   "metadata": {},
   "outputs": [],
   "source": []
  },
  {
   "cell_type": "code",
   "execution_count": null,
   "metadata": {},
   "outputs": [],
   "source": []
  },
  {
   "cell_type": "code",
   "execution_count": null,
   "metadata": {},
   "outputs": [],
   "source": []
  },
  {
   "cell_type": "code",
   "execution_count": null,
   "metadata": {},
   "outputs": [],
   "source": []
  },
  {
   "cell_type": "code",
   "execution_count": null,
   "metadata": {},
   "outputs": [],
   "source": []
  }
 ],
 "metadata": {
  "kernelspec": {
   "display_name": "Python [default]",
   "language": "python",
   "name": "python3"
  },
  "language_info": {
   "codemirror_mode": {
    "name": "ipython",
    "version": 3
   },
   "file_extension": ".py",
   "mimetype": "text/x-python",
   "name": "python",
   "nbconvert_exporter": "python",
   "pygments_lexer": "ipython3",
   "version": "3.5.4"
  }
 },
 "nbformat": 4,
 "nbformat_minor": 2
}
