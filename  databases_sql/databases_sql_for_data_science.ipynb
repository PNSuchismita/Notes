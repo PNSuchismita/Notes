{
 "cells": [
  {
   "cell_type": "markdown",
   "metadata": {},
   "source": [
    "# Databases and SQL for Data Science\n",
    "\n",
    "IBM, Coursera. https://www.coursera.org/learn/sql-data-science/home/welcome"
   ]
  },
  {
   "cell_type": "markdown",
   "metadata": {},
   "source": [
    "## Introduction to Databases"
   ]
  },
  {
   "cell_type": "markdown",
   "metadata": {},
   "source": [
    "* **SQL (Structured English Query Language)** is a language used for relational databases to query or get data out of a database. Basic SQL 5 commands.\n",
    "    * **Create** a table\n",
    "    * **Insert** data to populate the table\n",
    "    * **Select** data from the table\n",
    "    * **Update** data in the table\n",
    "    * **Delete** data from the table\n",
    "* **A database** is a repository of data. It is a program that stores data. A database also provides the functionality for adding, modifying and querying that data. \n",
    "    * **Relational Database**. Data stored in tabular form.\n",
    "    * \n",
    "* **DBMS (database management system)** is a set of software tools for the data in the database.\n",
    "    * **RDBMS (relational database management system)**. For relational databeses.\n",
    "    * Examples of relational database management systems are, my SQL, Oracle Database, Db2 Warehouse on Cloud and DB2 Express-C.\n",
    "\n",
    "**Note**. The terms database, database server, database system, data server and database management systems are often used interchangeably."
   ]
  },
  {
   "cell_type": "markdown",
   "metadata": {},
   "source": [
    "## Database Instance on Cloud"
   ]
  },
  {
   "cell_type": "markdown",
   "metadata": {},
   "source": [
    "* **A Cloud database** is a database service built and accessed through a Cloud platform.\n",
    "Advantages of using Cloud databases are  \n",
    "    * **ease of use**. Users can access Cloud databases from virtually anywhere using a vendors API or web interface.\n",
    "    * **scalability**. Cloud databases can expand their storage capacities during runtime to accommodate changing needs, organizations only pay for what they use.\n",
    "    * **disaster recovery**. In the event of a natural disaster, equipment failure or power outage data is kept secure through backups on remote servers.\n",
    "* How it works? \n",
    "    * Application (here Python) sends connection request to the database service instance.\n",
    "    * When a connection has been completed your Python code sends SQL statements across the connection to the instance of the database.\n",
    "    * The database instance then resolves the SQL statements into operations against the data and objects in the database.\n",
    "    * Any data retrieved is returned to the application\n",
    "* **IBM Db2 Warehouse on Cloud** is a SQL database provisioned for you in the Cloud. \n",
    "    * You can use the data warehouse to store relational data, analyze data using built-in analytics, or by connecting your own apps.\n",
    "    * The Db2 Warehouse database can be provisioned on IBM Cloud and for AWS.\n",
    "    * How to set up a service instance of Db2 Warehouse. https://www.coursera.org/learn/sql-data-science/lecture/fbbui/how-to-create-a-database-instance-on-cloud"
   ]
  },
  {
   "cell_type": "code",
   "execution_count": null,
   "metadata": {},
   "outputs": [],
   "source": []
  },
  {
   "cell_type": "code",
   "execution_count": null,
   "metadata": {},
   "outputs": [],
   "source": []
  },
  {
   "cell_type": "code",
   "execution_count": null,
   "metadata": {},
   "outputs": [],
   "source": []
  },
  {
   "cell_type": "code",
   "execution_count": null,
   "metadata": {},
   "outputs": [],
   "source": []
  },
  {
   "cell_type": "code",
   "execution_count": null,
   "metadata": {},
   "outputs": [],
   "source": []
  },
  {
   "cell_type": "code",
   "execution_count": null,
   "metadata": {},
   "outputs": [],
   "source": []
  },
  {
   "cell_type": "code",
   "execution_count": null,
   "metadata": {},
   "outputs": [],
   "source": []
  },
  {
   "cell_type": "code",
   "execution_count": null,
   "metadata": {},
   "outputs": [],
   "source": []
  },
  {
   "cell_type": "code",
   "execution_count": null,
   "metadata": {},
   "outputs": [],
   "source": []
  },
  {
   "cell_type": "code",
   "execution_count": null,
   "metadata": {},
   "outputs": [],
   "source": []
  },
  {
   "cell_type": "code",
   "execution_count": null,
   "metadata": {},
   "outputs": [],
   "source": []
  },
  {
   "cell_type": "code",
   "execution_count": null,
   "metadata": {},
   "outputs": [],
   "source": []
  },
  {
   "cell_type": "code",
   "execution_count": null,
   "metadata": {},
   "outputs": [],
   "source": []
  }
 ],
 "metadata": {
  "kernelspec": {
   "display_name": "Python [default]",
   "language": "python",
   "name": "python3"
  },
  "language_info": {
   "codemirror_mode": {
    "name": "ipython",
    "version": 3
   },
   "file_extension": ".py",
   "mimetype": "text/x-python",
   "name": "python",
   "nbconvert_exporter": "python",
   "pygments_lexer": "ipython3",
   "version": "3.5.6"
  }
 },
 "nbformat": 4,
 "nbformat_minor": 2
}
