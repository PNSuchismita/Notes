{
 "cells": [
  {
   "cell_type": "markdown",
   "metadata": {},
   "source": [
    "# MIT Data Structures And Algorithms\n",
    "\n",
    "https://www.youtube.com/watch?v=HtSuA80QTyo&list=PLUl4u3cNGP61Oq3tWYp6V_F-5jb5L2iHb&index=1"
   ]
  },
  {
   "cell_type": "markdown",
   "metadata": {},
   "source": [
    "## What is an algorithm?\n",
    "\n",
    "Computational procedure for solving a problem.\n",
    "        \n",
    "        input  -> algorithm -> output"
   ]
  },
  {
   "cell_type": "markdown",
   "metadata": {},
   "source": [
    "## Sorting"
   ]
  },
  {
   "cell_type": "markdown",
   "metadata": {},
   "source": [
    "* Why sorting?\n",
    "    * Obvious: phone book\n",
    "    * Some interesting problems become easy once items are sorted. For example, finding the median or searching for an item using binary search.\n",
    "    * Not so obvious: data compression. For example, keeping a document as word/count pairs. Computer graphics is another example by ordering the objects by size and rendering the objects based on the size."
   ]
  },
  {
   "cell_type": "markdown",
   "metadata": {},
   "source": [
    "### Insertion Sort"
   ]
  },
  {
   "cell_type": "markdown",
   "metadata": {},
   "source": [
    "For $i = 1, 2, ..., n$, insert $A[i]$ into sorted array $A[0: i-1]$ by pairwise swaps down to the correct position.\n",
    "\n",
    "* **Complexity**. $\\theta(n^2)$\n",
    "* **Extra Spcae**. $\\theta(1)$"
   ]
  },
  {
   "cell_type": "markdown",
   "metadata": {},
   "source": [
    "### Merge Sort\n"
   ]
  },
  {
   "cell_type": "markdown",
   "metadata": {},
   "source": [
    "*Divide & Conquer*  \n",
    "\n",
    "* **Complexity**. $\\theta(n\\log{n})$\n",
    "* **Extra Space**. $\\theta(n)$"
   ]
  },
  {
   "cell_type": "markdown",
   "metadata": {},
   "source": [
    "## Heaps and Heap Sort"
   ]
  },
  {
   "cell_type": "markdown",
   "metadata": {},
   "source": [
    "Heap as an example implementation of a priority queue.  \n",
    "\n",
    "**Priority Queue** . A structure that implements a set $S$ of elements, each of the elements is associated with a key. \n",
    "The set of operations we would like to perform on a priority queue.  \n",
    "* insert$(S, x)$: insert element $x$ into set $S$\n",
    "* max$(S)$: return element of $S$ with a largest key\n",
    "* extract_max$(S)$: return element of $S$ with a largest key and remove it from $S$\n",
    "* increase_key$(S, x, k)$: increase the value of $x$'s key to the new value $k$\n",
    "\n"
   ]
  },
  {
   "cell_type": "markdown",
   "metadata": {},
   "source": [
    "### Heap as a tree"
   ]
  },
  {
   "cell_type": "markdown",
   "metadata": {},
   "source": [
    "* Root of tree: first element ($i=1$)\n",
    "* parent$(i) = i/2$\n",
    "* left$(i) = 2i$, right$(i) = 2i+1$\n",
    "\n",
    "**Max-heap**. The key of a node is $\\geq$ the keys of its children.  \n",
    "**Min-heap**. The key of a node is $\\leq$ the keys of its children.\n",
    "\n"
   ]
  },
  {
   "cell_type": "markdown",
   "metadata": {},
   "source": [
    "### Heap Operations\n",
    "\n"
   ]
  },
  {
   "cell_type": "markdown",
   "metadata": {},
   "source": [
    "* *build max heap*: produce a max heap from an unordered array\n",
    "* *max-heapify*: correct a single violation of the max heap property in a subtree's root\n",
    "\n",
    "**Max-Heapify**. Assume that the trees rooted at left$(i)$ and right$(i)$ are max heaps.\n",
    "\n",
    "All that max-heapify does is exchange elements. So it exchanges the root's key with the bigger child. If after the exchange there is a violation of the max heap property in any of the subtrees, call the max-heapify again. Do this recursively.\n",
    "\n",
    "**Complexity of max-heapify**. $O(\\log{n})$\n",
    "* *Explanation*. The worst case is when we go all the way down to the leaves of the heap. As there is only a single violation of the max heap property and the height of the tree is $\\log{n}$, the complexity is therefore $O(\\log{n})$.\n",
    "    \n",
    "**Build a max heap using max-heapify** \n",
    "\n",
    "Convert $A[1...n]$ into a max-heap\n",
    "\n",
    "            Build_max_heap(A):\n",
    "                for i=1/2 down to 1:\n",
    "                    do max-heapify (A, i) \n",
    "                    \n",
    "elements $A[n/2+1, ..., n]$ are all leaves, that's why we start from $i/2$. So when we start from one level above the leaves, there will be no more than one violation of a max heap property in the subtrees. So we can call a max-heapify. We are working our way up and we are only working with max heaps as our left child and right child.\n",
    "   \n",
    "**Complexity of building a max heap**. \n",
    "\n",
    "* Simple analysis: $O(n\\log{n})$\n",
    "* Better analysis: $O(n)$  \n",
    "    *Proof*\n",
    "    * Observe that max-heapify takes $O(1)$ time for nodes that are one level above leaves and in general $O(l)$ time for nodes that are $l$ level above the leaves.\n",
    "    * We have $n/4$ nodes for level 1, $n/8$ nodes for level 2, ..., 1 node for level $\\log{n}$.\n",
    "    \n",
    "\\begin{align*}\n",
    "\\text{Total amount of work in the for loop} &= \\frac{n}{4}(1C) + \\frac{n}{8}(2C) + \\frac{n}{16}(3C) + ... + 1(\\log{n}C)\\\\\n",
    "                                            &\\stackrel{\\text{Set } n/4=2^k}{=} C2^k(\\frac{1}{2^0} + \\frac{2}{2^1} + \\frac{3}{2^2} + ... + \\frac{k+1}{2^k})\\\\\n",
    "                                            &= C2^k\\sum_{i=0}^{k}\\frac{i+1}{2^i}\n",
    "\\end{align*}\n",
    "   $\\sum_{i=0}^{k}\\frac{i+1}{2^i}$ is bounded by a constant. Hence, the amount of time to build a max heap is $O(n)$."
   ]
  },
  {
   "cell_type": "markdown",
   "metadata": {},
   "source": [
    "### Heap Sort"
   ]
  },
  {
   "cell_type": "markdown",
   "metadata": {},
   "source": [
    "1. Build max-heap from unordered array\n",
    "2. Find max element $A[1]$\n",
    "3. Swap elements $A[1]$ and $A[n]$. Now max element is at the end of the array\n",
    "4. Discard node $n$ from the heap by decrementing the heap size. The heap becomes $n-1$ in size.\n",
    "5. The new root after the swap may violate max-heap property but the children are max-heaps. Run max-heapify to fix this.\n",
    "\n",
    "**Complexity of heap sort**. $O(n \\log{n})$  \n",
    "*Explanation*. Building max-heap is $O(n)$. Then we have $n$ steps. Finding the max element and swaping is $O(1)$. Max-heapify is $O(\\log{n})$."
   ]
  },
  {
   "cell_type": "code",
   "execution_count": null,
   "metadata": {},
   "outputs": [],
   "source": []
  },
  {
   "cell_type": "code",
   "execution_count": null,
   "metadata": {},
   "outputs": [],
   "source": []
  },
  {
   "cell_type": "code",
   "execution_count": null,
   "metadata": {},
   "outputs": [],
   "source": []
  },
  {
   "cell_type": "code",
   "execution_count": null,
   "metadata": {},
   "outputs": [],
   "source": []
  },
  {
   "cell_type": "code",
   "execution_count": null,
   "metadata": {},
   "outputs": [],
   "source": []
  }
 ],
 "metadata": {
  "kernelspec": {
   "display_name": "Python [default]",
   "language": "python",
   "name": "python3"
  },
  "language_info": {
   "codemirror_mode": {
    "name": "ipython",
    "version": 3
   },
   "file_extension": ".py",
   "mimetype": "text/x-python",
   "name": "python",
   "nbconvert_exporter": "python",
   "pygments_lexer": "ipython3",
   "version": "3.5.6"
  }
 },
 "nbformat": 4,
 "nbformat_minor": 2
}
