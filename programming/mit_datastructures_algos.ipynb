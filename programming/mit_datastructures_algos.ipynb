{
 "cells": [
  {
   "cell_type": "markdown",
   "metadata": {},
   "source": [
    "# MIT Data Structures And Algorithms\n",
    "\n",
    "https://www.youtube.com/watch?v=HtSuA80QTyo&list=PLUl4u3cNGP61Oq3tWYp6V_F-5jb5L2iHb&index=1"
   ]
  },
  {
   "cell_type": "markdown",
   "metadata": {},
   "source": [
    "## What is an algorithm?\n",
    "\n",
    "Computational procedure for solving a problem.\n",
    "        \n",
    "        input  -> algorithm -> output"
   ]
  },
  {
   "cell_type": "markdown",
   "metadata": {},
   "source": [
    "## Sorting"
   ]
  },
  {
   "cell_type": "markdown",
   "metadata": {},
   "source": [
    "* Why sorting?\n",
    "    * Obvious: phone book\n",
    "    * Some interesting problems become easy once items are sorted. For example, finding the median or searching for an item using binary search.\n",
    "    * Not so obvious: data compression. For example, keeping a document as word/count pairs. Computer graphics is another example by ordering the objects by size and rendering the objects based on the size."
   ]
  },
  {
   "cell_type": "markdown",
   "metadata": {},
   "source": [
    "### Insertion Sort"
   ]
  },
  {
   "cell_type": "markdown",
   "metadata": {},
   "source": [
    "For $i = 1, 2, ..., n$, insert $A[i]$ into sorted array $A[0: i-1]$ by pairwise swaps down to the correct position.\n",
    "\n",
    "* **Complexity**. $\\theta(n^2)$\n",
    "* **Extra Spcae**. $\\theta(1)$"
   ]
  },
  {
   "cell_type": "markdown",
   "metadata": {},
   "source": [
    "### Merge Sort\n"
   ]
  },
  {
   "cell_type": "markdown",
   "metadata": {},
   "source": [
    "*Divide & Conquer*  \n",
    "\n",
    "* **Complexity**. $\\theta(n\\log{n})$\n",
    "* **Extra Space**. $\\theta(n)$"
   ]
  },
  {
   "cell_type": "markdown",
   "metadata": {},
   "source": [
    "## Heaps and Heap Sort"
   ]
  },
  {
   "cell_type": "markdown",
   "metadata": {},
   "source": [
    "Heap as an example implementation of a priority queue.  \n",
    "\n",
    "**Priority Queue** . A structure that implements a set $S$ of elements, each of the elements is associated with a key. \n",
    "The set of operations we would like to perform on a priority queue.  \n",
    "* insert$(S, x)$: insert element $x$ into set $S$\n",
    "* max$(S)$: return element of $S$ with a largest key\n",
    "* extract_max$(S)$: return element of $S$ with a largest key and remove it from $S$\n",
    "* increase_key$(S, x, k)$: increase the value of $x$'s key to the new value $k$\n",
    "\n"
   ]
  },
  {
   "cell_type": "markdown",
   "metadata": {},
   "source": [
    "### Heap as a tree"
   ]
  },
  {
   "cell_type": "markdown",
   "metadata": {},
   "source": [
    "* Root of tree: first element ($i=1$)\n",
    "* parent$(i) = i/2$\n",
    "* left$(i) = 2i$, right$(i) = 2i+1$\n",
    "\n",
    "**Max-heap**. The key of a node is $\\geq$ the keys of its children.  \n",
    "**Min-heap**. The key of a node is $\\leq$ the keys of its children."
   ]
  },
  {
   "cell_type": "markdown",
   "metadata": {},
   "source": []
  },
  {
   "cell_type": "code",
   "execution_count": null,
   "metadata": {},
   "outputs": [],
   "source": []
  },
  {
   "cell_type": "code",
   "execution_count": null,
   "metadata": {},
   "outputs": [],
   "source": []
  },
  {
   "cell_type": "code",
   "execution_count": null,
   "metadata": {},
   "outputs": [],
   "source": []
  },
  {
   "cell_type": "code",
   "execution_count": null,
   "metadata": {},
   "outputs": [],
   "source": []
  },
  {
   "cell_type": "code",
   "execution_count": null,
   "metadata": {},
   "outputs": [],
   "source": []
  },
  {
   "cell_type": "code",
   "execution_count": null,
   "metadata": {},
   "outputs": [],
   "source": []
  }
 ],
 "metadata": {
  "kernelspec": {
   "display_name": "Python [default]",
   "language": "python",
   "name": "python3"
  },
  "language_info": {
   "codemirror_mode": {
    "name": "ipython",
    "version": 3
   },
   "file_extension": ".py",
   "mimetype": "text/x-python",
   "name": "python",
   "nbconvert_exporter": "python",
   "pygments_lexer": "ipython3",
   "version": "3.5.6"
  }
 },
 "nbformat": 4,
 "nbformat_minor": 2
}
