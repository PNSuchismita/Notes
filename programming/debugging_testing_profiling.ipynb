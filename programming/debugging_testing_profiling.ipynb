{
 "cells": [
  {
   "cell_type": "markdown",
   "metadata": {},
   "source": [
    "# Debugging, Testing, and Profiling"
   ]
  },
  {
   "cell_type": "markdown",
   "metadata": {},
   "source": [
    "## Debugging\n",
    "\n",
    "* Syntax error\n",
    "* Tracebacks that python produces when unhandled exceptions occur\n",
    "* Scientific debugging"
   ]
  },
  {
   "cell_type": "markdown",
   "metadata": {},
   "source": [
    "### Dealing with Syntax Errors\n",
    "\n",
    "If we try to run a program that has a syntax error, Python will stop execution and print the filename, line number, and offending line, with a caret(^) underneath indicating exactly where the error was detected.  "
   ]
  },
  {
   "cell_type": "code",
   "execution_count": 1,
   "metadata": {},
   "outputs": [
    {
     "ename": "SyntaxError",
     "evalue": "invalid syntax (<ipython-input-1-e15312a9b9ae>, line 2)",
     "output_type": "error",
     "traceback": [
      "\u001b[0;36m  File \u001b[0;32m\"<ipython-input-1-e15312a9b9ae>\"\u001b[0;36m, line \u001b[0;32m2\u001b[0m\n\u001b[0;31m    if a%2 == 0\u001b[0m\n\u001b[0m               ^\u001b[0m\n\u001b[0;31mSyntaxError\u001b[0m\u001b[0;31m:\u001b[0m invalid syntax\n"
     ]
    }
   ],
   "source": [
    "a = 5\n",
    "if a%2 == 0\n",
    "    print(\"even number\")\n",
    "else:\n",
    "    print(\"odd number\")"
   ]
  },
  {
   "cell_type": "markdown",
   "metadata": {},
   "source": [
    "Python can show a line number and caret when there is no syntax error in that line. Usually that happens when there is a syntax error in the previous line. For example, very common error is not to close parentheses. Pyhton will not notice it until it gets to the next line and doesn't find a closing patentheses."
   ]
  },
  {
   "cell_type": "markdown",
   "metadata": {},
   "source": [
    "### Dealing with Runtime Errors\n",
    "\n",
    "If an unhandled exception occurs at runtime, Python will stop executing our program and pring a *traceback*.  "
   ]
  },
  {
   "cell_type": "code",
   "execution_count": 2,
   "metadata": {},
   "outputs": [
    {
     "ename": "IndexError",
     "evalue": "list index out of range",
     "output_type": "error",
     "traceback": [
      "\u001b[0;31m---------------------------------------------------------------------------\u001b[0m",
      "\u001b[0;31mIndexError\u001b[0m                                Traceback (most recent call last)",
      "\u001b[0;32m<ipython-input-2-d0f9caacde08>\u001b[0m in \u001b[0;36m<module>\u001b[0;34m()\u001b[0m\n\u001b[1;32m      1\u001b[0m \u001b[0;32mdef\u001b[0m \u001b[0msum_first_fifth\u001b[0m\u001b[0;34m(\u001b[0m\u001b[0ma\u001b[0m\u001b[0;34m,\u001b[0m \u001b[0mb\u001b[0m\u001b[0;34m)\u001b[0m\u001b[0;34m:\u001b[0m\u001b[0;34m\u001b[0m\u001b[0m\n\u001b[1;32m      2\u001b[0m     \u001b[0;32mreturn\u001b[0m \u001b[0ma\u001b[0m\u001b[0;34m[\u001b[0m\u001b[0;36m0\u001b[0m\u001b[0;34m]\u001b[0m \u001b[0;34m+\u001b[0m \u001b[0mb\u001b[0m\u001b[0;34m[\u001b[0m\u001b[0;36m4\u001b[0m\u001b[0;34m]\u001b[0m\u001b[0;34m\u001b[0m\u001b[0m\n\u001b[0;32m----> 3\u001b[0;31m \u001b[0msum_first_fifth\u001b[0m\u001b[0;34m(\u001b[0m\u001b[0;34m[\u001b[0m\u001b[0;36m1\u001b[0m\u001b[0;34m,\u001b[0m\u001b[0;36m2\u001b[0m\u001b[0;34m,\u001b[0m\u001b[0;36m3\u001b[0m\u001b[0;34m]\u001b[0m\u001b[0;34m,\u001b[0m \u001b[0;34m[\u001b[0m\u001b[0;36m1\u001b[0m\u001b[0;34m,\u001b[0m\u001b[0;36m2\u001b[0m\u001b[0;34m,\u001b[0m\u001b[0;36m3\u001b[0m\u001b[0;34m]\u001b[0m\u001b[0;34m)\u001b[0m\u001b[0;34m\u001b[0m\u001b[0m\n\u001b[0m",
      "\u001b[0;32m<ipython-input-2-d0f9caacde08>\u001b[0m in \u001b[0;36msum_first_fifth\u001b[0;34m(a, b)\u001b[0m\n\u001b[1;32m      1\u001b[0m \u001b[0;32mdef\u001b[0m \u001b[0msum_first_fifth\u001b[0m\u001b[0;34m(\u001b[0m\u001b[0ma\u001b[0m\u001b[0;34m,\u001b[0m \u001b[0mb\u001b[0m\u001b[0;34m)\u001b[0m\u001b[0;34m:\u001b[0m\u001b[0;34m\u001b[0m\u001b[0m\n\u001b[0;32m----> 2\u001b[0;31m     \u001b[0;32mreturn\u001b[0m \u001b[0ma\u001b[0m\u001b[0;34m[\u001b[0m\u001b[0;36m0\u001b[0m\u001b[0;34m]\u001b[0m \u001b[0;34m+\u001b[0m \u001b[0mb\u001b[0m\u001b[0;34m[\u001b[0m\u001b[0;36m4\u001b[0m\u001b[0;34m]\u001b[0m\u001b[0;34m\u001b[0m\u001b[0m\n\u001b[0m\u001b[1;32m      3\u001b[0m \u001b[0msum_first_fifth\u001b[0m\u001b[0;34m(\u001b[0m\u001b[0;34m[\u001b[0m\u001b[0;36m1\u001b[0m\u001b[0;34m,\u001b[0m\u001b[0;36m2\u001b[0m\u001b[0;34m,\u001b[0m\u001b[0;36m3\u001b[0m\u001b[0;34m]\u001b[0m\u001b[0;34m,\u001b[0m \u001b[0;34m[\u001b[0m\u001b[0;36m1\u001b[0m\u001b[0;34m,\u001b[0m\u001b[0;36m2\u001b[0m\u001b[0;34m,\u001b[0m\u001b[0;36m3\u001b[0m\u001b[0;34m]\u001b[0m\u001b[0;34m)\u001b[0m\u001b[0;34m\u001b[0m\u001b[0m\n",
      "\u001b[0;31mIndexError\u001b[0m: list index out of range"
     ]
    }
   ],
   "source": [
    "def sum_first_fifth(a, b):\n",
    "    return a[0] + b[4]\n",
    "sum_first_fifth([1,2,3], [1,2,3])"
   ]
  },
  {
   "cell_type": "markdown",
   "metadata": {},
   "source": [
    "### Scientific Debugging\n",
    "\n",
    "To be able to kill a bug we must be able to do the following.  \n",
    "\n",
    "1. Reproduce the bug.\n",
    "    * We should try to reduce the bug's dependencies, that is, find the smallest input and the least amount of processing that can still produce the bug.\n",
    "2. Locate the bug.\n",
    "3. Fix the bug.\n",
    "    * To find and fix the bug, we apply the following scientific method.\n",
    "        1. Think up an explanation-ahypothesis-that reasonably accounts for the bug.\n",
    "        2. Create an experiment to tet the hypothesis.\n",
    "        3. Run the experiment.\n",
    "4. Test the fix."
   ]
  },
  {
   "cell_type": "markdown",
   "metadata": {},
   "source": [
    "## Unit Testing\n",
    "\n",
    "Testing individual functions, classes, and methods to ensure that they behave according to our expectations.\n",
    "\n",
    "**TDD** - Test Driven Development is writing a test for a new feature first before adding the feature. It will fail since we haven't added the feature itself yet."
   ]
  },
  {
   "cell_type": "markdown",
   "metadata": {},
   "source": [
    "### doctest example"
   ]
  },
  {
   "cell_type": "code",
   "execution_count": 3,
   "metadata": {},
   "outputs": [
    {
     "data": {
      "text/plain": [
       "TestResults(failed=0, attempted=2)"
      ]
     },
     "execution_count": 3,
     "metadata": {},
     "output_type": "execute_result"
    }
   ],
   "source": [
    "def get_divisors(num, possible_divisors):\n",
    "    ''' (int, list of int) -> list of int\n",
    "\n",
    "    Return a list of the values from possible_divisors\n",
    "    that are divisors of num.\n",
    "\n",
    "    >>> get_divisors(8, [1, 2, 3])\n",
    "    [1, 2]\n",
    "    >>> get_divisors(4, [-2, 0, 2])\n",
    "    [-2, 2]\n",
    "    '''\n",
    "\n",
    "    divisors = []\n",
    "    for item in possible_divisors:\n",
    "        if item != 0 and num % item == 0:\n",
    "        #if num % item == 0:\n",
    "            divisors.append(item)\n",
    "\n",
    "    return divisors\n",
    "\n",
    "\n",
    "#if __name__ == '__main__':\n",
    "#    import doctest\n",
    "#    doctest.testmod()\n",
    "import doctest\n",
    "doctest.testmod()"
   ]
  },
  {
   "cell_type": "markdown",
   "metadata": {},
   "source": [
    "### unittest example"
   ]
  },
  {
   "cell_type": "code",
   "execution_count": 4,
   "metadata": {},
   "outputs": [],
   "source": [
    "def get_divisors(num, possible_divisors):\n",
    "    ''' (int, list of int) -> list of int\n",
    "\n",
    "    Return a list of the values from possible_divisors\n",
    "    that are divisors of num.\n",
    "    '''\n",
    "    \n",
    "    divisors = []\n",
    "    for item in possible_divisors:\n",
    "        if item != 0 and num % item == 0:\n",
    "        #if num % item == 0:\n",
    "            divisors.append(item)\n",
    "    return divisors"
   ]
  },
  {
   "cell_type": "code",
   "execution_count": 5,
   "metadata": {},
   "outputs": [
    {
     "name": "stderr",
     "output_type": "stream",
     "text": [
      "..\n",
      "----------------------------------------------------------------------\n",
      "Ran 2 tests in 0.006s\n",
      "\n",
      "OK\n"
     ]
    },
    {
     "data": {
      "text/plain": [
       "<unittest.runner.TextTestResult run=2 errors=0 failures=0>"
      ]
     },
     "execution_count": 5,
     "metadata": {},
     "output_type": "execute_result"
    }
   ],
   "source": [
    "import unittest\n",
    "class TestDivisors(unittest.TestCase):\n",
    "    '''Example unittest test methods for get_divisors.'''\n",
    "    \n",
    "    def test_divisors_example1(self):\n",
    "        '''test get_divisors with 8 and [1, 2, 3]'''\n",
    "        actual = get_divisors(8, [1, 2, 3])\n",
    "        expected = [1, 2]\n",
    "        self.assertEqual(actual, expected)\n",
    "    \n",
    "    def test_divisors_example2(self):\n",
    "        '''test get_divisors with 4 and [-2, 0, 2]'''\n",
    "        actual = get_divisors(4, [-2, 0, 2])\n",
    "        expected = [-2, 2]\n",
    "        self.assertEqual(actual, expected)\n",
    "\n",
    "a = TestDivisors()\n",
    "\n",
    "suite = unittest.TestLoader().loadTestsFromModule(a)\n",
    "unittest.TextTestRunner().run(suite)"
   ]
  },
  {
   "cell_type": "markdown",
   "metadata": {},
   "source": [
    "## General tips on what tests to include\n",
    "\n",
    "When choosing test cases, consider the following factors:\n",
    "\n",
    "* **Size**  \n",
    "For collections (strings, lists, tuples, dictionaries) test with:\n",
    "     * empty collection\n",
    "     * a collection with 1 item\n",
    "     * smallest interesting case\n",
    "     * collection with several items\n",
    "\n",
    "* **Dichotomies**  \n",
    "Consider your situation:  \n",
    "For example:\n",
    "    * vowels/non-vowels\n",
    "    * even/odd\n",
    "    * positive/negative\n",
    "    * empty/full\n",
    "    * etc.\n",
    "    \n",
    "* **Boundaries**  \n",
    "If a function behaves differently for a value near a particular threshold (i.e. an if statement checking when a value is 3; 3 is a threshold), test at that threshold.\n",
    "\n",
    "* **Order**  \n",
    "If a function behaves differently when the values are in a different order, identify and test each of those orders."
   ]
  },
  {
   "cell_type": "markdown",
   "metadata": {},
   "source": [
    "## Profiling\n",
    "\n",
    "If a program runs very slowly or consumes far more memory than we expect the problem is most often due to our choice of algorithms or data structures, or due to our doing an inefficient implementation.\n"
   ]
  },
  {
   "cell_type": "markdown",
   "metadata": {},
   "source": [
    "## Reference\n",
    "\n",
    "1. \"Programming in Puthon 3, A Complete Introduction to the Python Language\", Mark Summerfield\n",
    "2. Learn to Program: Crafting Quality Code, University of Toronto, Coursera: https://www.coursera.org/learn/program-code/home/welcome"
   ]
  }
 ],
 "metadata": {
  "kernelspec": {
   "display_name": "Python 3",
   "language": "python",
   "name": "python3"
  },
  "language_info": {
   "codemirror_mode": {
    "name": "ipython",
    "version": 3
   },
   "file_extension": ".py",
   "mimetype": "text/x-python",
   "name": "python",
   "nbconvert_exporter": "python",
   "pygments_lexer": "ipython3",
   "version": "3.7.3"
  }
 },
 "nbformat": 4,
 "nbformat_minor": 4
}
