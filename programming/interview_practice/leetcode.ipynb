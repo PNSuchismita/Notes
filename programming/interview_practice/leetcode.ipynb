{
 "cells": [
  {
   "cell_type": "markdown",
   "metadata": {},
   "source": [
    "# Roman to Integer\n",
    "https://leetcode.com/problems/roman-to-integer/"
   ]
  },
  {
   "cell_type": "code",
   "execution_count": 34,
   "metadata": {},
   "outputs": [
    {
     "data": {
      "text/plain": [
       "TestResults(failed=0, attempted=7)"
      ]
     },
     "execution_count": 34,
     "metadata": {},
     "output_type": "execute_result"
    }
   ],
   "source": [
    "def roman_to_integer(r=''):\n",
    "    \"\"\" sring representing a roman numeral -> integer representation\n",
    "    \n",
    "    >>> roman_to_integer('III')\n",
    "    3\n",
    "    >>> roman_to_integer('IV')\n",
    "    4\n",
    "    >>> roman_to_integer('IX')\n",
    "    9\n",
    "    >>> roman_to_integer('LVIII')\n",
    "    58\n",
    "    >>> roman_to_integer('MCMXCIV')\n",
    "    1994\n",
    "    >>> roman_to_integer(\"MMMXLIV\")\n",
    "    3044\n",
    "    >>> roman_to_integer(\"MMMCDXC\")\n",
    "    3490\n",
    "    \"\"\"\n",
    "    map_dict = {\"I\": 1, \"V\": 5, \"X\": 10, \"L\": 50, \"C\": 100, \"D\": 500, \"M\": 1000}\n",
    "    list_int = []\n",
    "    \n",
    "    i = len(r) - 1\n",
    "    while i >= 0:\n",
    "        if i == 0:\n",
    "            list_int.append(map_dict[r[i]])\n",
    "            i -= 1\n",
    "        elif r[i-1] == \"I\" and r[i] == \"V\":\n",
    "            list_int.append(4)\n",
    "            i -= 2\n",
    "        elif r[i-1] == \"I\" and r[i] == \"X\":\n",
    "            list_int.append(9)\n",
    "            i -= 2\n",
    "        elif r[i-1] == \"X\" and r[i] == \"L\":\n",
    "            list_int.append(40)\n",
    "            i -= 2\n",
    "        elif r[i-1] == \"X\" and r[i] == \"C\":\n",
    "            list_int.append(90)\n",
    "            i -= 2\n",
    "        elif r[i-1] == \"C\" and r[i] == \"D\":\n",
    "            list_int.append(400)\n",
    "            i -= 2\n",
    "        elif r[i-1] == \"C\" and r[i] == \"M\":\n",
    "            list_int.append(900)\n",
    "            i -= 2\n",
    "        else:\n",
    "            list_int.append(map_dict[r[i]])\n",
    "            i -= 1\n",
    "    return sum(list_int)\n",
    "\n",
    "import doctest\n",
    "doctest.testmod()"
   ]
  },
  {
   "cell_type": "markdown",
   "metadata": {},
   "source": [
    "# Longest Common Prefix\n",
    "\n",
    "https://leetcode.com/problems/longest-common-prefix/"
   ]
  },
  {
   "cell_type": "code",
   "execution_count": 7,
   "metadata": {},
   "outputs": [
    {
     "data": {
      "text/plain": [
       "TestResults(failed=0, attempted=3)"
      ]
     },
     "execution_count": 7,
     "metadata": {},
     "output_type": "execute_result"
    }
   ],
   "source": [
    "def longestCommonPrefix(strs):\n",
    "        \"\"\"\n",
    "        :type strs: List[str]\n",
    "        :rtype: str\n",
    "        \n",
    "        >>> longestCommonPrefix([\"flower\",\"flow\",\"flight\"])\n",
    "        'fl'\n",
    "        >>> longestCommonPrefix([\"dog\",\"racecar\",\"car\"])\n",
    "        ''\n",
    "        >>> longestCommonPrefix([])\n",
    "        ''\n",
    "        \"\"\"\n",
    "        result = \"\"\n",
    "        i = 0\n",
    "        while True:\n",
    "            try:\n",
    "                letters = [w[i] for w in strs]\n",
    "            except IndexError:\n",
    "                return result\n",
    "            iterator = iter(letters)\n",
    "            try:\n",
    "                first = next(iterator)\n",
    "            except StopIteration:\n",
    "                return result\n",
    "            if all(first == rest for rest in iterator):\n",
    "                result += strs[0][i]\n",
    "                i += 1\n",
    "            else:\n",
    "                break\n",
    "        return result\n",
    "\n",
    "import doctest\n",
    "doctest.testmod()"
   ]
  },
  {
   "cell_type": "markdown",
   "metadata": {},
   "source": [
    "# 3Sum\n",
    "\n",
    "Given an array nums of n integers, are there elements a, b, c in nums such that a + b + c = 0? Find all unique triplets in the array which gives the sum of zero.\n",
    "\n",
    "**Note**: The solution set must not contain duplicate triplets.\n",
    "\n",
    "https://leetcode.com/problems/3sum/\n",
    "\n",
    "Return to this question with a nice solution that is quick."
   ]
  },
  {
   "cell_type": "code",
   "execution_count": 106,
   "metadata": {},
   "outputs": [],
   "source": [
    "def threeSum(nums):\n",
    "    \"\"\"\n",
    "    :type nums: List[int]\n",
    "    :rtype: List[List[int]]\n",
    "    \n",
    "    >>> threeSum([-1, 0, 1, 2, -1, -4])\n",
    "    [[-1, 0, 1], [-1, -1, 2]]\n",
    "    >>> threeSum([1, 1, -2])\n",
    "    [[-2, 1, 1]]\n",
    "    >>> threeSum([0, 0, 0])\n",
    "    [[0, 0, 0]]\n",
    "    >>> threeSum([])\n",
    "    []\n",
    "    >>> threeSum([3, 9, 10, 3])\n",
    "    []\n",
    "    >>> threeSum([3,0,-2,-1,1,2])\n",
    "    [[-2, 0, 2], [-1, 0, 1], [-2, -1, 3]]\n",
    "    >>> threeSum([-2, -1])\n",
    "    []\n",
    "    >>> threeSum([-3, 0, 2, 1, -1, -2])\n",
    "    [[-3, 1, 2], [-1, 0, 1], [-2, 0, 2]]\n",
    "    \"\"\"\n",
    "    result = []\n",
    "    # divide the nums into two lists, one inclusding only nevatives, the other including only positives (include 0 in positives)\n",
    "    pos = [num for num in nums if num >= 0]\n",
    "    neg = [num for num in nums if num < 0]\n",
    "    set_pos = set(pos)\n",
    "    set_neg = set(neg)\n",
    "    \n",
    "    if len(nums) < 3:\n",
    "        return []\n",
    "    elif all(i==0 for i in nums) and len(nums)>=3:\n",
    "        return [[0, 0, 0]]\n",
    "    elif all(i >= 0 for i in nums) or all(i < 0 for i in nums):\n",
    "        return []\n",
    "    \n",
    "    # for every unique negative number in neg, check whether there exists a pair of positive numbers the sum of which equals to that negative number\n",
    "    do_not_use_again = []\n",
    "    for target in set_neg:\n",
    "        for i in set_pos:\n",
    "            if i < -target:\n",
    "                pair = 0 - target - i\n",
    "                if pair in pos:\n",
    "                    if pair==i and pos.count(pair)==1:\n",
    "                        continue\n",
    "                    elif pair==i and neg.count(pair)!=1:\n",
    "                        result.append(sorted([target, i, pair]))\n",
    "                    elif pair!=i and (pair, i) not in do_not_use_again:\n",
    "                        result.append(sorted([target, i, pair]))\n",
    "                        do_not_use_again.append((pair, i))\n",
    "                        do_not_use_again.append((i, pair))\n",
    "                    else:\n",
    "                        continue\n",
    "                        \n",
    "    # for every unique positive number in pos, check whether there exists a pair of negative numbers the sum of which equals to that positive number\n",
    "    for target in set_pos:\n",
    "        if target==0 and pos.count(0)>=3:\n",
    "            result.append(sorted([0, 0, 0]))\n",
    "        for i in set_neg:\n",
    "            if i > -target:\n",
    "                pair = 0 - target - i\n",
    "                if pair in neg:\n",
    "                    if pair==i and neg.count(pair)==1:\n",
    "                        continue\n",
    "                    elif pair==i and neg.count(pair)!=1:\n",
    "                        result.append(sorted([target, i, pair]))\n",
    "                    elif pair!=i and (pair, i) not in do_not_use_again:\n",
    "                        result.append(sorted([target, i, pair]))\n",
    "                        do_not_use_again.append((pair, i))\n",
    "                        do_not_use_again.append((i, pair))\n",
    "                    else:\n",
    "                        continue\n",
    "    return result"
   ]
  },
  {
   "cell_type": "code",
   "execution_count": 107,
   "metadata": {},
   "outputs": [
    {
     "data": {
      "text/plain": [
       "TestResults(failed=0, attempted=8)"
      ]
     },
     "execution_count": 107,
     "metadata": {},
     "output_type": "execute_result"
    }
   ],
   "source": [
    "import doctest\n",
    "doctest.testmod()"
   ]
  },
  {
   "cell_type": "code",
   "execution_count": null,
   "metadata": {},
   "outputs": [],
   "source": []
  },
  {
   "cell_type": "code",
   "execution_count": null,
   "metadata": {},
   "outputs": [],
   "source": []
  }
 ],
 "metadata": {
  "kernelspec": {
   "display_name": "Python [default]",
   "language": "python",
   "name": "python3"
  },
  "language_info": {
   "codemirror_mode": {
    "name": "ipython",
    "version": 3
   },
   "file_extension": ".py",
   "mimetype": "text/x-python",
   "name": "python",
   "nbconvert_exporter": "python",
   "pygments_lexer": "ipython3",
   "version": "3.5.6"
  }
 },
 "nbformat": 4,
 "nbformat_minor": 2
}
