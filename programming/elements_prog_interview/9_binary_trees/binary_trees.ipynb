{
 "cells": [
  {
   "cell_type": "markdown",
   "metadata": {},
   "source": [
    "# Elements of Programming Interview\n",
    "\n",
    "# Binary Trees\n",
    "\n",
    "## Trees\n",
    "\n",
    "A tree is a data structure composed of nodes.\n",
    "\n",
    "* Each tree has a root node (isn't stricktly necessary in graph theory).\n",
    "* The root node has zero or more child nodes.\n",
    "* Each child node has zero or more child nodes, and so on.\n",
    "    * A node is called a \"leaf\" node if it has no children.\n",
    "\n",
    "## Trees vs. Binary Trees\n",
    "\n",
    "A binary tree is a tree in which each node has up to two children. Not all trees are binary trees.\n",
    "\n",
    "* **Binary Tree vs. Binary Search Tree**. A binary search tree is a binary tree in which every node fits a specific ordering property: *all left descendents <= n < all right descendents*. This must be true for each node n. \n",
    "\n",
    "* **Balanced vs. Unbalanced**. A \"balanced\" tree really means something more like \"not terribly imbalanced\". It's balanced enough to ensure $O(log{n})$ times for *insert* and *find*, but it's not necessarily as balanced as it could be.\n",
    "\n",
    "* **Complete Binary Trees**. A complete binary tree is a binary tree in which every level of the tree is fully filled, except perhaps the last level. To the extent that the last level is filled, it is filled left to right.\n",
    "\n",
    "* **Full Binary Trees**. A full binary tree is a binary tree in which every node has either zero or two children. That is, no nodes have only one child.\n",
    "\n",
    "* **Perfect Binary Trees**. A perfect binary tree is one that is both full and complete. All leaf nodes will be at the same level, and the level has the maximum number of nodes.\n",
    "\n",
    "* **Height-balanced Binary Trees**. A binary tree is said to be height-balanced if for each node in the tree, the difference in the height of its left and right subtrees is at most one.\n",
    "\n",
    "## Binary Tree Traversal\n",
    "\n",
    "* **In-order traversal**. In-order traversal means to \"visit\" (often, print) the **left** branch, then the **current node**, and finally, the **right** branch.\n",
    "* **Pre-order traversal**. Pre-order traversal visits the current node before its child nodes (hence the name \"pre-order\").\n",
    "* **Post-order traversal**. Post-order traversal visits the current node after its child nodes (hence the name \"post-order\").\n"
   ]
  },
  {
   "cell_type": "code",
   "execution_count": 18,
   "metadata": {},
   "outputs": [],
   "source": [
    "class Node:\n",
    "    def __init__(self, value):\n",
    "        self.value = value\n",
    "        self.left = None\n",
    "        self.right = None\n",
    "\n",
    "class BinaryTree:\n",
    "    def __init__(self, value):\n",
    "        self.root = Node(value)\n",
    "        \n",
    "    def inorder_trav(self, start, traversal):\n",
    "        \"\"\"left -> root -> right\"\"\"\n",
    "        if start:\n",
    "            traversal = self.inorder_trav(start.left, traversal)\n",
    "            traversal += str(start.value) + '-'\n",
    "            traversal = self.inorder_trav(start.right, traversal)\n",
    "        return traversal\n",
    "        \n",
    "    def preorder_trav(self, start, traversal):\n",
    "        \"\"\"root -> left -> right\"\"\"\n",
    "        if start:\n",
    "            traversal += str(start.value) + '-'\n",
    "            traversal = self.preorder_trav(start.left, traversal)\n",
    "            traversal = self.preorder_trav(start.right, traversal)\n",
    "        return traversal\n",
    "    \n",
    "    def postorder_trav(self, start, traversal):\n",
    "        \"\"\"left -> right -> root\"\"\"\n",
    "        if start:\n",
    "            traversal = self.postorder_trav(start.left, traversal)\n",
    "            traversal = self.postorder_trav(start.right, traversal)\n",
    "            traversal += str(start.value) + '-'\n",
    "        return traversal"
   ]
  },
  {
   "cell_type": "markdown",
   "metadata": {},
   "source": [
    "Create the following tree and print in-order, pre-order, and post-order traversals.\n",
    "\n",
    "                        5\n",
    "                     /     \\\n",
    "                    2       7\n",
    "                  /  \\       \\\n",
    "                 1    8       3\n",
    "                 "
   ]
  },
  {
   "cell_type": "code",
   "execution_count": 22,
   "metadata": {},
   "outputs": [
    {
     "name": "stdout",
     "output_type": "stream",
     "text": [
      "inorder traversal..... 1-2-8-5-7-3-\n",
      "preorder traversal ... 5-2-1-8-7-3-\n",
      "postorder traversal... 1-8-2-3-7-5-\n"
     ]
    }
   ],
   "source": [
    "tree = BinaryTree(5)\n",
    "tree.root.left = Node(2)\n",
    "tree.root.left.left = Node(1)\n",
    "tree.root.left.right = Node(8)\n",
    "tree.root.right = Node(7)\n",
    "tree.root.right.right = Node(3)\n",
    "\n",
    "print('inorder traversal.....', tree.inorder_trav(tree.root, \"\"))\n",
    "print('preorder traversal ...', tree.preorder_trav(tree.root, \"\"))\n",
    "print('postorder traversal...', tree.postorder_trav(tree.root, \"\"))"
   ]
  }
 ],
 "metadata": {
  "kernelspec": {
   "display_name": "Python 3",
   "language": "python",
   "name": "python3"
  },
  "language_info": {
   "codemirror_mode": {
    "name": "ipython",
    "version": 3
   },
   "file_extension": ".py",
   "mimetype": "text/x-python",
   "name": "python",
   "nbconvert_exporter": "python",
   "pygments_lexer": "ipython3",
   "version": "3.7.3"
  }
 },
 "nbformat": 4,
 "nbformat_minor": 4
}
