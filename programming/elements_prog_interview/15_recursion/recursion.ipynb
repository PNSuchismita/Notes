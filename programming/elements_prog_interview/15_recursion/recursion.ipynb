{
 "cells": [
  {
   "cell_type": "markdown",
   "metadata": {},
   "source": [
    "# Elements of Programming Interview\n",
    "\n",
    "## Recursion\n",
    "\n",
    "Recursion is an approach to a problem solving where the solution depends partially on solutions to smaller instances of related problems.   \n",
    "\n",
    "A recursive functions consists of **base cases** and **calls to the same function** with different arguments. Two key ingredients to a successful use of recursion are: \n",
    "* Identifying the base cases, which are to be solved directly.\n",
    "* Ensuring progress, that is the recursion converges to the solution.\n",
    "\n",
    "**Note**: Divide-and-conquer is not synonymous with recursion. In divide-and-conquer, the problem is divided into two or more independent smaller problems that are of the same type as the original problem. Recursion is more general - there may be a single subproblem, and the subproblems may not be of the same type as the original.\n",
    "\n",
    "### Recursion Boot Camp\n",
    "\n",
    "**Problem**: Calculate the greatest common divisor (GCD) of two numbers.  \n",
    "**Solution**: The central idea is that if $y > x$, the GCD of $x$ and $y$ is the GCD of $x$ and $y-x$. By extension, this implies that the GCD of $x$ and $y$ is the GCD of $x$ and $y$ mod $x$, i.e., GCD(156, 36) = GCD((156 mod 36)=12, 36) = GCD(12, (36 mod 12)=0) = 12"
   ]
  },
  {
   "cell_type": "code",
   "execution_count": 1,
   "metadata": {},
   "outputs": [
    {
     "data": {
      "text/plain": [
       "12"
      ]
     },
     "execution_count": 1,
     "metadata": {},
     "output_type": "execute_result"
    }
   ],
   "source": [
    "def gcd(x, y):\n",
    "    return x if y == 0 else gcd(y, x % y)\n",
    "\n",
    "gcd(156, 36)"
   ]
  },
  {
   "cell_type": "markdown",
   "metadata": {},
   "source": [
    "* Recursion is especially suitable when the **input is expressed using recursive rules** such as a computer grammar.\n",
    "* Recursion is a good choice for **search, enumeration**, and **divide-and-conquer**.\n",
    "* Use recursion as **alternative to deeply nested iteration** loops. For example, recursion is much better when you have an undefined number of levels, such as the IP address problem generalized to k substrings.\n",
    "* If you are asked to **remove recursion** from a program, consider mimicking call stack with the **stack data structure**.\n",
    "* Recursion can be easily removed from a **tail-recursive** program by using a while loop - no stack is needed. (Optimizing compilers do this.)\n",
    "* If a recursive function may end up being called with the **same arguments** more tha nonce, **cache** the results - this is the idea behind Dynamic Programming."
   ]
  }
 ],
 "metadata": {
  "kernelspec": {
   "display_name": "Python 3",
   "language": "python",
   "name": "python3"
  },
  "language_info": {
   "codemirror_mode": {
    "name": "ipython",
    "version": 3
   },
   "file_extension": ".py",
   "mimetype": "text/x-python",
   "name": "python",
   "nbconvert_exporter": "python",
   "pygments_lexer": "ipython3",
   "version": "3.7.3"
  }
 },
 "nbformat": 4,
 "nbformat_minor": 4
}
