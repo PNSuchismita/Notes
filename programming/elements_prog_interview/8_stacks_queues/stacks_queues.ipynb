{
 "cells": [
  {
   "cell_type": "markdown",
   "metadata": {},
   "source": [
    "# Elemenets of Programming Interview\n",
    "\n",
    "# Stacks and Queues\n",
    "\n",
    "* **Stacks**: Stacks support last-in, first-out (LIFO) semantics for inserts and deletes. Parsing typically benefits from a stack.\n",
    "    * pop(): Remove the top item from the stack. $O(1)$\n",
    "    * push(item): Add an item to the top of the stack. $O(1)$\n",
    "    * peek(): Return the top of the stack. \n",
    "    * isEmpty(): Return true if and only if the stack is empty\n",
    "* **Queues**: Queues support first-in, first-out (FIFO) semantics for inserts and deletes. Queues are ideal when order needs to be preserved.\n",
    "    * add(item): Add an item to the end of the list. $O(1)$\n",
    "    * remove(): Remove the first item in the list. $O(1)$\n",
    "    * peek(): Return the top of the queue.\n",
    "    * isEmpty(): Return true if and only if the queue is empty."
   ]
  },
  {
   "cell_type": "code",
   "execution_count": 1,
   "metadata": {},
   "outputs": [
    {
     "name": "stdout",
     "output_type": "stream",
     "text": [
      "1... True\n",
      "2... ['A']\n",
      "3... ['A', 'B', 'C']\n",
      "4... C\n",
      "5... ['A', 'B']\n"
     ]
    }
   ],
   "source": [
    "# Stack\n",
    "class Stack:\n",
    "    def __init__(self):\n",
    "        self.items = []\n",
    "    \n",
    "    def pop(self):\n",
    "        return self.items.pop()\n",
    "    \n",
    "    def push(self, item):\n",
    "        self.items.append(item)\n",
    "    \n",
    "    def peek(self):\n",
    "        return self.items[-1]\n",
    "    \n",
    "    def isEmpty(self):\n",
    "        return self.items == []\n",
    "    \n",
    "    def get_stack(self):\n",
    "        return self.items\n",
    "    \n",
    "s = Stack()\n",
    "print('1...', s.isEmpty())\n",
    "s.push('A')\n",
    "print('2...', s.items)\n",
    "s.push('B')\n",
    "s.push('C')\n",
    "print('3...', s.items)\n",
    "print('4...', s.peek())\n",
    "s.pop()\n",
    "print('5...', s.items)"
   ]
  },
  {
   "cell_type": "code",
   "execution_count": 2,
   "metadata": {},
   "outputs": [
    {
     "name": "stdout",
     "output_type": "stream",
     "text": [
      "1... True\n",
      "2... ['A']\n",
      "3... ['C', 'B', 'A']\n",
      "4... A\n",
      "5... ['C', 'B']\n"
     ]
    }
   ],
   "source": [
    "# Queue\n",
    "class Queue:\n",
    "    def __init__(self):\n",
    "        self.items = []\n",
    "        \n",
    "    def enqueue(self, item):\n",
    "        self.items.insert(0, item)\n",
    "        \n",
    "    def dequeue(self):\n",
    "        self.items.pop()\n",
    "           \n",
    "    def peek(self):\n",
    "        return self.items[-1]\n",
    "    \n",
    "    def isEmpty(self):\n",
    "        return self.items == []\n",
    "    \n",
    "    def size(self):\n",
    "        return len(self.items)\n",
    "        \n",
    "q = Queue()\n",
    "print('1...', q.isEmpty())\n",
    "q.enqueue('A')\n",
    "print('2...', q.items)\n",
    "q.enqueue('B')\n",
    "q.enqueue('C')\n",
    "print('3...', q.items)\n",
    "print('4...', q.peek())\n",
    "q.dequeue()\n",
    "print('5...', q.items)"
   ]
  },
  {
   "cell_type": "markdown",
   "metadata": {},
   "source": [
    "**Stack Problem**: Using stack, print the entriws of a singly-linked list in reversed order.  \n",
    "**Solution**: Time complexity = $O(n)$, where n is the number of nodes in the list."
   ]
  },
  {
   "cell_type": "code",
   "execution_count": 3,
   "metadata": {},
   "outputs": [],
   "source": [
    "def print_linked_list_in_reverse(head):\n",
    "    nodes = []\n",
    "    while head:\n",
    "        nodes.append(head.data)\n",
    "        head = head.next\n",
    "    while nodes:\n",
    "        print(nodes.pop())"
   ]
  }
 ],
 "metadata": {
  "kernelspec": {
   "display_name": "Python 3",
   "language": "python",
   "name": "python3"
  },
  "language_info": {
   "codemirror_mode": {
    "name": "ipython",
    "version": 3
   },
   "file_extension": ".py",
   "mimetype": "text/x-python",
   "name": "python",
   "nbconvert_exporter": "python",
   "pygments_lexer": "ipython3",
   "version": "3.7.3"
  }
 },
 "nbformat": 4,
 "nbformat_minor": 4
}
