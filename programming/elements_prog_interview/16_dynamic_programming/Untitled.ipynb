{
 "cells": [
  {
   "cell_type": "markdown",
   "metadata": {},
   "source": [
    "# Elements of Programming Interview\n",
    "\n",
    "## Dynamic Programming\n",
    "\n",
    "* Like divide-and-conquer, DP solves the problem by combining the solutions of multiple smaller problems, but what makes DP different is that the same subproblem may reoccur. \n",
    "* Therefore, a key to making DP efficient is caching the results of intermediate computations. \n",
    "* Problems whose solutions use DP are a popular choice for hard interview questions.\n",
    "\n",
    "**Example**: Caching intermediate results makes the time complexity for computing the *n*th Fibonacci number linear in *n*, albeit at the expense of $O(n)$ storage."
   ]
  },
  {
   "cell_type": "code",
   "execution_count": 8,
   "metadata": {},
   "outputs": [
    {
     "data": {
      "text/plain": [
       "3"
      ]
     },
     "execution_count": 8,
     "metadata": {},
     "output_type": "execute_result"
    }
   ],
   "source": [
    "def fibonacci(n, cache={}):\n",
    "    if n <= 1:\n",
    "        return n\n",
    "    elif n not in cache:\n",
    "        cache[n] = fibonacci(n - 1) + fibonacci(n - 2)\n",
    "    return cache[n]\n",
    "\n",
    "\n",
    "fibonacci(4)"
   ]
  },
  {
   "cell_type": "markdown",
   "metadata": {},
   "source": [
    "* Program to compute $F(n)$ in $O(n)$ time and $O(1)$ space.\n",
    "* This program iteratively fills in the cache in a bottom-up fashion, which allows it to reuse cache storage to reduce the space complexity of th ecache."
   ]
  },
  {
   "cell_type": "code",
   "execution_count": 10,
   "metadata": {},
   "outputs": [
    {
     "data": {
      "text/plain": [
       "3"
      ]
     },
     "execution_count": 10,
     "metadata": {},
     "output_type": "execute_result"
    }
   ],
   "source": [
    "def fibonacci(n):\n",
    "    if n <= 1:\n",
    "        return n\n",
    "    f_minus_1, f_minus_2 = 1, 0\n",
    "    for _ in range(1, n):\n",
    "        f = f_minus_1 + f_minus_2\n",
    "        f_minus_1, f_minus_2 = f, f_minus_1\n",
    "    return f_minus_1\n",
    "\n",
    "\n",
    "fibonacci(4)"
   ]
  },
  {
   "cell_type": "markdown",
   "metadata": {},
   "source": [
    "The key to solving a DP problem efficiently is finding a way to break the problem into subproblems such that\n",
    "\n",
    "* the original problem can be solved relatively easily once solutions to the subproblems are available, and\n",
    "* these subproblem solutions are cached."
   ]
  }
 ],
 "metadata": {
  "kernelspec": {
   "display_name": "Python 3",
   "language": "python",
   "name": "python3"
  },
  "language_info": {
   "codemirror_mode": {
    "name": "ipython",
    "version": 3
   },
   "file_extension": ".py",
   "mimetype": "text/x-python",
   "name": "python",
   "nbconvert_exporter": "python",
   "pygments_lexer": "ipython3",
   "version": "3.7.3"
  }
 },
 "nbformat": 4,
 "nbformat_minor": 4
}
