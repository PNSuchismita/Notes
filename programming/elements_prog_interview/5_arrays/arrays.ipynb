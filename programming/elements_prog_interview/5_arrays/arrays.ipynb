{
 "cells": [
  {
   "cell_type": "markdown",
   "metadata": {},
   "source": [
    "# Elemenets of Programming Interview\n",
    "\n",
    "# Arrays\n",
    "\n",
    "* Array is a contiguous block of memory. It is usually used to represent sequences.\n",
    "* A *sequence* type is one that supports the membership operator (*in*), the size function (*len()*), slices (*[]*), and is iterable.  \n",
    "\n",
    "Given an array $A$, $A[i]$ denotes the $(i+1)$th object stored in the array.\n",
    "* Retrieving and updating $A[i]$ takes $O(1)$\n",
    "* Deleting the element at index $i$ from an array of length $n$ takes $O(n-i)$\n",
    "\n",
    "**Problem**: Given an input array of integers, reorder its entries so that the even entries appear first.  \n",
    "**Solution**: Without additional storage"
   ]
  },
  {
   "cell_type": "code",
   "execution_count": 2,
   "metadata": {},
   "outputs": [
    {
     "name": "stdout",
     "output_type": "stream",
     "text": [
      "[8, 4, 2, 3, 1, 9]\n"
     ]
    }
   ],
   "source": [
    "def even_odd(A):\n",
    "    next_even, next_odd = 0, len(A) - 1\n",
    "    while next_even < next_odd:\n",
    "        if A[next_even] % 2 == 0:\n",
    "            next_even += 1\n",
    "        else:\n",
    "            A[next_even], A[next_odd] = A[next_odd], A[next_even]\n",
    "            next_odd -= 1\n",
    "    return A\n",
    "            \n",
    "print(even_odd([8,9,2,1,3,4]))"
   ]
  },
  {
   "cell_type": "markdown",
   "metadata": {},
   "source": [
    "## Know your array libraries\n",
    "\n",
    "* Arrays in Python are provided by the *list* type.\n",
    "* Key property: dynamically-resized"
   ]
  },
  {
   "cell_type": "markdown",
   "metadata": {},
   "source": [
    "## Time Complexity (list)\n",
    "\n",
    "https://wiki.python.org/moin/TimeComplexity#list\n",
    "\n",
    "* Generally, 'n' is the number of elements currently in the container. 'k' is either the value of a parameter or the number of elements in the parameter.\n",
    "* The Average Case assumes parameters generated uniformly at random.\n",
    "* The largest costs come from growing beyond the current allocation size (because everything must move), or from inserting or deleting somewhere near the beginning (because everything after that must move).\n",
    "\n",
    "| Operation | Average Case |Amortized Worst Case\n",
    "| :-------: | :----------: | :-----------------:\n",
    "| Copy | O(n) | O(n)\n",
    "| Append[1] | O(1) | O(1)\n",
    "| Pop last | O(1) | O(1)\n",
    "| Pop intermediate | O(k) | O(k)\n",
    "| Insert | O(n) | O(n)\n",
    "| Get Item | O(1) | O(1)\n",
    "| Set Item | O(1) | O(1)\n",
    "| Delete Item | O(n) | O(n)\n",
    "| Iteration | O(n) | O(n)\n",
    "| Get Slice | O(k) | O(k)\n",
    "| Del Slice | O(n) | O(n)\n",
    "| Set Slice | O(k+n) | O(k+n)\n",
    "| Extend[1] | O(k) | O(k)\n",
    "| Sort | O(n log n) | O(n log n)\n",
    "| Multiply | O(nk) | O(nk)\n",
    "| x in s | O(n)\n",
    "| min(s), max(s) | O(n)\n",
    "| Get Length | O(1) | O(1)\n"
   ]
  },
  {
   "cell_type": "markdown",
   "metadata": {},
   "source": [
    "### Instantiating a list"
   ]
  },
  {
   "cell_type": "code",
   "execution_count": 2,
   "metadata": {},
   "outputs": [
    {
     "name": "stdout",
     "output_type": "stream",
     "text": [
      "l1 ..... [1, 2, 3, 2] \n",
      "l2 ..... [1, 2, 2, 0] \n",
      "l3 ..... [1, 2]\n"
     ]
    }
   ],
   "source": [
    "l1 = [1, 2, 3, 2]\n",
    "l2 = [1] + [2]*2 + [0]\n",
    "l3 = list(range(1, 3))\n",
    "print(f'l1 ..... {l1}',\n",
    "      f'\\nl2 ..... {l2}',\n",
    "      f'\\nl3 ..... {l3}')"
   ]
  },
  {
   "cell_type": "markdown",
   "metadata": {},
   "source": [
    "### Basic operations"
   ]
  },
  {
   "cell_type": "code",
   "execution_count": 3,
   "metadata": {},
   "outputs": [
    {
     "name": "stdout",
     "output_type": "stream",
     "text": [
      "length of l1 before removing or adding elements ... 4 \n",
      "l1 after removing and adding elements ............. [1, 3, 2, 'araks', 4]\n"
     ]
    }
   ],
   "source": [
    "length = len(l1)\n",
    "l1.append(4)\n",
    "l1.remove(2)\n",
    "l1.insert(3, 'araks')\n",
    "print(f'length of l1 before removing or adding elements ... {length}',\n",
    "      f'\\nl1 after removing and adding elements ............. {l1}')"
   ]
  },
  {
   "cell_type": "code",
   "execution_count": 4,
   "metadata": {},
   "outputs": [
    {
     "data": {
      "text/plain": [
       "True"
      ]
     },
     "execution_count": 4,
     "metadata": {},
     "output_type": "execute_result"
    }
   ],
   "source": [
    "'araks' in l1"
   ]
  },
  {
   "cell_type": "markdown",
   "metadata": {},
   "source": [
    "### Sort"
   ]
  },
  {
   "cell_type": "code",
   "execution_count": 5,
   "metadata": {},
   "outputs": [
    {
     "name": "stdout",
     "output_type": "stream",
     "text": [
      "l2 ..... [1, 2, 2, 0]\n",
      "l2 ..... [0, 1, 2, 2]\n"
     ]
    }
   ],
   "source": [
    "# returns a copy\n",
    "sorted(l2)\n",
    "print(f'l2 ..... {l2}')\n",
    "\n",
    "# in-place\n",
    "l2.sort()\n",
    "print(f'l2 ..... {l2}')"
   ]
  },
  {
   "cell_type": "markdown",
   "metadata": {},
   "source": [
    "### Reverse"
   ]
  },
  {
   "cell_type": "code",
   "execution_count": 6,
   "metadata": {},
   "outputs": [
    {
     "name": "stdout",
     "output_type": "stream",
     "text": [
      "l2 ... [0, 1, 2, 2]\n",
      "l2 ... [2, 2, 1, 0]\n"
     ]
    }
   ],
   "source": [
    "# returns an iterator\n",
    "reversed(l2)\n",
    "print(f'l2 ... {l2}')\n",
    "\n",
    "# in-place\n",
    "l2.reverse()\n",
    "print(f'l2 ... {l2}')"
   ]
  }
 ],
 "metadata": {
  "kernelspec": {
   "display_name": "Python 3",
   "language": "python",
   "name": "python3"
  },
  "language_info": {
   "codemirror_mode": {
    "name": "ipython",
    "version": 3
   },
   "file_extension": ".py",
   "mimetype": "text/x-python",
   "name": "python",
   "nbconvert_exporter": "python",
   "pygments_lexer": "ipython3",
   "version": "3.7.3"
  }
 },
 "nbformat": 4,
 "nbformat_minor": 4
}
