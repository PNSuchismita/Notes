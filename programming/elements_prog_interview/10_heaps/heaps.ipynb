{
 "cells": [
  {
   "cell_type": "markdown",
   "metadata": {},
   "source": [
    "# Elements of Programming Interview\n",
    "\n",
    "# Heaps\n",
    "\n",
    "A heap is a specialized binary tree. Specifically\n",
    "\n",
    "1. It is a **complete tree***.\n",
    "2. The keys must satisfy the **heap property**.\n",
    "    * **Max-heap**: The key at each node is at least as **great** as the keys stored at its children. \n",
    "    * **Min-heap**: The key at each node is at least as **small** as the keys stored at its children.\n",
    "\n",
    "*A complete binary tree is a binary tree in which every level of the tree is fully filled, except perhaps the last level. To the extent that the last level is filled, it is filled left to right.\n",
    "\n",
    "## Implemented as an array\n",
    "\n",
    "The children of the node at index $i$ are at indices $2i+1$ and $2i+2$\n",
    "\n",
    "## Time Complexities\n",
    "\n",
    "| Operation | Time complexity |\n",
    "| --------- | --------------- |\n",
    "| Insertion | $O(log{n})$     |\n",
    "| Lookup for max (max-heap) or min (min-heap) | $O(1)$ |\n",
    "| Delete max (max-heap) or min (min-heap) | $O(log{n})$ |\n",
    "| Searching for arbitrary keys | $O(n)$ |\n",
    "\n",
    "\n",
    "## Note\n",
    "\n",
    "* Use a heap when **all you care about** is the **largest** or **smallest** elements, and you **do not need** to support fast lookup, delete, or search operations for arbitrary elements.\n",
    "\n",
    "* A heap is a good choice when you need to comute the $k$ **largest or $k$ smallest** elements in a collection. For the former, use a min-heap, for the latter, use a max-heap.\n"
   ]
  },
  {
   "cell_type": "markdown",
   "metadata": {},
   "source": [
    "**Problem**: Write a program which takes a sequence of strings presented in \"streaming\" fashion: you cannot back up to read an earlier valu. The program must compute the $k$ longest strings in the sequence. \n",
    "**Solution**: A mean-heap (not a max-heap!) is the right data structure for this application, since it supports efficient find-min, remove-min, and insert."
   ]
  },
  {
   "cell_type": "code",
   "execution_count": 25,
   "metadata": {},
   "outputs": [
    {
     "name": "stdout",
     "output_type": "stream",
     "text": [
      "['coffee', 'dinner', 'breakfast', 'restaurant']\n"
     ]
    }
   ],
   "source": [
    "import heapq\n",
    "import itertools\n",
    "\n",
    "def top_k1(k, stream):\n",
    "    # Entries are compared by their lengths.\n",
    "    min_heap = [(len(s), s) for s in itertools.islice(stream, k)]\n",
    "    heapq.heapify(min_heap)\n",
    "    for next_string in stream:\n",
    "        # Push next_string and pop the shortest string in min_heap.\n",
    "        heapq.heappushpop(min_heap, (len(next_string), next_string))\n",
    "    return [p[1] for p in heapq.nsmallest(k, min_heap)]\n",
    "\n",
    "stream = (word for word in ['bed', 'breakfast', 'lunch', 'dinner', 'restaurant', 'coffee', 'tea', 'a', 'is'])\n",
    "print(top_k1(4, stream))"
   ]
  },
  {
   "cell_type": "markdown",
   "metadata": {},
   "source": [
    "**Notice** that in the above code **stream = (word for word in ['bed', 'breakfast', 'lunch', 'dinner', 'restaurant', 'coffee', 'tea', 'a', 'is'])** is a generator, not a sequence. That's why in the function *top_k* we iterate over the elements of *stream* and not *stream[k:]*. We would use *stream[k:]* if we were given a sequence (for example a list) instead of a streaming data. See bellow for the difference."
   ]
  },
  {
   "cell_type": "code",
   "execution_count": 26,
   "metadata": {},
   "outputs": [
    {
     "name": "stdout",
     "output_type": "stream",
     "text": [
      "['coffee', 'dinner', 'breakfast', 'restaurant']\n"
     ]
    }
   ],
   "source": [
    "import heapq\n",
    "import itertools\n",
    "\n",
    "def top_k2(k, sequence):\n",
    "    # Entries are compared by their lengths.\n",
    "    min_heap = [(len(s), s) for s in sequence[:k]]\n",
    "    heapq.heapify(min_heap)\n",
    "    for next_string in sequence[k:]:\n",
    "        # Push next_string and pop the shortest string in min_heap.\n",
    "        heapq.heappushpop(min_heap, (len(next_string), next_string))\n",
    "    return [p[1] for p in heapq.nsmallest(k, min_heap)]\n",
    "\n",
    "sequence = ['bed', 'breakfast', 'lunch', 'dinner', 'restaurant', 'coffee', 'tea', 'a', 'is']\n",
    "print(top_k2(4, sequence))"
   ]
  },
  {
   "cell_type": "markdown",
   "metadata": {},
   "source": [
    "## *heapq* module\n",
    "\n",
    "**Important**: heapq only provides min-heap functionality. To build a max-heap on integers or floats, insert their negative to get the effect of a max-heap using heapq.\n",
    "\n",
    "* **heapq.heapify(L)**: Transforms the elements in L into a heap in-place.\n",
    "* **heapq.nlargest(k, L) (heapq.nsmallest(k, L))**: Returns the $k$ largest (smallest) elements in L.\n",
    "* **heapq.heappush(h, e)**: Pushes a new element on the heap.\n",
    "* **heapq.heappop(h)**: Pops the smallest element from the heap.\n",
    "* **heapq.heappushpop(h, a)**: Pushes $a$ on the heap and then pops and returns the smallest element.\n",
    "* **e = h[0]**: Returns the smallest element on the heap without popping it.\n",
    "\n"
   ]
  }
 ],
 "metadata": {
  "kernelspec": {
   "display_name": "Python 3",
   "language": "python",
   "name": "python3"
  },
  "language_info": {
   "codemirror_mode": {
    "name": "ipython",
    "version": 3
   },
   "file_extension": ".py",
   "mimetype": "text/x-python",
   "name": "python",
   "nbconvert_exporter": "python",
   "pygments_lexer": "ipython3",
   "version": "3.7.3"
  }
 },
 "nbformat": 4,
 "nbformat_minor": 4
}
