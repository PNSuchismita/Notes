{
 "cells": [
  {
   "cell_type": "markdown",
   "metadata": {},
   "source": [
    "# Elements of Programming Interview\n",
    "\n",
    "## Greedy Algorithms and Invariants\n",
    "\n",
    "* A greedy algorithm is an algorithm that computes a solutionin steps; at each step the algorithm makes a decision that is locally optimum, and it never changes that decision\n",
    "* It does not necessarily produce the optimum solution\n",
    "\n",
    "**Example**: For US currency, where coins take values 1, 5, 10, 25, 100 cents, the **greedy** algorithm for making change **results in the minimum number of coins**.  \n",
    "* Time = $O(1)$ as we perform 6 iterations, and each iteration does a constant amount of computation"
   ]
  },
  {
   "cell_type": "code",
   "execution_count": 1,
   "metadata": {},
   "outputs": [
    {
     "data": {
      "text/plain": [
       "5"
      ]
     },
     "execution_count": 1,
     "metadata": {},
     "output_type": "execute_result"
    }
   ],
   "source": [
    "def change_making(cents):\n",
    "    coins = [100, 50, 25, 10, 5, 1]\n",
    "    num_coins = 0\n",
    "    for coin in coins:\n",
    "        num_coins += cents // coin\n",
    "        cents %= coin\n",
    "    return num_coins\n",
    "change_making(240)"
   ]
  },
  {
   "cell_type": "markdown",
   "metadata": {},
   "source": [
    "* A greedy algorithm is often the right choice for an **optimization problem** where there's a natural set of **choices to select from**\n",
    "* It's often easier to conceptualize a greedy algorithm recursively, and then **implement** it using iteration for higher performance.\n",
    "* Even if the greedy algorithm does not yield an optimum solution, it can give insights into the optimum algorithm, or serve as a heuristic.\n",
    "* Sometimes the correct greedy algorithm is **not obvious**."
   ]
  },
  {
   "cell_type": "markdown",
   "metadata": {},
   "source": [
    "### Invariants\n",
    "\n",
    "* An invariant is a condition that is true during execution of a program\n",
    "* A well-chose invariant can be used to rule out potential solutions that are suboptimal or dominated by other solutions\n",
    "* For example, binary search maintains the invariant that the space of candidate solutions contains all possible solutions as the algorithm executes\n",
    "\n",
    "**Example**: Given a sorted array and a target, determine whether there are 2 numbers in the array that add up to the target.\n",
    "* **Brute-force**. Pair of nested for loops => time = $O(n^2)$, space = $O(1)$\n",
    "* **Better**. Create dictionary for each el in the dictionary check whether *target-el* is in the dictionary => time = $O(n)$, space = $O(n)$\n",
    "* **Best: invariants**. Maintain a subarray that is guaranteed to hold a solution, if it exists. This subarray is initialized to the entire array, and iteratively shrunk from one side or the other. => time = $O(n)$, space = $O(1)$"
   ]
  },
  {
   "cell_type": "code",
   "execution_count": 2,
   "metadata": {},
   "outputs": [
    {
     "name": "stdout",
     "output_type": "stream",
     "text": [
      "True\n",
      "False\n"
     ]
    }
   ],
   "source": [
    "def has_two_sum(A, t):\n",
    "    i, j = 0, len(A) - 1\n",
    "    \n",
    "    while i <= j:\n",
    "        if A[i] + A[j] == t:\n",
    "            return True\n",
    "        elif A[i] + A[j] < t:\n",
    "            i += 1\n",
    "        else: # A[i] + A[j] > t\n",
    "            j -= 1\n",
    "    return False\n",
    "\n",
    "print(has_two_sum([-2, 1, 2, 4, 7, 11], 6))\n",
    "print(has_two_sum([-2, 1, 2, 4, 7, 11], 10))"
   ]
  },
  {
   "cell_type": "markdown",
   "metadata": {},
   "source": [
    "* Identifying the right invariant is an art. The key strategy to determine whether to use an invariant when designing an algorithm is to work on **small examples** to hypothesize the invariant.\n",
    "* Often, the invariant is a subset of the set of input space, e.g., a subarray."
   ]
  }
 ],
 "metadata": {
  "kernelspec": {
   "display_name": "Python 3",
   "language": "python",
   "name": "python3"
  },
  "language_info": {
   "codemirror_mode": {
    "name": "ipython",
    "version": 3
   },
   "file_extension": ".py",
   "mimetype": "text/x-python",
   "name": "python",
   "nbconvert_exporter": "python",
   "pygments_lexer": "ipython3",
   "version": "3.7.3"
  }
 },
 "nbformat": 4,
 "nbformat_minor": 4
}
