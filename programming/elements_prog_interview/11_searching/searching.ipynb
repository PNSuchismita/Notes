{
 "cells": [
  {
   "cell_type": "markdown",
   "metadata": {},
   "source": [
    "# Elements of Programming Interview\n",
    "\n",
    "# Searcing\n",
    "\n",
    "Here, we will focus on static data stored in sorted order in an array.\n",
    "\n",
    "## Binary Search\n",
    "\n",
    "* Binary search's idea is to eliminate half the keys from consideration by keeping the keys in sorted order. \n",
    "    * If the search key is not equal to the middle element of the array, one of the two sets of keys to the left and to the right of the middle element can be eliminated from further consideration.\n",
    "* The time complexity of binary search is $O(\\log{n})$, which is far superior to the $O(n)$ approach needed when the keys are unsorted. "
   ]
  },
  {
   "cell_type": "code",
   "execution_count": 1,
   "metadata": {},
   "outputs": [
    {
     "name": "stdout",
     "output_type": "stream",
     "text": [
      "3\n"
     ]
    }
   ],
   "source": [
    "def bsearch(L, v):\n",
    "    \"\"\"\n",
    "    Binary search\n",
    "    :param L: List[int]\n",
    "    :param v: int\n",
    "    :return: -1 if v not in the list, else the index of v\n",
    "    \"\"\"\n",
    "    left, right = 0, len(L) - 1\n",
    "    while left <= right:\n",
    "        middle = left + (right - left) // 2\n",
    "        if L[middle] < v:\n",
    "            left = middle + 1\n",
    "        elif L[middle] == v:\n",
    "            return middle\n",
    "        else:\n",
    "            right = middle - 1\n",
    "    return -1\n",
    "\n",
    "print(bsearch([1, 5 , 7, 9, 20, 100], 9))"
   ]
  },
  {
   "cell_type": "markdown",
   "metadata": {},
   "source": [
    "## *Know your searching libraries*\n",
    "\n",
    "The **bisect** module provides binary search functions for sorted list. Specifically, assuming L is a sorted list.\n",
    "* To find the first element that is not less than a targeted value, use **bisect.bisect_left(L, x)**. This call returns the index of the first entry that is **greater than or equal** to the targeted value. If all elements in the list are less than x, the returned value is len(L).\n",
    "* To find the first element that is greater than a targeted value use **bisect.bisext_right(L, x)**. This call returns the index of the first entry that is **greater than** the targeted value. If all elements in the list are less than or equal to x, the returned value is len(L)."
   ]
  },
  {
   "cell_type": "markdown",
   "metadata": {},
   "source": [
    "## Generalized Search\n",
    "\n",
    "There are a number of search problems that do not use the binary search principle. For example, they\n",
    "* focus on tradeoffs between RAM and computation time,\n",
    "* avoid wasted comparisons when searching for the minimum and maximum simultaneously,\n",
    "* use randomization to perform elimination efficiently,\n",
    "* use bit-level manipulations to identify missing elements,\n",
    "* etc."
   ]
  }
 ],
 "metadata": {
  "kernelspec": {
   "display_name": "Python 3",
   "language": "python",
   "name": "python3"
  },
  "language_info": {
   "codemirror_mode": {
    "name": "ipython",
    "version": 3
   },
   "file_extension": ".py",
   "mimetype": "text/x-python",
   "name": "python",
   "nbconvert_exporter": "python",
   "pygments_lexer": "ipython3",
   "version": "3.7.3"
  }
 },
 "nbformat": 4,
 "nbformat_minor": 4
}
