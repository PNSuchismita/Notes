{
 "cells": [
  {
   "cell_type": "markdown",
   "metadata": {},
   "source": [
    "# Elements of Programming Interview\n",
    "\n",
    "# Searcing\n",
    "\n",
    "Here, we will focus on static data stored in sorted order in an array.\n",
    "\n",
    "## Binary Search\n",
    "\n",
    "* Binary search's idea is to eliminate half the keys from consideration by keeping the keys in sorted order. \n",
    "    * If the search key is not equal to the middle element of the array, one of the two sets of keys to the left and to the right of the middle element can be eliminated from further consideration.\n",
    "* The time complexity of binary search is $O(\\log{n})$, which is far superior to the $O(n)$ approach needed when the keys are unsorted. "
   ]
  },
  {
   "cell_type": "code",
   "execution_count": 1,
   "metadata": {},
   "outputs": [
    {
     "name": "stdout",
     "output_type": "stream",
     "text": [
      "3\n"
     ]
    }
   ],
   "source": [
    "def bsearch(L, v):\n",
    "    \"\"\"\n",
    "    Binary search\n",
    "    :param L: List[int]\n",
    "    :param v: int\n",
    "    :return: -1 if v not in the list, else the index of v\n",
    "    \"\"\"\n",
    "    left, right = 0, len(L) - 1\n",
    "    while left <= right:\n",
    "        middle = left + (right - left) // 2\n",
    "        if L[middle] < v:\n",
    "            left = middle + 1\n",
    "        elif L[middle] == v:\n",
    "            return middle\n",
    "        else:\n",
    "            right = middle - 1\n",
    "    return -1\n",
    "\n",
    "print(bsearch([1, 5 , 7, 9, 20, 100], 9))"
   ]
  },
  {
   "cell_type": "code",
   "execution_count": null,
   "metadata": {},
   "outputs": [],
   "source": []
  }
 ],
 "metadata": {
  "kernelspec": {
   "display_name": "Python 3",
   "language": "python",
   "name": "python3"
  },
  "language_info": {
   "codemirror_mode": {
    "name": "ipython",
    "version": 3
   },
   "file_extension": ".py",
   "mimetype": "text/x-python",
   "name": "python",
   "nbconvert_exporter": "python",
   "pygments_lexer": "ipython3",
   "version": "3.7.3"
  }
 },
 "nbformat": 4,
 "nbformat_minor": 4
}
