{
 "cells": [
  {
   "cell_type": "markdown",
   "metadata": {},
   "source": [
    "# Elements of Programming Interview\n",
    "\n",
    "# Sorting\n",
    "\n",
    "Sorting is used to preprocess the collection to make searching faster, as well as identify items that are similar.\n",
    "\n",
    "Naive sorting algorithms run in $O(n^2)$ time. A number of sorting algorithms run in $O(n \\log{n})$ time - **heapsort, merge sort**, and **quicksort** are examples.\n",
    "* **Heapsort** is in-place but not stable.\n",
    "* **Merge Sort** is stable but not in-place.\n",
    "* **Quicksort** runs in $O(n^2)$ time in worst-case.\n",
    "\n",
    "An **in-place** sort is one which uses $O(1)$ space; a **stable** sort is one where entries which are equal appear in their original order.\n",
    "\n",
    "* A well-implemented quicksort is usually the best choice for sorting."
   ]
  },
  {
   "cell_type": "markdown",
   "metadata": {},
   "source": [
    "## *Know your sorting libraries*\n",
    "\n",
    "* The **sort()** method implements a stable in-place sort for list objects. It returns None - the calling list itself is updated. \n",
    "* The **sorted** function takes an iterable and returns a new list containing all items from the iterable in ascending order. The original list is unchanged.\n",
    "* Sorting problems come in 2 flavors: (1.) **use sorting to make subsequent steps in an algorithm simpler**, and (2.) design a **custom sorting routine**.\n",
    "* Certain problems become easier to understand, as well as solve, when the input is sorted. Sorting can be used to **speed up searching**.\n",
    "* For **specialized input**, e.g., a very small range of values, or a small number of values, it's possible to sort in $O(n)$ time rather than $O(n \\log{n})$ time.\n",
    "* It's often the case that sorting can be implemented in **less space** than required by a brute-force approach.\n",
    "* Sometimes it is not obvious what to sort on, e.g., should a collection of intervals be sorted on starting points or endpoints?"
   ]
  }
 ],
 "metadata": {
  "kernelspec": {
   "display_name": "Python 3",
   "language": "python",
   "name": "python3"
  },
  "language_info": {
   "codemirror_mode": {
    "name": "ipython",
    "version": 3
   },
   "file_extension": ".py",
   "mimetype": "text/x-python",
   "name": "python",
   "nbconvert_exporter": "python",
   "pygments_lexer": "ipython3",
   "version": "3.7.3"
  }
 },
 "nbformat": 4,
 "nbformat_minor": 4
}
