{
 "cells": [
  {
   "cell_type": "markdown",
   "metadata": {},
   "source": [
    "# Elements of Programming Interview\n",
    "\n",
    "# Strings\n",
    "\n",
    "Strings are represented by the **immutable** *str* data type which holds a sequence of Unicode characters. \n",
    "\n",
    "\n",
    "## Basic Operations\n",
    "\n",
    "### Comparison\n",
    "\n",
    "Strings support the usual comparison operators <, <=, ==, !=, >, and >=. These operators compare strings byte by byte in memory. \n",
    "\n",
    "2 problems (neither is specific to Python):\n",
    "1. Some Unicode characters can be represented by two or more different byte sequences. For example , the character Å (Unicode code point 0x00C5) can be represented in UTF-8 encoded bytes in three different ways: [0xE2, 0x84, 0xAB], [0xC3, 0x85], and [0x41, 0xCC, 0x8A]. \n",
    "    * **Solution**: import $unicodedata$ module and call *unicodedata.normalize()* with \"NFKC\" as the first argument (this is a normalization method-three others are also available, \"NFC\", \"NFD\", and \"NFKD\"), and a string containing Å character using any of its valid byte sequences, the function will return a string that when represented  as UTF-8 encoded bytes will always by the byte sequence [0xC3, 0x85].\n",
    "2. Language-specific sorting of characters. For example, although in english we sort *ø* as if it were *o*, in Danish and norwegian it is sorted after *z*."
   ]
  },
  {
   "cell_type": "code",
   "execution_count": 1,
   "metadata": {},
   "outputs": [
    {
     "data": {
      "text/plain": [
       "True"
      ]
     },
     "execution_count": 1,
     "metadata": {},
     "output_type": "execute_result"
    }
   ],
   "source": [
    "'ø' > 'z'"
   ]
  },
  {
   "cell_type": "markdown",
   "metadata": {},
   "source": [
    "**Problem**. Check whether a string is palindromic.  \n",
    "**Solution**. Time complexity = $O(n)$, space complexity = $O(1)$."
   ]
  },
  {
   "cell_type": "code",
   "execution_count": 2,
   "metadata": {},
   "outputs": [
    {
     "name": "stdout",
     "output_type": "stream",
     "text": [
      "aka ..... True\n",
      "akb ..... False\n"
     ]
    }
   ],
   "source": [
    "def is_palindromic(s):\n",
    "    return all(s[i] == s[-i-1] for i in range(len(s)//2))\n",
    "print('aka .....', is_palindromic('aka'))\n",
    "print('akb .....', is_palindromic('akb'))"
   ]
  },
  {
   "cell_type": "markdown",
   "metadata": {},
   "source": [
    "## Know your String Libraries"
   ]
  },
  {
   "cell_type": "markdown",
   "metadata": {},
   "source": [
    "### Immutable\n",
    "\n",
    "Strings are immutable which means that operations like *s = s[1:]* or *s += '123'* imply creating a new array of characters that is then assigned back to *s*.\n",
    "\n",
    "* Concatenating a single character n times to a string in a for loop has $O(n^2)$ time complexity."
   ]
  },
  {
   "cell_type": "markdown",
   "metadata": {},
   "source": [
    "## How Python saves memory when storing strings\n",
    "https://rushter.com/blog/python-strings-and-memory/\n",
    "\n",
    "**Note**. Double check this information.\n",
    "\n",
    "### How strings are represented in memory\n",
    "\n",
    "Since Python3, the **str** type uses Unicode representation. Python uses 3 kinds of internal representations of Unicode strings:\n",
    "\n",
    "* 1 byte per character (Latin-1 encoding)\n",
    "    * Latin-1 supports many Latin languages, such as English, Swedish, Italian, Norwegian and so on.\n",
    "    * However, it cannot store non-Latin languages, such as Chinese, Japanese, Hebrew, Cyrillic.\n",
    "* 2 bytes per character-UCS-2 encoding (UTF-16)\n",
    "    * Most of the popular natural languages can fit in 2-byte.\n",
    "* 4 bytes per character-UCS-4 encoding (UTF-32)\n",
    "    * is used when a string contains special symbols, emojis or rare languages.\n",
    "    \n",
    "\n",
    "|       | UTF-8 encoding | Fixed length encoding |\n",
    "| ------| -------------- | -- |\n",
    "| **Storage Efficient** | **Yes**: Each character is encoded using 1-4 bytes depending on the character it is representing | **No**: If you insert a single emoji in our text the size of a string will increase by the factor of 4! \n",
    "| **$O(1)$ locating a character by index** | **No**: To perform a simple operation such as *string[5]* with UTF-8 Python would need to scan the string until it finds the required character | **Yes**: To locate a character by index Python just multiplies an index number by the length of one character (1, 2 or 4 bytes)"
   ]
  }
 ],
 "metadata": {
  "kernelspec": {
   "display_name": "Python 3",
   "language": "python",
   "name": "python3"
  },
  "language_info": {
   "codemirror_mode": {
    "name": "ipython",
    "version": 3
   },
   "file_extension": ".py",
   "mimetype": "text/x-python",
   "name": "python",
   "nbconvert_exporter": "python",
   "pygments_lexer": "ipython3",
   "version": "3.7.3"
  }
 },
 "nbformat": 4,
 "nbformat_minor": 4
}
