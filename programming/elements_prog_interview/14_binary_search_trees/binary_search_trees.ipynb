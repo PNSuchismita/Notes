{
 "cells": [
  {
   "cell_type": "markdown",
   "metadata": {},
   "source": [
    "# Elements of Programming Interview\n",
    "\n",
    "## Binary Search Trees\n",
    "\n",
    "The keys stored at nodes of Binary Search Tree (BST) have to respect a BST property - the key stored at a node is greater than or equal to the keys stored at the nodes of its left subtree and less than or equal to the keys stored in the nodes of its right subtree.\n",
    "\n",
    "* Key lookup, insertion, and deletion take time proportional to the height of the tree, which can in worst-case be $O(n)$.\n",
    "* There are implementations of insert and delete which guarantee that the tree has height $O(\\log{n})$. \n",
    "    * These require storing and updating additional data at the tree nodes. \n",
    "    * Red-black trees are an example of height-balanced BSTs.\n",
    "* As a rule, **avoid putting mutable objects in a BST**. Otherwise, when a mutable object that's in a BST is to be updated, always first remove it from the tree, then update it, then add it back."
   ]
  },
  {
   "cell_type": "code",
   "execution_count": 1,
   "metadata": {},
   "outputs": [],
   "source": [
    "# The BST prototype\n",
    "class BstNode:\n",
    "    def __init__(self, data=None, left=None, right=None):\n",
    "        self.data, self.left, self.right = data, left, right"
   ]
  },
  {
   "cell_type": "markdown",
   "metadata": {},
   "source": [
    "### Binary Search Tree Bootcamp\n",
    "\n",
    "* Searching is the single most fundamental application of BSTs.\n",
    "* Unlike a hash table, a BST offers the ability to **find** the **min, max** elements, and **find** the **next largest/next smallest** element.\n",
    "* These operations, along with lookup, delete and find, take time $O(\\log{n})$ for library implementations of BSTs.\n",
    "* Both BSTs and hash tables use $O(n)$ space.\n",
    "\n",
    "**Problem**: Check if a given value is present in a BST.  \n",
    "**Solution**: Solve using recursion. $O(h)$ time complexity where $h$ is the height of the tree."
   ]
  },
  {
   "cell_type": "code",
   "execution_count": 2,
   "metadata": {},
   "outputs": [],
   "source": [
    "def search_bst(tree, key):\n",
    "    return (tree \n",
    "           if not tree or tree.data == key else search_bst(tree.left, key)\n",
    "           if key < tree.data else search_bst(tree.right, key))"
   ]
  },
  {
   "cell_type": "markdown",
   "metadata": {},
   "source": [
    "### Know Your BInary Search Tree Libraries\n",
    "\n",
    "* Python does not come with a built-in BST library.\n",
    "* *sortedcontainers*: best-in-class module for sorted sets and sorted dictionaries - it is performant, has a clean API the is well documented, with a responsive community.\n",
    "    * The underlying data structure is a sorted list of sorted lists.\n",
    "    * Its asymptotic time complexity for inserts and deletes is $O(\\sqrt{n})$ since these operations entail insertion into a list of length roughly $\\sqrt{n}$, rather than the $O(\\log{n})$ of balanced BSTs.\n",
    "    \n",
    "* We will use **bintrees** module which implements sorted sets and sorted dictionaries using balanced BSTs.\n",
    "    * **insert(e)** inserts new element *e* in the BST.\n",
    "    * **discard(e)** removes *e* from the BST if present.\n",
    "    * **min_item()/max_item()** yield the samllest and largest key-value pair in the BST.\n",
    "    * **min_key()/max_key()** yield the smallest and largest key in the BST.\n",
    "    * **pop_min()/pop_max()** remove and return the smallest and largest key-value pair in the BST.\n",
    "    * These operations thake $O(\\log{n})$ since they are backed by the underlying tree."
   ]
  },
  {
   "cell_type": "code",
   "execution_count": 4,
   "metadata": {},
   "outputs": [],
   "source": [
    "# import bintrees\n",
    "\n",
    "# t = bintrees.RBTree([(5, 'Alfa'), (2, 'Bravo'), (7, 'Charlie'), (3, 'Delta'), (6, 'Echo')])\n",
    "# print(f'p[2] .................................... {t[2]}')\n",
    "# print(f't.min_item(), t.max_item() .............. {t.min_item(), t.max_item()}')\n",
    "# t.insert(9, 'Golf')\n",
    "# print(f't after insertion ....................... {t}')\n",
    "# print(f't.min_key(), t.max_key() ................ {t.min_key(), t.max_key()}')\n",
    "# t.discard(3)\n",
    "# print(f't avter discarding an element ........... {t}')\n",
    "# a = t.pop_min()\n",
    "# print(f't.pop_min() ............................. {a}')\n",
    "# b = t.pop_max()\n",
    "# print(f't.pop_max() ............................. {b}')"
   ]
  }
 ],
 "metadata": {
  "kernelspec": {
   "display_name": "Python 3",
   "language": "python",
   "name": "python3"
  },
  "language_info": {
   "codemirror_mode": {
    "name": "ipython",
    "version": 3
   },
   "file_extension": ".py",
   "mimetype": "text/x-python",
   "name": "python",
   "nbconvert_exporter": "python",
   "pygments_lexer": "ipython3",
   "version": "3.7.3"
  }
 },
 "nbformat": 4,
 "nbformat_minor": 4
}
