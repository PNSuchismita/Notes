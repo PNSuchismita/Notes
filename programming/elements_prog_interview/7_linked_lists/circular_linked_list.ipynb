{
 "cells": [
  {
   "cell_type": "code",
   "execution_count": 1,
   "metadata": {
    "pycharm": {
     "name": "#%%\n"
    }
   },
   "outputs": [
    {
     "name": "stdout",
     "output_type": "stream",
     "text": [
      "1\n",
      "2\n",
      "3\n",
      "4\n",
      "5\n",
      "3\n",
      "4\n",
      "5\n",
      "3\n",
      "4\n"
     ]
    }
   ],
   "source": [
    "class ListNode:\n",
    "    def __init__(self, data=0, next=None):\n",
    "        self.data = data\n",
    "        self.next = next\n",
    "\n",
    "        \n",
    "def circular_list(l, k):\n",
    "    dummy = res = ListNode()\n",
    "    for i, el in enumerate(l):\n",
    "        res.next = ListNode(data=el)\n",
    "        res = res.next\n",
    "        if i == k:\n",
    "            circle_start = res\n",
    "        if i == len(l) - 1:\n",
    "            res.next = circle_start\n",
    "    return dummy.next\n",
    "\n",
    "\n",
    "circ_list = circular_list([1, 2, 3, 4, 5], 2)\n",
    "for _ in range(10):\n",
    "    print(circ_list.data)\n",
    "    circ_list = circ_list.next"
   ]
  }
 ],
 "metadata": {
  "kernelspec": {
   "display_name": "Python 3",
   "language": "python",
   "name": "python3"
  },
  "language_info": {
   "codemirror_mode": {
    "name": "ipython",
    "version": 3
   },
   "file_extension": ".py",
   "mimetype": "text/x-python",
   "name": "python",
   "nbconvert_exporter": "python",
   "pygments_lexer": "ipython3",
   "version": "3.7.3"
  },
  "pycharm": {
   "stem_cell": {
    "cell_type": "raw",
    "metadata": {
     "collapsed": false
    },
    "source": []
   }
  }
 },
 "nbformat": 4,
 "nbformat_minor": 4
}
