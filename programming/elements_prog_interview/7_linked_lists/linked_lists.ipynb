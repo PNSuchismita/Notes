{
 "cells": [
  {
   "cell_type": "markdown",
   "metadata": {},
   "source": [
    "# Elemenets of Programming Interview\n",
    "\n",
    "# Linked Lists\n",
    "\n",
    "*Not a standard type in Python*\n",
    "\n",
    "A **singly linked list** is a data structure that contains a sequence of nodes such that each node contains an object and a reference to the next node in the list.\n",
    "\n",
    "* The first node is referred to as the **head**.\n",
    "* The last node is referred to as the **tail**. The tail's next field is null.\n",
    "\n",
    "In a **doubly linked list**, each node has a link to its predecessor.\n",
    "\n",
    "| Operation | Time Complexity |\n",
    "| --------- | --------------- |\n",
    "| insert    | $O(1)$ |\n",
    "| delete    | $O(1)$ |\n",
    "| obtain $k$th element | $O(n)$ |"
   ]
  },
  {
   "cell_type": "code",
   "execution_count": 1,
   "metadata": {},
   "outputs": [],
   "source": [
    "class ListNode:\n",
    "    def __init__(self, data=0, next=None):\n",
    "        self.data = data\n",
    "        self.next = next"
   ]
  },
  {
   "cell_type": "markdown",
   "metadata": {},
   "source": [
    "## Basic API Implementation (search, insert, delete)\n",
    "\n",
    "For singly linked lists."
   ]
  },
  {
   "cell_type": "code",
   "execution_count": 2,
   "metadata": {},
   "outputs": [],
   "source": [
    "# Search for a key, O(n)\n",
    "def search_list(L, key):\n",
    "    while L and L.data != key:\n",
    "        L = L.next\n",
    "    # If key was not present in the list, L will have become null\n",
    "    return L\n",
    "\n",
    "# Insert a new node after a specified node, O(1)\n",
    "def insert_after(node, new_node):\n",
    "    new_node.next = node.next\n",
    "    node.next = new_node\n",
    "    \n",
    "# Delete a node, O(1)\n",
    "def delet_after(node):\n",
    "    node.next = node.next.next"
   ]
  }
 ],
 "metadata": {
  "kernelspec": {
   "display_name": "Python 3",
   "language": "python",
   "name": "python3"
  },
  "language_info": {
   "codemirror_mode": {
    "name": "ipython",
    "version": 3
   },
   "file_extension": ".py",
   "mimetype": "text/x-python",
   "name": "python",
   "nbconvert_exporter": "python",
   "pygments_lexer": "ipython3",
   "version": "3.7.3"
  }
 },
 "nbformat": 4,
 "nbformat_minor": 4
}
