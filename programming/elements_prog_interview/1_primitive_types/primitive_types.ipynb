{
 "cells": [
  {
   "cell_type": "markdown",
   "metadata": {},
   "source": [
    "# Elements of Programming Interview\n",
    "\n",
    "# Primitive Types\n",
    "\n",
    "* A type is a classification of data that spells out possible values for that type and the operations that can be performed on it. \n",
    "* A type can be provided bby the language or defined by the programmer.\n",
    "* In Python **everything is an object**\n",
    "\n",
    "**Example**: Write a program to count the number of bits that are set to 1 in a nonnegative integer.  \n",
    "**Complexity**: $O(n)$ because we perform $O(1)$ computation per bit, where $n$ is the number of bits needed to represent the integer."
   ]
  },
  {
   "cell_type": "code",
   "execution_count": 1,
   "metadata": {},
   "outputs": [
    {
     "name": "stdout",
     "output_type": "stream",
     "text": [
      "binary representation of 10 .... 0b1010 \n",
      "count_bits(10) ................. 2\n"
     ]
    }
   ],
   "source": [
    "def count_bits(x):\n",
    "    num_bits = 0\n",
    "    while x:\n",
    "        num_bits += x & 1\n",
    "        x >>= 1\n",
    "    return num_bits\n",
    "\n",
    "print(f'binary representation of 10 .... {bin(10)}',\n",
    "      f'\\ncount_bits(10) ................. {count_bits(10)}')"
   ]
  },
  {
   "cell_type": "markdown",
   "metadata": {},
   "source": [
    "## Know your primitive types\n",
    "\n",
    "* Integers in Python are unbounded - the maximum integer representable is a function of the available memory.\n",
    "* Bounds on floats are specified in *sys.float_info*."
   ]
  },
  {
   "cell_type": "code",
   "execution_count": 10,
   "metadata": {},
   "outputs": [
    {
     "name": "stdout",
     "output_type": "stream",
     "text": [
      "sys.maxsize ............... 9223372036854775807 \n",
      "\n",
      "sys.maxsize == 2**63-1 .... True \n",
      "\n",
      "sys.float_info ............ sys.float_info(max=1.7976931348623157e+308, max_exp=1024, max_10_exp=308, min=2.2250738585072014e-308, min_exp=-1021, min_10_exp=-307, dig=15, mant_dig=53, epsilon=2.220446049250313e-16, radix=2, rounds=1)\n"
     ]
    }
   ],
   "source": [
    "import sys\n",
    "\n",
    "print(f'sys.maxsize ............... {sys.maxsize}',\n",
    "      f'\\n\\nsys.maxsize == 2**63-1 .... {sys.maxsize==2**63-1}',\n",
    "      f'\\n\\nsys.float_info ............ {sys.float_info}')"
   ]
  },
  {
   "cell_type": "markdown",
   "metadata": {},
   "source": [
    "###  Bit-wise operations\n",
    "\n",
    "* Python3 documentation: https://docs.python.org/3/library/stdtypes.html#bitwise-operations-on-integer-types*  \n",
    "\n",
    "Bitwise operations only make sense for integers. Negative numbers are treated as their 2’s complement value (this assumes that there are enough bits so that no overflow occurs during the operation).  \n",
    "\n",
    "The priorities of the binary bitwise operations are all lower than the numeric operations and higher than the comparisons.  \n",
    "    \n",
    "| Operation | Resul | Notes\n",
    "| :-: | :--------------: | :-:\n",
    "| $x | y$ | bitwise or of x and y; negative numbers are assumed to be represented using 2's complement | \n",
    "| x ^ y | bitwise exclusive or of x and y | \n",
    "| x & y | bitwise and of x and y |\n",
    "| x << n | x shifted left by n bits | (1)(2)\n",
    "| x >> n | x shifted right by n bits | (1)(3)\n",
    "| ~x | the bits of x inverted |   \n",
    "\n",
    "Notes:\n",
    "\n",
    "1. Negative shift counts are illegal and cause a ValueError to be raised.\n",
    "2. A left shift by n bits is equivalent to multiplication by pow(2, n) without overflow check.\n",
    "3. A right shift by n bits is equivalent to division by pow(2, n) without overflow check."
   ]
  },
  {
   "cell_type": "code",
   "execution_count": 58,
   "metadata": {},
   "outputs": [
    {
     "name": "stdout",
     "output_type": "stream",
     "text": [
      "bin(12) ..... 0b1100 \n",
      "bin(13) ..... 0b1101\n",
      "--------------------\n",
      "x | y ........ 13 \n",
      "x & y ........ 12 \n",
      "x ^ y ........ 1 \n",
      "x << 2 ....... 48 \n",
      "x >> 2 ....... 3 \n",
      "~x ........... -13\n"
     ]
    }
   ],
   "source": [
    "x = 12\n",
    "y = 13\n",
    "\n",
    "print(f'bin(12) ..... {bin(x)}',\n",
    "      f'\\nbin(13) ..... {bin(y)}')\n",
    "print('--------------------')\n",
    "print(f'x | y ........ {x|y}',\n",
    "      f'\\nx & y ........ {x&y}',\n",
    "      f'\\nx ^ y ........ {x^y}',\n",
    "      f'\\nx << 2 ....... {x<<2}',\n",
    "      f'\\nx >> 2 ....... {x>>2}',\n",
    "      f'\\n~x ........... {~x}')"
   ]
  },
  {
   "cell_type": "markdown",
   "metadata": {},
   "source": [
    "### Key methods on numeric types"
   ]
  },
  {
   "cell_type": "code",
   "execution_count": 15,
   "metadata": {},
   "outputs": [
    {
     "name": "stdout",
     "output_type": "stream",
     "text": [
      "abs(-34.5) ........... 34.5 \n",
      "math.ceil(2.17) ...... 3 \n",
      "math.floor(3.14) ..... 3 \n",
      "min(x, -4) ........... -5 \n",
      "max(3.14, y) ......... 3.14 \n",
      "pow(2.17, 3.14) ...... 11.38894680008054 \n",
      "2.17**3.14 ........... 11.38894680008054 \n",
      "math.sqrt(225) ....... 15.0\n"
     ]
    }
   ],
   "source": [
    "import math\n",
    "\n",
    "x = -5\n",
    "y = 3\n",
    "\n",
    "print(f'abs(-34.5) ........... {abs(-34.5)}',\n",
    "      f'\\nmath.ceil(2.17) ...... {math.ceil(2.17)}',\n",
    "      f'\\nmath.floor(3.14) ..... {math.floor(3.14)}',\n",
    "      f'\\nmin(x, -4) ........... {min(x, -4)}',\n",
    "      f'\\nmax(3.14, y) ......... {max(3.14, y)}',\n",
    "      f'\\npow(2.17, 3.14) ...... {pow(2.17, 3.14)}',\n",
    "      f'\\n2.17**3.14 ........... {2.17**3.14}',\n",
    "      f'\\nmath.sqrt(225) ....... {math.sqrt(225)}')"
   ]
  },
  {
   "cell_type": "markdown",
   "metadata": {},
   "source": [
    "### Interconvert integers and strings, floats and strings"
   ]
  },
  {
   "cell_type": "code",
   "execution_count": 21,
   "metadata": {},
   "outputs": [
    {
     "name": "stdout",
     "output_type": "stream",
     "text": [
      "str(42) ......... 42 \n",
      "int(\"42\") ....... 42 \n",
      "str(3.14) ....... 3.14 \n",
      "float(\"3.14\") ... 3.14\n"
     ]
    }
   ],
   "source": [
    "print(f'str(42) ......... {str(42)}',\n",
    "      f'\\nint(\"42\") ....... {int(\"42\")}',\n",
    "      f'\\nstr(3.14) ....... {str(3.14)}',\n",
    "      f'\\nfloat(\"3.14\") ... {float(\"3.14\")}')"
   ]
  },
  {
   "cell_type": "markdown",
   "metadata": {},
   "source": [
    "### Comparing floating point numbers\n",
    "\n",
    "Especially when comparing very large values."
   ]
  },
  {
   "cell_type": "code",
   "execution_count": 23,
   "metadata": {},
   "outputs": [
    {
     "data": {
      "text/plain": [
       "True"
      ]
     },
     "execution_count": 23,
     "metadata": {},
     "output_type": "execute_result"
    }
   ],
   "source": [
    "math.isclose(2.1, 2.1)"
   ]
  },
  {
   "cell_type": "markdown",
   "metadata": {},
   "source": [
    "### Key methods in random"
   ]
  },
  {
   "cell_type": "code",
   "execution_count": 44,
   "metadata": {},
   "outputs": [
    {
     "name": "stdout",
     "output_type": "stream",
     "text": [
      "random.randrange(28) ........ 19 \n",
      "random.randint(8, 16) ....... 11 \n",
      "random.random() ............. 0.7269976115633512 \n",
      "random.shuffle(A) ........... None, [3, 1, 2] \n",
      "random.choice(A) ............ 3\n"
     ]
    }
   ],
   "source": [
    "import random\n",
    "\n",
    "A = [1,2,3]\n",
    "\n",
    "print(f'random.randrange(28) ........ {random.randrange(28)}',\n",
    "      f'\\nrandom.randint(8, 16) ....... {random.randint(8, 16)}',\n",
    "      f'\\nrandom.random() ............. {random.random()}',\n",
    "      f'\\nrandom.shuffle(A) ........... {random.shuffle(A)}, {A}',\n",
    "      f'\\nrandom.choice(A) ............ {random.choice(A)}')"
   ]
  },
  {
   "cell_type": "code",
   "execution_count": null,
   "metadata": {},
   "outputs": [],
   "source": []
  }
 ],
 "metadata": {
  "kernelspec": {
   "display_name": "Python 3",
   "language": "python",
   "name": "python3"
  },
  "language_info": {
   "codemirror_mode": {
    "name": "ipython",
    "version": 3
   },
   "file_extension": ".py",
   "mimetype": "text/x-python",
   "name": "python",
   "nbconvert_exporter": "python",
   "pygments_lexer": "ipython3",
   "version": "3.7.3"
  }
 },
 "nbformat": 4,
 "nbformat_minor": 2
}
