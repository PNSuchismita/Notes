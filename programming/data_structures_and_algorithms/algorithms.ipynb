{
 "cells": [
  {
   "cell_type": "markdown",
   "metadata": {},
   "source": [
    "## Recursion"
   ]
  },
  {
   "cell_type": "markdown",
   "metadata": {},
   "source": [
    "https://www.geeksforgeeks.org/recursion/"
   ]
  },
  {
   "cell_type": "markdown",
   "metadata": {},
   "source": [
    "The process in which the function calls itself directly or indirectly is called recursion and the corresponding function is called recursive function."
   ]
  },
  {
   "cell_type": "markdown",
   "metadata": {},
   "source": [
    "### Base condition\n",
    "\n",
    "In recursion the base case solution is provided and the bigger problem is solved by braking it down into smaller problems.\n",
    "\n",
    "#### Stack Overflaw error\n",
    "\n",
    "It occurs if the base case is not reached or is not defined."
   ]
  },
  {
   "cell_type": "markdown",
   "metadata": {},
   "source": [
    "### Direct vs Indirect Recursion"
   ]
  },
  {
   "cell_type": "markdown",
   "metadata": {},
   "source": [
    "A function **fun** is called direct recursive if it calls the same function *fun*. It is called indirect recursive if it calls another function **fun_new**, and *fun_new* calls *fun* directly or indirectly."
   ]
  },
  {
   "cell_type": "markdown",
   "metadata": {},
   "source": [
    "### Tailed vs Non-tailed Recursion"
   ]
  },
  {
   "cell_type": "markdown",
   "metadata": {},
   "source": [
    "A recursive function is tail recursive if the recursive call is the last thing executed by the function."
   ]
  },
  {
   "cell_type": "markdown",
   "metadata": {},
   "source": [
    "### Memory Allocation"
   ]
  },
  {
   "cell_type": "markdown",
   "metadata": {},
   "source": [
    "* When a function is called, the memory is allocated to it on the stack.\n",
    "* When a recursive function calls itself, the memory for the called function is allocated on top of the memory that has been allocated to the calling function. Different copy of local variables is created for each function call.\n",
    "* When the base case is reached, the called function returns the value to the calling function and the memory is de-allocated."
   ]
  },
  {
   "cell_type": "markdown",
   "metadata": {},
   "source": [
    "### Disadvantages of Recursive Programming Over Iterative Programming"
   ]
  },
  {
   "cell_type": "markdown",
   "metadata": {},
   "source": [
    "* The recursive program has greater space requirements than the iterative program.\n",
    "    * All the functions will remain in the stack until the base case is reached.\n",
    "* The recursive program has greater time requirements than the iterative program.\n",
    "    * Because of function calls and return overhead"
   ]
  },
  {
   "cell_type": "markdown",
   "metadata": {},
   "source": [
    "### Advantages of Recursive Programming Over Iterative Programming"
   ]
  },
  {
   "cell_type": "markdown",
   "metadata": {},
   "source": [
    "* Recursion provides clean and simple way to write code\n",
    "* Some problems are inherently recursive like tree traversals\n",
    "    * It's best to use recursion for these types of problems\n",
    "    * We can write an iterative code for such problems using stack data structures"
   ]
  },
  {
   "cell_type": "code",
   "execution_count": null,
   "metadata": {},
   "outputs": [],
   "source": []
  },
  {
   "cell_type": "code",
   "execution_count": null,
   "metadata": {},
   "outputs": [],
   "source": []
  },
  {
   "cell_type": "code",
   "execution_count": null,
   "metadata": {},
   "outputs": [],
   "source": []
  },
  {
   "cell_type": "code",
   "execution_count": null,
   "metadata": {},
   "outputs": [],
   "source": []
  },
  {
   "cell_type": "code",
   "execution_count": null,
   "metadata": {},
   "outputs": [],
   "source": []
  }
 ],
 "metadata": {
  "kernelspec": {
   "display_name": "Python 3",
   "language": "python",
   "name": "python3"
  },
  "language_info": {
   "codemirror_mode": {
    "name": "ipython",
    "version": 3
   },
   "file_extension": ".py",
   "mimetype": "text/x-python",
   "name": "python",
   "nbconvert_exporter": "python",
   "pygments_lexer": "ipython3",
   "version": "3.7.3"
  }
 },
 "nbformat": 4,
 "nbformat_minor": 2
}
