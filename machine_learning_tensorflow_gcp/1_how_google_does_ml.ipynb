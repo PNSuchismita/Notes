{
 "cells": [
  {
   "cell_type": "markdown",
   "metadata": {},
   "source": [
    "# How Google Does Machine Learning\n",
    "\n",
    "Course 1 of 5 in the [Machine Learning with TensorFlow on Google Cloud Platform Specialization](https://www.coursera.org/specializations/machine-learning-tensorflow-gcp)"
   ]
  },
  {
   "cell_type": "markdown",
   "metadata": {},
   "source": [
    "## Agenda\n",
    "\n",
    "1. [Introduction to Machine Learning](#intro)\n",
    "2. [Strategy of Machine Learning](#strategies)\n",
    "3. [Discussion of tooling](#tools)"
   ]
  },
  {
   "cell_type": "markdown",
   "metadata": {},
   "source": [
    "## 1. Introduction to Machine Learning\n",
    "\n",
    "<a id=\"intro\"></a>"
   ]
  },
  {
   "cell_type": "markdown",
   "metadata": {},
   "source": [
    "### Difference between Artifitial Intelligence and Machine Learning\n",
    "\n",
    "* Artifitial Intelligence is a discipline\n",
    "* Machine Learning is a specific way of solving AI problems\n",
    "\n",
    "The basic difference between machine learning and other techniques in AI, for example expert systems, is that in machine learning, machines learn. They don't start out intelligent, they become intelligent. \n",
    "\n",
    "### Two Stages of Machine Learning\n",
    "\n",
    "1. Training\n",
    "    * **Data**. In this Specialization we deal with labeled data (Supervized learning). Data are input to the model. \n",
    "    * **Model** itself is a **mathematical function** of a form that can be applied to a wide variety of problems.\n",
    "    * The models used in machine learning have a bunch of adjustable parameters.\n",
    "    * **Training** of the model is making tiny adjustments to the model, so that overall, the outputs of the model, the output of the mathematical function, for the set of training inputs is as close as possible to the training labels. \n",
    "2. Prediction/Inference\n",
    "    * Use the trained model to predict labels for new data.\n",
    "    * Sometimes people refer to prediction as inference, because prediction seems to imply a future state. In the case of images, for example, we're not really predicting that it's a cat, just inferring that it's a cat based on the pixel data. \n",
    "\n",
    "**End-to-end machine learning**, putting machine learning models into production. It is not enough to focus only on the first stage, on the training. You need to be able to operationalize the model, put the model into production so that you can run inferences.\n",
    "\n",
    "### Why did the first neural networks have only few layers?\n",
    "\n",
    "1. **Lack of Computational power**.\n",
    "2. **Lack of data**.  \n",
    "3. **Computational tricks**. It turns out that if you just add layers, you will run into some issues. The neural networks will take a long time to train, some of the layers will become all zero or they'll blow up, and become all NaN or not a number. So, the research community had to develop a number of tricks and techniques to get deep neural networks to work.\n",
    "\n",
    "### Many Models for a Use Case\n",
    "\n",
    "Avoid the trap of thinking of building a monolithic one model solves a whole problem solutions. In practice, you'll be building many machine learning models to solve the use case.\n",
    "\n",
    "Example of a combination of several modelsis, the Google Translate App. It lets you point a phone camera at a street sign, and it translates the sign for you. It might have the following models involved.  \n",
    "\n",
    "* Model 1. Find the sign\n",
    "* Model 2. Read the sign\n",
    "* Model 3. Detect the language\n",
    "* Model 4. Translate the sign\n",
    "* Model 5. Superimpose the translated text\n",
    "* Model 6. Select the font to use.\n",
    "\n",
    "### Replacing Heuristic Rules\n",
    "\n",
    "That's what ML is about.  \n",
    "So, what kinds of problems can you solve with ML?   \n",
    "Answer, anything for which you are writing rules today.\n",
    "\n",
    "You don't think about fixing bug reports by adding your rules.\n",
    "You think in terms of continuously training the model as you get new data.\n",
    "\n"
   ]
  },
  {
   "cell_type": "code",
   "execution_count": null,
   "metadata": {},
   "outputs": [],
   "source": []
  }
 ],
 "metadata": {
  "kernelspec": {
   "display_name": "Python [default]",
   "language": "python",
   "name": "python3"
  },
  "language_info": {
   "codemirror_mode": {
    "name": "ipython",
    "version": 3
   },
   "file_extension": ".py",
   "mimetype": "text/x-python",
   "name": "python",
   "nbconvert_exporter": "python",
   "pygments_lexer": "ipython3",
   "version": "3.5.6"
  }
 },
 "nbformat": 4,
 "nbformat_minor": 2
}
