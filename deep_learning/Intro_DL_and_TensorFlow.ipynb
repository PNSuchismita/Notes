{
 "cells": [
  {
   "cell_type": "markdown",
   "metadata": {},
   "source": [
    "# Notes from \n",
    "\n",
    "* Tensorflow for Deep Learning by Bharath Ramsundar and Reza Bosagh Zadeh (O'Reilly). Copyright 2018 Reza Zadeh, Bharath Ramsundar, 978-1-491-98045-3"
   ]
  },
  {
   "cell_type": "markdown",
   "metadata": {},
   "source": [
    "## Fully Connected Layer\n",
    "\n",
    "* Transforms a list of inputs into a list of outputs  \n",
    "* Any input value can affect any output value  \n",
    "* Have many learnable parameters\n",
    "* Large advantage of assuming no structure in the inputs\n",
    "\n",
    "## Convolutional Layer (images to images)\n",
    "\n",
    "* A convolutional network assumes special spatial structure in its input\n",
    "* In particular, it assumes that inputs that are close to each other spatially are semantically relates  \n",
    "* Makes most sense for images  \n",
    "* Convolutional layers transform images into images\n",
    "\n",
    "## Recurrent Neural Network Layers\n",
    "\n",
    "* Recurrent neural network (RNN) layers allow neural networks to learn from sequences of inputs. \n",
    "* Assumes that the input evolves from step to step following a defined update rule that can be learned from data\n",
    "* This update rule presents a prediction of the next state in the sequence given all the states that have come previously\n",
    "* Very useful for tasks such as language modeling, where engineers seek to build systems that can predict the next word users will type from history"
   ]
  },
  {
   "cell_type": "code",
   "execution_count": null,
   "metadata": {},
   "outputs": [],
   "source": []
  }
 ],
 "metadata": {
  "kernelspec": {
   "display_name": "Python [default]",
   "language": "python",
   "name": "python3"
  },
  "language_info": {
   "codemirror_mode": {
    "name": "ipython",
    "version": 3
   },
   "file_extension": ".py",
   "mimetype": "text/x-python",
   "name": "python",
   "nbconvert_exporter": "python",
   "pygments_lexer": "ipython3",
   "version": "3.5.6"
  }
 },
 "nbformat": 4,
 "nbformat_minor": 2
}
