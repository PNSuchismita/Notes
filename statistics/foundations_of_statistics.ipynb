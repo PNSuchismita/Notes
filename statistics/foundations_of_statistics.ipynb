{
 "cells": [
  {
   "cell_type": "markdown",
   "metadata": {},
   "source": [
    "# Random Variables\n",
    "\n",
    "Khan Academy:\n",
    "https://www.khanacademy.org/math/statistics-probability/random-variables-stats-library"
   ]
  },
  {
   "cell_type": "markdown",
   "metadata": {},
   "source": [
    "Random variables are ways to map outcomes of random processed to numbers. Usually random variables are noted by capital letters, e.g. **X**.  \n",
    "\n",
    "* **Discrete Random Variable** - Take distinct/separate values\n",
    "* **Continuous Random Variables** - Take any value in interval\n",
    "\n",
    "**Example**. Let's say we want to estimate the number of people we will see in the line in store. We conduct an experiment by visiting the store 50 times. Out of the 50 times we observe 0 people 24 times, 1 person 18 times, and 2 people 8 times. We estimate the probabilities as shown below.\n",
    "\n",
    "| People in the line | Times Observed | Probability Estimate |\n",
    "| :------------------ | :-------------- | :-----------------:\n",
    "| 0 | 24 | $\\frac{24}{24+18+8}=\\frac{24}{50}$ = 0.48 = 48% |\n",
    "| 1 | 18 | $\\frac{18}{50}$ = 0.36 = 36% |\n",
    "| 2 | 8 | $\\frac{8}{50}$ = 0.16 = 16% |\n",
    "\n",
    "Now, let's say we plan to visit the store 500 times in the coming two years. How many times do we expect to see a 2 people line? A reasonable expectiation would be\n",
    "\n",
    "\\begin{equation*}\n",
    "500 \\cdot \\frac{8}{50} = 80\n",
    "\\end{equation*}\n"
   ]
  },
  {
   "cell_type": "markdown",
   "metadata": {},
   "source": [
    "### Mean and Variance\n",
    "\n",
    "Let's say we have a discrete random variable X which is equal to the number of workouts in a week.\n",
    "\n",
    " | X | P(X)\n",
    " | - | - \n",
    " | 0 | 0.1\n",
    " | 1 | 0.15\n",
    " | 2 | 0.4\n",
    " | 3 | 0.25\n",
    " | 4 | 0.1\n",
    " \n",
    "**Expected value/Mean**. The expected value of $X$ is  \n",
    "\n",
    " \\begin{equation*}\n",
    "E(X) = \\mu_x = 0\\cdot0.1 + 1\\cdot0.15 + 2\\cdot0.4 + 3\\cdot0.25 + 4\\cdot0.1 = 2.1 \n",
    "\\end{equation*}\n",
    "\n",
    "So the expected number of workouts in a week is 2.1.\n",
    " \n",
    "**Variance and Standard Deviation**. Variance is a measure of spread.  \n",
    "\n",
    "*Variance*  \n",
    "\n",
    "\\begin{equation*}\n",
    "Var(X) = (0-2.1)^2\\cdot0.1 + (1-2.1)^2\\cdot0.15 + (2-2.1)^2\\cdot0.4 + (3-2.1)^2\\cdot0.25 + (4-2.1)^2\\cdot0.1 = 1.19\n",
    "\\end{equation*}  \n",
    "\n",
    "*Standard Deviation*  \n",
    "\n",
    "\\begin{equation*}\n",
    "\\sigma_x = \\sqrt{Var(X)} = \\sqrt{1.19} \\approx 1.09\n",
    "\\end{equation*}"
   ]
  },
  {
   "cell_type": "markdown",
   "metadata": {},
   "source": [
    "### The sum and difference of two random variables\n",
    "\n",
    "If $X$ and $Y$ are indipendent random variables, than \n",
    "\n",
    "\\begin{align*}\n",
    "E(X + Y) &= E(X) + E(Y) \\\\\n",
    "E(X - Y) &= E(X) - E(Y) \\\\\n",
    "Var(X \\pm Y) &= Var(X) + Var(Y)\n",
    "\\end{align*}\n",
    "\n",
    "**Deriving variance of the difference of random variables**  \n",
    "\n",
    "\\begin{align*}\n",
    "Var(X-Y)&=E[(X-Y-E(X-Y))^2]\\\\\n",
    "        &=E[((X-E(X))-(Y-E(Y))^2]\\\\\n",
    "        &=E[(X-E(X))^2-2\\cdot(X-E(X))\\cdot(Y-E(Y))+E(Y-E(Y))^2]\\\\\n",
    "        &=E[(X-E(X))^2]-E[2\\cdot(X-E(X))\\cdot(Y-E(Y))]+E[(Y-E(Y))^2]\\\\\n",
    "        &=Var(X)-0+Var(Y)\\\\\n",
    "        &=Var(X)+Var(Y)\n",
    "\\end{align*}"
   ]
  },
  {
   "cell_type": "code",
   "execution_count": null,
   "metadata": {},
   "outputs": [],
   "source": []
  },
  {
   "cell_type": "code",
   "execution_count": null,
   "metadata": {},
   "outputs": [],
   "source": []
  },
  {
   "cell_type": "code",
   "execution_count": null,
   "metadata": {},
   "outputs": [],
   "source": []
  },
  {
   "cell_type": "markdown",
   "metadata": {},
   "source": [
    "### Probability Distribution and Probability Density Functions\n",
    "\n",
    "* Probability Distribution Funstions - Discrete random variables\n",
    "* Probability Density Functions - Continuous random variables\n",
    "\n",
    "\n",
    "**Note**. The below code is incomplete, do it later"
   ]
  },
  {
   "cell_type": "code",
   "execution_count": 13,
   "metadata": {},
   "outputs": [],
   "source": [
    "import random\n",
    "\n",
    "def flip_fair_coins(n_coins):\n",
    "    \"\"\" int (number of coins to flip) -> list of 1s (heads) and 0s (tails)\n",
    "    \"\"\"\n",
    "    outcomes = []\n",
    "    for i in range(n_coins):\n",
    "        outcomes.append(random.randint(0,1))\n",
    "    return outcomes\n",
    "\n",
    "def trials(n_trials, n_coins):\n",
    "    ## initialize a dictionary that will track the number of heads seen\n",
    "    trial_dict = {}\n",
    "    for i in range(n_coins+1):\n",
    "        trial_dict['{}_heads'.format(i)] = (i, 0)\n",
    "    \n",
    "    for trial in range(n_trials):\n",
    "        ## flip the coin and save the outcome\n",
    "        outcome = flip_fair_coins(n_coins)\n",
    "        \n",
    "        ## update the heads dictionary based on how many heads we've seen in the current trial\n",
    "        for heads in n_coins:\n",
    "            if heads == outcome:\n",
    "                trial_dict['{}_heads'.format(heads)][1] += 1\n",
    "    ## divide the number of heads occurances by the number of total trials to get the probabilities\n",
    "    for ele in trial_dict:\n",
    "        ele[1] /= n_trials\n",
    "    \n",
    "    return trial_dict"
   ]
  },
  {
   "cell_type": "code",
   "execution_count": null,
   "metadata": {},
   "outputs": [],
   "source": []
  }
 ],
 "metadata": {
  "kernelspec": {
   "display_name": "Python [default]",
   "language": "python",
   "name": "python3"
  },
  "language_info": {
   "codemirror_mode": {
    "name": "ipython",
    "version": 3
   },
   "file_extension": ".py",
   "mimetype": "text/x-python",
   "name": "python",
   "nbconvert_exporter": "python",
   "pygments_lexer": "ipython3",
   "version": "3.5.4"
  }
 },
 "nbformat": 4,
 "nbformat_minor": 2
}
