{
 "cells": [
  {
   "cell_type": "markdown",
   "metadata": {},
   "source": [
    "# Random Variables\n",
    "\n",
    "Khan Academy:\n",
    "https://www.khanacademy.org/math/statistics-probability/random-variables-stats-library"
   ]
  },
  {
   "cell_type": "markdown",
   "metadata": {},
   "source": [
    "Random variables are ways to map outcomes of random processed to numbers. Usually random variables are noted by capital letters, e.g. X.  \n",
    "\n",
    "* **Discrete Random Variable** - Take distinct/separate values\n",
    "* **Continuous Random Variables** - Take any value in interval\n",
    "\n",
    "**Example**. Let's say we want to estimate the number of people we will see in the line in store. We conduct an experiment by visiting the store 50 times. Out of the 50 times we observe 0 people 24 times, 1 person 18 times, and 2 people 8 times. We estimate the probabilities as shown below.\n",
    "\n",
    "| People in the line | Times Observed | Probability Estimate |\n",
    "| :------------------ | :-------------- | :-----------------:\n",
    "| 0 | 24 | $\\frac{24}{24+18+8}=\\frac{24}{50}$ = 0.48 = 48% |\n",
    "| 1 | 18 | $\\frac{18}{50}$ = 0.36 = 36% |\n",
    "| 2 | 8 | $\\frac{8}{50}$ = 0.16 = 16% |\n",
    "\n",
    "Now, let's say we plan to visit the store 500 times in the coming two years. How many times do we expect to see a 2 people line? A reasonable expectiation would be\n",
    "\n",
    "\\begin{equation*}\n",
    "500 * \\frac{8}{50} = 80\n",
    "\\end{equation*}\n"
   ]
  },
  {
   "cell_type": "markdown",
   "metadata": {},
   "source": [
    "## Mean and Variance\n",
    "\n",
    "Let's say we hav a random variable X which is equal to the number of workouts in a week.\n",
    "\n",
    " | X | P(X)\n",
    " | - | - \n",
    " | 0 | 0.1\n",
    " | 1 | 0.15\n",
    " | 2 | 0.4\n",
    " | 3 | 0.25\n",
    " | 4 | 0.1\n",
    " \n",
    "**Expected value/Mean**. The expected value of $X$ is \n",
    " \n",
    "\\begin{equation*}\n",
    "E(X) = \\mu_x = 0*0.1 + 1*0.15 + 2*0.4 + 3*0.25 + 4*0.1 = 2.1 \n",
    "\\end{equation*}\n",
    "\n",
    "So the expected number of workouts in a week is 2.1.\n",
    " \n",
    "**Variance and Standard Deviation**. Variance is a measure of spread.\n",
    "\n",
    "*Variance*\n",
    "\\begin{equation*}\n",
    "Var(X) = (0-2.1)^2*0.1 + (1-2.1)^2*0.15 + (2-2.1)^2*0.4 + (3-2.1)^2*0.25 + (4-2.1)^2*0.1 = 1.19\n",
    "\\end{equation*}\n",
    "\n",
    "*Standard Deviation*\n",
    "\\begin{equation*}\n",
    "\\sigma_x = \\sqrt{Var(X)} = \\sqrt{1.19} \\approx 1.09\n",
    "\\end{equation*}"
   ]
  },
  {
   "cell_type": "markdown",
   "metadata": {},
   "source": []
  }
 ],
 "metadata": {
  "kernelspec": {
   "display_name": "Python [default]",
   "language": "python",
   "name": "python3"
  },
  "language_info": {
   "codemirror_mode": {
    "name": "ipython",
    "version": 3
   },
   "file_extension": ".py",
   "mimetype": "text/x-python",
   "name": "python",
   "nbconvert_exporter": "python",
   "pygments_lexer": "ipython3",
   "version": "3.5.4"
  }
 },
 "nbformat": 4,
 "nbformat_minor": 2
}
