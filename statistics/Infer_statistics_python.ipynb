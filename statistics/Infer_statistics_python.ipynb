{
 "cells": [
  {
   "cell_type": "markdown",
   "metadata": {},
   "source": [
    "-------------------\n",
    "-------------------\n",
    "# Statistical Thinking in Python (Part 1)\n",
    "\n",
    "DataCamp: https://www.datacamp.com/courses/statistical-thinking-in-python-part-1\n",
    "\n",
    "-------------------\n",
    "-------------------"
   ]
  },
  {
   "cell_type": "markdown",
   "metadata": {},
   "source": [
    "## Exploratory Data Analysis (EDA)\n",
    "\n",
    "* The process of organizing, plotting, and summarizing a data set\n",
    "* John Tukey, \"Exploratory data analysis can never be the whole story, but nothing else can serve as the foundation stone.\"\n",
    "\n",
    "### Graphical EDA\n",
    "\n",
    "#### Histograms\n",
    "\n",
    "* **binning bias**. The same data may be interpreted differently depending on choice of bins.\n",
    "* not all of the data are displayed. Data are combined in bins.\n",
    "\n",
    "#### Bee swarm plot\n",
    "\n",
    "* **problem** endes can have overlapping points because we have to fit it in a plot.\n",
    "\n",
    "#### Empirical cumulative distribution functions (ECDFs)\n",
    "\n",
    "* x-axis is a sorted data (**np.sort()**)\n",
    "* y-axis is evenly spaced data points with a maximum of 1 (**np.arrange(1, len(x) + 1) / len(x)**)\n",
    "* to plot ecdf: **plt.plot(x, y, marker='.', linestype='none')**\n",
    "* to make sure non of the data points run off plot edges: **plt.margins(0.02)**"
   ]
  },
  {
   "cell_type": "code",
   "execution_count": 2,
   "metadata": {},
   "outputs": [],
   "source": [
    "def ecdf(data):\n",
    "    \"\"\"Compute ECDF for a one-dimensional array of measurements.\"\"\"\n",
    "    # Number of data points: n\n",
    "    n = len(data)\n",
    "\n",
    "    # x-data for the ECDF: x\n",
    "    x = np.sort(data)\n",
    "\n",
    "    # y-data for the ECDF: y\n",
    "    y = np.arange(1, n+1) / n\n",
    "\n",
    "    return x, y"
   ]
  },
  {
   "cell_type": "markdown",
   "metadata": {},
   "source": [
    "### Summary statistics\n",
    "\n",
    "#### Sample mean and median\n",
    "\n",
    "* **Mean**\n",
    "$${\\text{mean}} = \\bar{x} = \\frac{1}{n}\\sum_{i=1}^{n} x_i$$\n",
    "    * heavily influenced by outliers\n",
    "    * np.mean()\n",
    "* **Median**\n",
    "    * The middle value of a data set (50th percentile)\n",
    "    * np.median()\n",
    "    \n",
    "#### Percentiles, outliers, and box plots\n",
    "\n",
    "* **Percentiles**\n",
    "    * np.percentile(data, [25, 50, 75]) will return 25th, 50th, 75th percentiles\n",
    "\n",
    "* **Box plots**\n",
    "    * sns.boxplot(x, y, data)\n",
    "    * The box shows 25th, 50th, 75th percentiles\n",
    "    * Hight of the box = IQR = Interquartile Range = 75th - 25th percentile\n",
    "    * Whiskers = 1.5 IQR or the extent of data. Whichever is less extreme\n",
    "    * The points outside the whiskers are **outliers**. No definition of outliers but usually points that are 2 IQR away from the median are considered outliers.\n",
    "    * sns.boxplot()\n",
    "    \n",
    "#### Variance and Standard Deviation\n",
    "\n"
   ]
  },
  {
   "cell_type": "code",
   "execution_count": null,
   "metadata": {},
   "outputs": [],
   "source": []
  },
  {
   "cell_type": "code",
   "execution_count": null,
   "metadata": {},
   "outputs": [],
   "source": []
  },
  {
   "cell_type": "code",
   "execution_count": null,
   "metadata": {},
   "outputs": [],
   "source": []
  },
  {
   "cell_type": "code",
   "execution_count": null,
   "metadata": {},
   "outputs": [],
   "source": []
  },
  {
   "cell_type": "code",
   "execution_count": null,
   "metadata": {},
   "outputs": [],
   "source": []
  },
  {
   "cell_type": "code",
   "execution_count": null,
   "metadata": {},
   "outputs": [],
   "source": []
  },
  {
   "cell_type": "code",
   "execution_count": null,
   "metadata": {},
   "outputs": [],
   "source": []
  },
  {
   "cell_type": "code",
   "execution_count": null,
   "metadata": {},
   "outputs": [],
   "source": []
  },
  {
   "cell_type": "code",
   "execution_count": null,
   "metadata": {},
   "outputs": [],
   "source": []
  },
  {
   "cell_type": "code",
   "execution_count": null,
   "metadata": {},
   "outputs": [],
   "source": []
  },
  {
   "cell_type": "code",
   "execution_count": null,
   "metadata": {},
   "outputs": [],
   "source": []
  },
  {
   "cell_type": "code",
   "execution_count": null,
   "metadata": {},
   "outputs": [],
   "source": []
  },
  {
   "cell_type": "code",
   "execution_count": null,
   "metadata": {},
   "outputs": [],
   "source": []
  },
  {
   "cell_type": "code",
   "execution_count": null,
   "metadata": {},
   "outputs": [],
   "source": []
  },
  {
   "cell_type": "code",
   "execution_count": null,
   "metadata": {},
   "outputs": [],
   "source": []
  },
  {
   "cell_type": "code",
   "execution_count": null,
   "metadata": {},
   "outputs": [],
   "source": []
  },
  {
   "cell_type": "code",
   "execution_count": null,
   "metadata": {},
   "outputs": [],
   "source": []
  }
 ],
 "metadata": {
  "kernelspec": {
   "display_name": "Python [default]",
   "language": "python",
   "name": "python3"
  },
  "language_info": {
   "codemirror_mode": {
    "name": "ipython",
    "version": 3
   },
   "file_extension": ".py",
   "mimetype": "text/x-python",
   "name": "python",
   "nbconvert_exporter": "python",
   "pygments_lexer": "ipython3",
   "version": "3.5.4"
  }
 },
 "nbformat": 4,
 "nbformat_minor": 2
}
