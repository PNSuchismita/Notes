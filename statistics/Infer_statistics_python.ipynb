{
 "cells": [
  {
   "cell_type": "markdown",
   "metadata": {},
   "source": [
    "-------------------\n",
    "-------------------\n",
    "-------------------\n",
    "# Statistical Thinking in Python (Part 1)\n",
    "\n",
    "DataCamp: https://www.datacamp.com/courses/statistical-thinking-in-python-part-1\n",
    "\n",
    "-------------------\n",
    "-------------------\n",
    "-------------------"
   ]
  },
  {
   "cell_type": "markdown",
   "metadata": {},
   "source": [
    "## Exploratory Data Analysis (EDA)\n",
    "\n",
    "* The process of organizing, plotting, and summarizing a data set\n",
    "* John Tukey, \"Exploratory data analysis can never be the whole story, but nothing else can serve as the foundation stone.\""
   ]
  },
  {
   "cell_type": "markdown",
   "metadata": {},
   "source": [
    "----------------------------------------------\n",
    "### Graphical EDA\n",
    "\n",
    "#### Histograms\n",
    "\n",
    "* **binning bias**: The same data may be interpreted differently depending on choice of bins.\n",
    "* not all of the data are displayed. Data are combined in bins.\n",
    "\n",
    "#### Bee swarm plot\n",
    "\n",
    "* **problem**: endes can have overlapping points because we have to fit it in a plot.\n",
    "\n",
    "#### Empirical cumulative distribution functions (ECDFs)\n",
    "\n",
    "* the probability that our data is less than a particular value on the x-axis is equal to the corresponding value on the y-axis.\n",
    "* x-axis is a sorted data (**np.sort()**)\n",
    "* y-axis is evenly spaced data points with a maximum of 1 (**np.arrange(1, len(x) + 1) / len(x)**)\n",
    "* to plot ecdf: **plt.plot(x, y, marker='.', linestype='none')**\n",
    "* to make sure non of the data points run off plot edges: **plt.margins(0.02)**"
   ]
  },
  {
   "cell_type": "code",
   "execution_count": 3,
   "metadata": {},
   "outputs": [],
   "source": [
    "def ecdf(data):\n",
    "    \"\"\"Compute ECDF for a one-dimensional array of measurements.\"\"\"\n",
    "    # Number of data points: n\n",
    "    n = len(data)\n",
    "\n",
    "    # x-data for the ECDF: x\n",
    "    x = np.sort(data)\n",
    "\n",
    "    # y-data for the ECDF: y\n",
    "    y = np.arange(1, n+1) / n\n",
    "\n",
    "    return x, y"
   ]
  },
  {
   "cell_type": "markdown",
   "metadata": {},
   "source": [
    "----------------------------------------\n",
    "### Summary statistics\n",
    "\n",
    "#### Sample mean and median\n",
    "\n",
    "* **Mean**\n",
    "    * ${\\text{mean}} = \\bar{x} = \\frac{1}{n}\\sum_{i=1}^{n} x_i$\n",
    "    * heavily influenced by outliers\n",
    "    * **np.mean()**\n",
    "* **Median**\n",
    "    * The middle value of a data set (50th percentile)\n",
    "    * **np.median()**\n",
    "    \n",
    "#### Percentiles, outliers, and box plots\n",
    "\n",
    "* **Percentiles**\n",
    "    * $50\\%$ of the data are below 50th percentile.\n",
    "    * **np.percentile(data, [25, 50, 75])** will return 25th, 50th, 75th percentiles\n",
    "\n",
    "\n",
    "* **Box plots**\n",
    "    * **sns.boxplot(x, y, data)**\n",
    "    * The box shows 25th, 50th, 75th percentiles\n",
    "    * Hight of the box = **IQR = Interquartile Range = 75th - 25th percentile**\n",
    "    * **Whiskers = 1.5 IQR** or the extent of data. Whichever is less extreme\n",
    "    * The points outside the whiskers are **outliers**. No definition of outliers but usually points that are 2 IQR away from the median are considered outliers.\n",
    "    * **sns.boxplot()**\n",
    "    \n",
    "#### Variance and Standard Deviation\n",
    "\n",
    "* **Variance**\n",
    "    * variability of the data\n",
    "    * Average of the squared distances from the mean\n",
    "    * ${\\text{variance}} = \\frac{1}{n}\\sum_{i=1}^{n}(x_i-\\bar{x})^2$\n",
    "    * **np.var()**\n",
    "    \n",
    "* **Standard Deviation**\n",
    "    * square root of variance\n",
    "    * ${\\text{standard deviation}} = \\sqrt{{\\text{variance}}}$\n",
    "    * has the same units as the data\n",
    "    * **np.std()**\n",
    "    \n",
    "#### Covariance and Pearson Correlation Coefficient\n",
    "\n",
    "* **Covariance**\n",
    "    * A measure of how two quantities vary together\n",
    "    * ${\\text{covariance}} = \\frac{1}{n}\\sum_{i=1}^{n}(x_i-\\bar{x})(y_i-\\bar{y})$\n",
    "    * $x$ and $y$ are **positively correlated, covariance $>0$**, if $x$ and $y$ are both above or both below their means.\n",
    "    * $x$ and $y$ are **negatively correlated, covariance $<0$**, if $x$ is high and $y$ is low, or $x$ is low and $y$ is high.\n",
    "    * **np.cov()**\n",
    "    \n",
    "* **Pearson Correlation Coefficient**\n",
    "    * $\\rho = {\\text{Pearson Correlation}} = \\frac{{\\text{covariance}}}{{\\text{(std of x)(std of y)}}} = \\frac{{\\text{variability due to codependence}}}{{\\text{independent variability}}}$\n",
    "    * $\\rho$ is dimensionless, $-1 < \\rho < 1$\n",
    "    * if $\\rho = 0$, there is no correlation at all\n",
    "    * if $\\rho < 0$, $x$ and $y$ are negatively correlated\n",
    "    * if $\\rho > 0$, $x$ and $y$ are positively correlated\n",
    "    * **np.corrcoef()**"
   ]
  },
  {
   "cell_type": "markdown",
   "metadata": {},
   "source": [
    "-----------\n",
    "-----------\n",
    "## Probabilistic Logic and Statistical Inference\n",
    "\n",
    "* Probabilistic reasoning allows to describe uncertainty\n",
    "* Statistical inference is the process by which we go from measured data to probabilistic conclusions about what we might expect if we the same data again"
   ]
  },
  {
   "cell_type": "markdown",
   "metadata": {},
   "source": [
    "------------\n",
    "### Random Number Generator and Hacker Statistics\n",
    "\n",
    "* **hacker Statistics**: Uses simulated repeated measurements to compute probabilities\n",
    "* **np.random.random()** draws a number between 0 and 1\n",
    "* **np.random.seed()** if we need reproducability"
   ]
  },
  {
   "cell_type": "code",
   "execution_count": 11,
   "metadata": {},
   "outputs": [
    {
     "data": {
      "text/plain": [
       "0.0618"
      ]
     },
     "execution_count": 11,
     "metadata": {},
     "output_type": "execute_result"
    }
   ],
   "source": [
    "import numpy as np\n",
    "np.random.seed(42)\n",
    "\n",
    "n_all_heads = 0 # initialize number of 4-head coin-flip trials\n",
    "\n",
    "for _ in range(10000):\n",
    "    random_numbers = np.random.random(size=4)\n",
    "    heads = random_numbers < 0.5\n",
    "    n_heads = np.sum(heads)\n",
    "    if n_heads == 4:\n",
    "        n_all_heads += 1\n",
    "        \n",
    "n_all_heads/10000   # the probability of getting all 4 heads"
   ]
  },
  {
   "cell_type": "code",
   "execution_count": 14,
   "metadata": {},
   "outputs": [],
   "source": [
    "def perform_bernoulli_trials(n, p):\n",
    "    \"\"\"Perform n Bernoulli trials with success probability p\n",
    "    and return number of successes.\"\"\"\n",
    "    # Initialize number of successes: n_success\n",
    "    n_success = 0\n",
    "\n",
    "    # Perform trials\n",
    "    for i in range(n):\n",
    "        # Choose random number between zero and one: random_number\n",
    "        random_number = np.random.random()\n",
    "        # If less than p, it's a success so add one to n_success\n",
    "        if random_number < p:\n",
    "            n_success += 1 \n",
    "\n",
    "    return n_success"
   ]
  },
  {
   "cell_type": "markdown",
   "metadata": {},
   "source": [
    "### Probability Mass Function (PMF)\n",
    "\n",
    "* The set of probabilities of **discrete** outcomes\n",
    "* The outcome of rolling a single fair die is Discrete Uniformly distributed\n",
    "\n",
    "#### Binomial Distribution\n",
    "\n",
    "* The number $r$ of successes in $n$ Bernoulli trials with probability $p$ of success, is binomially distributed\n",
    "* **np.random.binomial(n, p)**\n",
    "* np.random.binomial(60, 0.8, size=10000): do 60 Bernoulli trials with 0.8 probability of success 10000 times.\n",
    "\n",
    "#### Poisson processes and the Poisson distribution\n",
    "\n",
    "* The number $r$ of arrivals of a Poisson process in a given time interval with average rate of $\\lambda$ arrivals per interval is Poisson distributed\n",
    "* The timing of the next event is completely independent of when the previous event happened\n",
    "* Example: hit on a website during a given hour\n",
    "* Poisson distribution is the limit of the Binomial distribution for low probability of success and large number of trials\n",
    "* **np.random.poisson(lam, size)**"
   ]
  },
  {
   "cell_type": "markdown",
   "metadata": {},
   "source": [
    "### Probability Density Functions (PDF) \n",
    "\n",
    "* Continuous analog to PMF\n",
    "* Mathematical description of the likelihood of observing a value of a continous variable\n",
    "\n",
    "#### Normal PDF\n",
    "\n",
    "* Describes a continuous variable whose PDF has a single symmetric peak\n",
    "* two parameters, **mean** and the **standard deviation**\n",
    "    * mean of a Normal distribution $\\ne$ mean computed from data\n",
    "    * standard deviation of Normal distribution $\\ne$ standard deviation computed from data\n",
    "* **np.random.nomral(mean, std, size)**\n",
    "\n",
    "Let's compare the distribution of the housing prices in Boston to the theoretical normal distribution."
   ]
  },
  {
   "cell_type": "code",
   "execution_count": 37,
   "metadata": {},
   "outputs": [],
   "source": [
    "import numpy as np\n",
    "import matplotlib.pyplot as plt\n",
    "import seaborn as sns\n",
    "import pandas as pd \n",
    "from sklearn import datasets\n",
    "sns.set()\n",
    "%matplotlib inline\n",
    "\n",
    "def compare_to_theor_normal(data):\n",
    "    \"\"\" Plot cumulative distribution of the data we have and the theoretical normal\n",
    "        with the same mean and standard deviation\n",
    "    \"\"\"\n",
    "    # compute the mean and standard deviation of our data\n",
    "    mean = np.mean(data)\n",
    "    std = np.std(data)\n",
    "    \n",
    "    # draw 10000 random normals with mean=mean, std=std\n",
    "    samples = np.random.normal(mean, std, size=10000)\n",
    "    \n",
    "    # cumulative distribution for data and theoretical normals with the same mean and std\n",
    "    x, y = ecdf(data)\n",
    "    x_theor, y_theor = ecdf(samples)\n",
    "    \n",
    "    _ = plt.plot(x_theor, y_theor)\n",
    "    _ = plt.plot(x, y, marker='.', linestyle='none')\n",
    "    _ = plt.ylabel('CDF')"
   ]
  },
  {
   "cell_type": "code",
   "execution_count": 39,
   "metadata": {},
   "outputs": [
    {
     "data": {
      "image/png": "[encoded data removed]",
      "text/plain": [
       "<matplotlib.figure.Figure at 0x1130ef9b0>"
      ]
     },
     "metadata": {},
     "output_type": "display_data"
    }
   ],
   "source": [
    "prices = datasets.load_boston().target\n",
    "compare_to_theor_normal(prices)"
   ]
  },
  {
   "cell_type": "markdown",
   "metadata": {},
   "source": [
    "We see that Boston housing prices, green, has longer right tail than normal distribution."
   ]
  },
  {
   "cell_type": "markdown",
   "metadata": {},
   "source": [
    "#### The Exponential distribution\n",
    "\n",
    "* The waiting time between arrivals of Poisson process is Exponentially distributed\n",
    "* single parameter, mean waiting time\n",
    "* **np.random.exponential(mean, size)**\n",
    "\n",
    "Let's compare the distribution of the housing prices in Boston to the theoretical exponential distribution.\n",
    "* This doesn't make much sense as we can tell without plotting that the prices are not exponential. All the prices are recorded at the same time so we can't compare the time passed between the two prices. But let's do this just for quick plotting."
   ]
  },
  {
   "cell_type": "code",
   "execution_count": 43,
   "metadata": {},
   "outputs": [],
   "source": [
    "import numpy as np\n",
    "import matplotlib.pyplot as plt\n",
    "import seaborn as sns\n",
    "import pandas as pd \n",
    "from sklearn import datasets\n",
    "sns.set()\n",
    "%matplotlib inline\n",
    "\n",
    "def compare_to_theor_exponential(data):\n",
    "    \"\"\" Plot cumulative distribution of the data we have\n",
    "        and the theoretical exponential with the same mean \n",
    "    \"\"\"\n",
    "    # compute the mean of our data\n",
    "    mean = np.mean(data)\n",
    "    \n",
    "    # draw 10000 random exponentials with mean=mean\n",
    "    samples = np.random.exponential(mean, size=10000)\n",
    "    \n",
    "    # cumulative distribution for data and theoretical exponentials with the same mean\n",
    "    x, y = ecdf(data)\n",
    "    x_theor, y_theor = ecdf(samples)\n",
    "    \n",
    "    _ = plt.plot(x_theor, y_theor)\n",
    "    _ = plt.plot(x, y, marker='.', linestyle='none')\n",
    "    _ = plt.ylabel('CDF')"
   ]
  },
  {
   "cell_type": "code",
   "execution_count": 45,
   "metadata": {},
   "outputs": [
    {
     "data": {
      "image/png": "[encoded data removed]",
      "text/plain": [
       "<matplotlib.figure.Figure at 0x1157adc18>"
      ]
     },
     "metadata": {},
     "output_type": "display_data"
    }
   ],
   "source": [
    "prices = datasets.load_boston().target\n",
    "compare_to_theor_exponential(prices)"
   ]
  },
  {
   "cell_type": "markdown",
   "metadata": {},
   "source": [
    "The housing prices in Boston are not at all exponential as we would expect."
   ]
  },
  {
   "cell_type": "code",
   "execution_count": null,
   "metadata": {},
   "outputs": [],
   "source": []
  },
  {
   "cell_type": "code",
   "execution_count": null,
   "metadata": {},
   "outputs": [],
   "source": []
  },
  {
   "cell_type": "code",
   "execution_count": null,
   "metadata": {},
   "outputs": [],
   "source": []
  }
 ],
 "metadata": {
  "kernelspec": {
   "display_name": "Python [default]",
   "language": "python",
   "name": "python3"
  },
  "language_info": {
   "codemirror_mode": {
    "name": "ipython",
    "version": 3
   },
   "file_extension": ".py",
   "mimetype": "text/x-python",
   "name": "python",
   "nbconvert_exporter": "python",
   "pygments_lexer": "ipython3",
   "version": "3.5.4"
  }
 },
 "nbformat": 4,
 "nbformat_minor": 2
}
