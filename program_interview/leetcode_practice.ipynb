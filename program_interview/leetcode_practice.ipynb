{
 "cells": [
  {
   "cell_type": "markdown",
   "metadata": {},
   "source": [
    "# Roman to Integer\n",
    "https://leetcode.com/problems/roman-to-integer/"
   ]
  },
  {
   "cell_type": "code",
   "execution_count": 32,
   "metadata": {},
   "outputs": [],
   "source": [
    "def roman_to_integer(r=''):\n",
    "    \"\"\" sring representing a roman numeral -> integer representation\n",
    "    \n",
    "    >>> roman_to_integer('III')\n",
    "    3\n",
    "    >>> roman_to_integer('IV')\n",
    "    4\n",
    "    >>> roman_to_integer('IX')\n",
    "    9\n",
    "    >>> roman_to_integer('LVIII')\n",
    "    58\n",
    "    >>> roman_to_integer('MCMXCIV')\n",
    "    1994\n",
    "    >>> roman_to_integer(\"MMMXLIV\")\n",
    "    3044\n",
    "    >>> roman_to_integer(\"MMMCDXC\")\n",
    "    3490\n",
    "    \"\"\"\n",
    "    map_dict = {\"I\": 1, \"V\": 5, \"X\": 10, \"L\": 50, \"C\": 100, \"D\": 500, \"M\": 1000}\n",
    "    list_int = []\n",
    "    \n",
    "    i = len(r) - 1\n",
    "    while i >= 0:\n",
    "        if i == 0:\n",
    "            list_int.append(map_dict[r[i]])\n",
    "            i -= 1\n",
    "        elif r[i-1] == \"I\" and r[i] == \"V\":\n",
    "            list_int.append(4)\n",
    "            i -= 2\n",
    "        elif r[i-1] == \"I\" and r[i] == \"X\":\n",
    "            list_int.append(9)\n",
    "            i -= 2\n",
    "        elif r[i-1] == \"X\" and r[i] == \"L\":\n",
    "            list_int.append(40)\n",
    "            i -= 2\n",
    "        elif r[i-1] == \"X\" and r[i] == \"C\":\n",
    "            list_int.append(90)\n",
    "            i -= 2\n",
    "        elif r[i-1] == \"C\" and r[i] == \"D\":\n",
    "            list_int.append(400)\n",
    "            i -= 2\n",
    "        elif r[i-1] == \"C\" and r[i] == \"M\":\n",
    "            list_int.append(900)\n",
    "            i -= 2\n",
    "        else:\n",
    "            list_int.append(map_dict[r[i]])\n",
    "            i -= 1\n",
    "    print(list_int)\n",
    "        \n",
    "#    return sum(list_int)\n",
    "\n",
    "#import doctest\n",
    "#doctest.testmod()"
   ]
  },
  {
   "cell_type": "code",
   "execution_count": 33,
   "metadata": {},
   "outputs": [
    {
     "name": "stdout",
     "output_type": "stream",
     "text": [
      "[90, 400, 1000, 1000, 1000]\n"
     ]
    }
   ],
   "source": [
    "roman_to_integer(\"MMMCDXC\")"
   ]
  },
  {
   "cell_type": "code",
   "execution_count": null,
   "metadata": {},
   "outputs": [],
   "source": []
  }
 ],
 "metadata": {
  "kernelspec": {
   "display_name": "Python [default]",
   "language": "python",
   "name": "python3"
  },
  "language_info": {
   "codemirror_mode": {
    "name": "ipython",
    "version": 3
   },
   "file_extension": ".py",
   "mimetype": "text/x-python",
   "name": "python",
   "nbconvert_exporter": "python",
   "pygments_lexer": "ipython3",
   "version": "3.5.6"
  }
 },
 "nbformat": 4,
 "nbformat_minor": 2
}
