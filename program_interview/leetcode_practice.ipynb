{
 "cells": [
  {
   "cell_type": "markdown",
   "metadata": {},
   "source": [
    "# Roman to Integer\n",
    "https://leetcode.com/problems/roman-to-integer/"
   ]
  },
  {
   "cell_type": "code",
   "execution_count": 34,
   "metadata": {},
   "outputs": [
    {
     "data": {
      "text/plain": [
       "TestResults(failed=0, attempted=7)"
      ]
     },
     "execution_count": 34,
     "metadata": {},
     "output_type": "execute_result"
    }
   ],
   "source": [
    "def roman_to_integer(r=''):\n",
    "    \"\"\" sring representing a roman numeral -> integer representation\n",
    "    \n",
    "    >>> roman_to_integer('III')\n",
    "    3\n",
    "    >>> roman_to_integer('IV')\n",
    "    4\n",
    "    >>> roman_to_integer('IX')\n",
    "    9\n",
    "    >>> roman_to_integer('LVIII')\n",
    "    58\n",
    "    >>> roman_to_integer('MCMXCIV')\n",
    "    1994\n",
    "    >>> roman_to_integer(\"MMMXLIV\")\n",
    "    3044\n",
    "    >>> roman_to_integer(\"MMMCDXC\")\n",
    "    3490\n",
    "    \"\"\"\n",
    "    map_dict = {\"I\": 1, \"V\": 5, \"X\": 10, \"L\": 50, \"C\": 100, \"D\": 500, \"M\": 1000}\n",
    "    list_int = []\n",
    "    \n",
    "    i = len(r) - 1\n",
    "    while i >= 0:\n",
    "        if i == 0:\n",
    "            list_int.append(map_dict[r[i]])\n",
    "            i -= 1\n",
    "        elif r[i-1] == \"I\" and r[i] == \"V\":\n",
    "            list_int.append(4)\n",
    "            i -= 2\n",
    "        elif r[i-1] == \"I\" and r[i] == \"X\":\n",
    "            list_int.append(9)\n",
    "            i -= 2\n",
    "        elif r[i-1] == \"X\" and r[i] == \"L\":\n",
    "            list_int.append(40)\n",
    "            i -= 2\n",
    "        elif r[i-1] == \"X\" and r[i] == \"C\":\n",
    "            list_int.append(90)\n",
    "            i -= 2\n",
    "        elif r[i-1] == \"C\" and r[i] == \"D\":\n",
    "            list_int.append(400)\n",
    "            i -= 2\n",
    "        elif r[i-1] == \"C\" and r[i] == \"M\":\n",
    "            list_int.append(900)\n",
    "            i -= 2\n",
    "        else:\n",
    "            list_int.append(map_dict[r[i]])\n",
    "            i -= 1\n",
    "    return sum(list_int)\n",
    "\n",
    "import doctest\n",
    "doctest.testmod()"
   ]
  },
  {
   "cell_type": "markdown",
   "metadata": {},
   "source": [
    "# Longest Common Prefix\n",
    "\n",
    "https://leetcode.com/problems/longest-common-prefix/"
   ]
  },
  {
   "cell_type": "code",
   "execution_count": 68,
   "metadata": {},
   "outputs": [
    {
     "data": {
      "text/plain": [
       "\u001b[0;31mSignature:\u001b[0m \u001b[0mskewnorm\u001b[0m\u001b[0;34m.\u001b[0m\u001b[0mrvs\u001b[0m\u001b[0;34m(\u001b[0m\u001b[0;34m*\u001b[0m\u001b[0margs\u001b[0m\u001b[0;34m,\u001b[0m \u001b[0;34m**\u001b[0m\u001b[0mkwds\u001b[0m\u001b[0;34m)\u001b[0m\u001b[0;34m\u001b[0m\u001b[0m\n",
       "\u001b[0;31mDocstring:\u001b[0m\n",
       "Random variates of given type.\n",
       "\n",
       "Parameters\n",
       "----------\n",
       "arg1, arg2, arg3,... : array_like\n",
       "    The shape parameter(s) for the distribution (see docstring of the\n",
       "    instance object for more information).\n",
       "loc : array_like, optional\n",
       "    Location parameter (default=0).\n",
       "scale : array_like, optional\n",
       "    Scale parameter (default=1).\n",
       "size : int or tuple of ints, optional\n",
       "    Defining number of random variates (default is 1).\n",
       "random_state : None or int or ``np.random.RandomState`` instance, optional\n",
       "    If int or RandomState, use it for drawing the random variates.\n",
       "    If None, rely on ``self.random_state``.\n",
       "    Default is None.\n",
       "\n",
       "Returns\n",
       "-------\n",
       "rvs : ndarray or scalar\n",
       "    Random variates of given `size`.\n",
       "\u001b[0;31mFile:\u001b[0m      ~/anaconda/lib/python3.5/site-packages/scipy/stats/_distn_infrastructure.py\n",
       "\u001b[0;31mType:\u001b[0m      method\n"
      ]
     },
     "metadata": {},
     "output_type": "display_data"
    }
   ],
   "source": [
    "?skewnorm.rvs"
   ]
  },
  {
   "cell_type": "code",
   "execution_count": null,
   "metadata": {},
   "outputs": [],
   "source": []
  },
  {
   "cell_type": "code",
   "execution_count": null,
   "metadata": {},
   "outputs": [],
   "source": []
  },
  {
   "cell_type": "code",
   "execution_count": null,
   "metadata": {},
   "outputs": [],
   "source": []
  },
  {
   "cell_type": "code",
   "execution_count": null,
   "metadata": {},
   "outputs": [],
   "source": []
  },
  {
   "cell_type": "code",
   "execution_count": 2,
   "metadata": {},
   "outputs": [
    {
     "data": {
      "text/plain": [
       "126.348"
      ]
     },
     "execution_count": 2,
     "metadata": {},
     "output_type": "execute_result"
    }
   ],
   "source": [
    "import numpy as np\n",
    "import matplotlib.pyplot as plt\n",
    "\n",
    "numbers = [120, 120.4, 120.5, 122.1, 122, 122.3, 123, 124, 125, 127, 132.22, 140, 144]\n",
    "round(np.mean(numbers), 3)"
   ]
  },
  {
   "cell_type": "code",
   "execution_count": 3,
   "metadata": {},
   "outputs": [
    {
     "data": {
      "image/png": "[encoded data removed]",
      "text/plain": [
       "<Figure size 432x288 with 1 Axes>"
      ]
     },
     "metadata": {
      "needs_background": "light"
     },
     "output_type": "display_data"
    }
   ],
   "source": [
    "count, bins, ignored = plt.hist(numbers, bins=50, alpha=0.4)\n",
    "_= plt.axvline(np.mean(numbers), ymax=0.7, linewidth=2, color='r')\n",
    "_= plt.axvline(np.median(numbers), ymax=0.8, linewidth=3, color='green')"
   ]
  },
  {
   "cell_type": "code",
   "execution_count": null,
   "metadata": {},
   "outputs": [],
   "source": []
  },
  {
   "cell_type": "code",
   "execution_count": null,
   "metadata": {},
   "outputs": [],
   "source": []
  }
 ],
 "metadata": {
  "kernelspec": {
   "display_name": "Python [default]",
   "language": "python",
   "name": "python3"
  },
  "language_info": {
   "codemirror_mode": {
    "name": "ipython",
    "version": 3
   },
   "file_extension": ".py",
   "mimetype": "text/x-python",
   "name": "python",
   "nbconvert_exporter": "python",
   "pygments_lexer": "ipython3",
   "version": "3.5.6"
  }
 },
 "nbformat": 4,
 "nbformat_minor": 2
}
