{
 "cells": [
  {
   "cell_type": "markdown",
   "metadata": {},
   "source": [
    "## Mock interview 1\n",
    "\n",
    "The question featured on the first page of the following website: https://www.interviewcake.com"
   ]
  },
  {
   "cell_type": "code",
   "execution_count": 46,
   "metadata": {},
   "outputs": [],
   "source": [
    "def get_max_profit(stock_prices):\n",
    "    \"\"\" list of nums -> number\n",
    "    \n",
    "    >>> get_max_profit([10, 7, 5, 8, 11, 9])\n",
    "    6\n",
    "    >>> get_max_profit([10])\n",
    "    0\n",
    "    >>> get_max_profit([10, 4])\n",
    "    0\n",
    "    >>> get_max_profit([9, 5, 4, 1, 10])\n",
    "    9\n",
    "    >>> get_max_profit([1, 7, 4, 8, 7, 9, 5, 10])\n",
    "    9\n",
    "    \"\"\"\n",
    "    ## look at the minimum number in the list\n",
    "    minimum = min(stock_prices)\n",
    "    \n",
    "    ## look at the maximum number in the sublist that starts from the minimum.\n",
    "    maximum = max(stock_prices[stock_prices.index(minimum):])\n",
    "    result = maximum - minimum\n",
    "    \n",
    "    while stock_prices.index(minimum) > 0:\n",
    "        # Look at the minimum in the sublist that ends right before the previous minimum.\n",
    "        cur_min = min(stock_prices[:stock_prices.index(minimum)])\n",
    "    \n",
    "        ## Look at the maximum in the sublist that starts from the cur_min.\n",
    "        ##    If cur_max < maximum, don't do anything.\n",
    "        ##    If cur_max > maximum, and (cur_max - cur_min) < (maximum - minimum), don't do anything.\n",
    "        ##    If cur_max > maximum, and (cur_max - cur_min) > (maximum - minimum), result = cur_max - cur_min\n",
    "        cur_max = max(stock_prices[stock_prices.index(cur_min):])\n",
    "        if (cur_max > maximum) & (cur_max - cur_min > result):\n",
    "            result = cur_max - cur_min\n",
    "        maximum = cur_max\n",
    "        minimum = cur_min\n",
    "    return result  "
   ]
  },
  {
   "cell_type": "code",
   "execution_count": 47,
   "metadata": {},
   "outputs": [
    {
     "data": {
      "text/plain": [
       "TestResults(failed=0, attempted=5)"
      ]
     },
     "execution_count": 47,
     "metadata": {},
     "output_type": "execute_result"
    }
   ],
   "source": [
    "import doctest\n",
    "doctest.testmod()"
   ]
  },
  {
   "cell_type": "code",
   "execution_count": null,
   "metadata": {},
   "outputs": [],
   "source": []
  }
 ],
 "metadata": {
  "kernelspec": {
   "display_name": "Python [default]",
   "language": "python",
   "name": "python3"
  },
  "language_info": {
   "codemirror_mode": {
    "name": "ipython",
    "version": 3
   },
   "file_extension": ".py",
   "mimetype": "text/x-python",
   "name": "python",
   "nbconvert_exporter": "python",
   "pygments_lexer": "ipython3",
   "version": "3.5.4"
  }
 },
 "nbformat": 4,
 "nbformat_minor": 2
}
