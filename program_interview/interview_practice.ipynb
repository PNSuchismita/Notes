{
 "cells": [
  {
   "cell_type": "markdown",
   "metadata": {},
   "source": [
    "## Interview practice 1\n",
    "\n",
    "The question featured on the first page of the following website: https://www.interviewcake.com"
   ]
  },
  {
   "cell_type": "code",
   "execution_count": 1,
   "metadata": {},
   "outputs": [],
   "source": [
    "def get_max_profit(stock_prices):\n",
    "    \"\"\" list of nums -> number\n",
    "    \n",
    "    >>> get_max_profit([10, 7, 5, 8, 11, 9])\n",
    "    6\n",
    "    >>> get_max_profit([10])\n",
    "    0\n",
    "    >>> get_max_profit([10, 4])\n",
    "    0\n",
    "    >>> get_max_profit([9, 5, 8, 1, 10])\n",
    "    9\n",
    "    >>> get_max_profit([1, 7, 4, 8, 7, 9, 5, 10])\n",
    "    9\n",
    "    \"\"\"\n",
    "    # look at the minimum number in the list\n",
    "    minimum = min(stock_prices)\n",
    "    \n",
    "    # look at the maximum number in the sublist that starts from the minimum.\n",
    "    maximum = max(stock_prices[stock_prices.index(minimum):])\n",
    "    result = maximum - minimum\n",
    "    \n",
    "    while stock_prices.index(minimum) > 0:\n",
    "        # Look at the minimum in the sublist that ends right before the previous minimum.\n",
    "        cur_min = min(stock_prices[:stock_prices.index(minimum)])\n",
    "    \n",
    "        # Look at the maximum in the sublist that starts from the cur_min.\n",
    "        cur_max = max(stock_prices[stock_prices.index(cur_min):])\n",
    "        \n",
    "        # If cur_max < maximum, don't do anything.\n",
    "        # If cur_max > maximum, and (cur_max - cur_min) < result, don't do anything.\n",
    "        # If cur_max > maximum, and (cur_max - cur_min) > result, result = cur_max - cur_min\n",
    "        if (cur_max > maximum) & (cur_max - cur_min > result):\n",
    "            result = cur_max - cur_min\n",
    "        maximum = cur_max\n",
    "        minimum = cur_min\n",
    "    return result  "
   ]
  },
  {
   "cell_type": "code",
   "execution_count": 2,
   "metadata": {},
   "outputs": [
    {
     "data": {
      "text/plain": [
       "TestResults(failed=0, attempted=5)"
      ]
     },
     "execution_count": 2,
     "metadata": {},
     "output_type": "execute_result"
    }
   ],
   "source": [
    "import doctest\n",
    "doctest.testmod()"
   ]
  },
  {
   "cell_type": "code",
   "execution_count": null,
   "metadata": {},
   "outputs": [],
   "source": []
  },
  {
   "cell_type": "markdown",
   "metadata": {},
   "source": [
    "## Interview practice 2"
   ]
  },
  {
   "cell_type": "code",
   "execution_count": 21,
   "metadata": {},
   "outputs": [
    {
     "data": {
      "text/plain": [
       "TestResults(failed=0, attempted=8)"
      ]
     },
     "execution_count": 21,
     "metadata": {},
     "output_type": "execute_result"
    }
   ],
   "source": [
    "def check_punc(a):\n",
    "    \"\"\" string -> boolean \n",
    "    Returns True if the given letter is either '.' or ' ', False otherwise.\n",
    "    >>> check_punc('a')\n",
    "    False\n",
    "    >>> check_punc(' ')\n",
    "    True\n",
    "    >>> check_punc('.')\n",
    "    True\n",
    "    \"\"\"\n",
    "    if a in ['.', ' ']:\n",
    "        return True\n",
    "    else:\n",
    "        return False\n",
    "\n",
    "def palindrom(a):\n",
    "    \"\"\" string -> boolean\n",
    "    Checks if the sentence is palindrom ignoring the punctuation marks ('.' and ' ')\n",
    "    >>> palindrom(' b ')\n",
    "    True\n",
    "    >>> palindrom('anna')\n",
    "    True\n",
    "    >>> palindrom(\"Tom\")\n",
    "    False\n",
    "    >>> palindrom(\"Too hot to hoot.\")\n",
    "    True\n",
    "    >>> palindrom(\"Abc def ghi jklm.\")\n",
    "    False\n",
    "    \"\"\"\n",
    "    a = a.lower()\n",
    "    i1 = 0\n",
    "    i2 = -1\n",
    "    answer = True\n",
    "    \n",
    "    while i1 < len(a)-(-i2):\n",
    "        # change indices if the current indices correspond to punctuations\n",
    "        if check_punc(a[i1]) and check_punc(a[i2]):\n",
    "            i1 += 1\n",
    "            i2 -= 1\n",
    "        elif check_punc(a[i1]):\n",
    "            i1 += 1\n",
    "        elif check_punc(a[i2]):\n",
    "            i2 -= 1\n",
    "         \n",
    "        # compare the letters\n",
    "        if i1 >= len(a)-(-i2):\n",
    "            break\n",
    "        elif a[i1] != a[i2]:\n",
    "            answer = False\n",
    "            break\n",
    "        else:\n",
    "            i1 += 1\n",
    "            i2 -= 1\n",
    "            \n",
    "    return answer \n",
    "\n",
    "import doctest\n",
    "doctest.testmod()"
   ]
  },
  {
   "cell_type": "markdown",
   "metadata": {},
   "source": [
    "Note: The above solution doesn't account for empty string or one-character strings. Also, it doesn't account for the string that include neighbor punctuations. \n",
    "\n",
    "Here is a solution to the above palindrom problem: https://www.geeksforgeeks.org/sentence-palindrome-palindrome-removing-spaces-dots-etc/\n",
    "\n",
    "Here is the answer from that link."
   ]
  },
  {
   "cell_type": "code",
   "execution_count": 28,
   "metadata": {},
   "outputs": [
    {
     "name": "stdout",
     "output_type": "stream",
     "text": [
      "Sentence is palindrome.\n"
     ]
    }
   ],
   "source": [
    "# Python program to find if a sentence is\n",
    "# palindrome\n",
    "# To check sentence is palindrome or not\n",
    "def sentencePalindrome(s):\n",
    "    l, h = 0, len(s) - 1\n",
    "   \n",
    "    # Lowercase string\n",
    "    s = s.lower()\n",
    "   \n",
    "    # Compares character until they are equal\n",
    "    while (l <= h):\n",
    "   \n",
    "        # If there is another symbol in left\n",
    "        # of sentence\n",
    "        if (not(s[l] >= 'a' and s[l] <= 'z')):\n",
    "            l += 1\n",
    "   \n",
    "        # If there is another symbol in right \n",
    "        # of sentence\n",
    "        elif (not(s[h] >= 'a' and s[h] <= 'z')):\n",
    "            h -= 1\n",
    "   \n",
    "        # If characters are equal\n",
    "        elif (s[l] == s[h]):\n",
    "            l += 1\n",
    "            h -= 1\n",
    "         \n",
    "        # If characters are not equal then\n",
    "        # sentence is not palindrome\n",
    "        else:\n",
    "            return False\n",
    "    # Returns true if sentence is palindrome\n",
    "    return True\n",
    "   \n",
    "# Driver program to test sentencePalindrome()\n",
    "s = \"Toohot  to ho  ot.\"\n",
    "if (sentencePalindrome(s)):\n",
    "    print(\"Sentence is palindrome.\")\n",
    "else:\n",
    "    print(\"Sentence is not palindrome.\")"
   ]
  },
  {
   "cell_type": "markdown",
   "metadata": {},
   "source": [
    "A simple fix on my code will make it work for neighbor punctuations as well. here is it."
   ]
  },
  {
   "cell_type": "code",
   "execution_count": 31,
   "metadata": {},
   "outputs": [
    {
     "data": {
      "text/plain": [
       "TestResults(failed=0, attempted=11)"
      ]
     },
     "execution_count": 31,
     "metadata": {},
     "output_type": "execute_result"
    }
   ],
   "source": [
    "def check_punc(a):\n",
    "    \"\"\" string -> boolean \n",
    "    Returns True if the given letter is either '.' or ' ', False otherwise.\n",
    "    >>> check_punc('a')\n",
    "    False\n",
    "    >>> check_punc(' ')\n",
    "    True\n",
    "    >>> check_punc('.')\n",
    "    True\n",
    "    \"\"\"\n",
    "    if a in ['.', ' ']:\n",
    "        return True\n",
    "    else:\n",
    "        return False\n",
    "\n",
    "def palindrom(a):\n",
    "    \"\"\" string -> boolean\n",
    "    Checks if the sentence is palindrom ignoring the punctuation marks ('.' and ' ')\n",
    "    >>> palindrom(' b ')\n",
    "    True\n",
    "    >>> palindrom('a')\n",
    "    True\n",
    "    >>> palindrom('')\n",
    "    True\n",
    "    >>> palindrom('anna')\n",
    "    True\n",
    "    >>> palindrom(\"Tom\")\n",
    "    False\n",
    "    >>> palindrom(\"Too hot to hoot.\")\n",
    "    True\n",
    "    >>> palindrom(\"Abc def ghi jklm.\")\n",
    "    False\n",
    "    >>> palindrom(\"Too  ...  hot to hoot.\")\n",
    "    True\n",
    "    \"\"\"\n",
    "    a = a.lower()\n",
    "    i1 = 0\n",
    "    i2 = -1\n",
    "    answer = True\n",
    "    \n",
    "    while i1 < len(a)-(-i2):\n",
    "        # change indices if the current indices correspond to punctuations\n",
    "        if check_punc(a[i1]) and check_punc(a[i2]):\n",
    "            i1 += 1\n",
    "            i2 -= 1\n",
    "        elif check_punc(a[i1]):\n",
    "            i1 += 1\n",
    "        elif check_punc(a[i2]):\n",
    "            i2 -= 1\n",
    "        elif a[i1] != a[i2]:\n",
    "            answer = False\n",
    "            break\n",
    "        else:\n",
    "            i1 += 1\n",
    "            i2 -= 1\n",
    "            \n",
    "    return answer \n",
    "\n",
    "import doctest\n",
    "doctest.testmod()"
   ]
  },
  {
   "cell_type": "code",
   "execution_count": null,
   "metadata": {},
   "outputs": [],
   "source": []
  },
  {
   "cell_type": "code",
   "execution_count": null,
   "metadata": {},
   "outputs": [],
   "source": []
  },
  {
   "cell_type": "code",
   "execution_count": null,
   "metadata": {},
   "outputs": [],
   "source": []
  }
 ],
 "metadata": {
  "kernelspec": {
   "display_name": "Python [default]",
   "language": "python",
   "name": "python3"
  },
  "language_info": {
   "codemirror_mode": {
    "name": "ipython",
    "version": 3
   },
   "file_extension": ".py",
   "mimetype": "text/x-python",
   "name": "python",
   "nbconvert_exporter": "python",
   "pygments_lexer": "ipython3",
   "version": "3.5.4"
  }
 },
 "nbformat": 4,
 "nbformat_minor": 2
}
