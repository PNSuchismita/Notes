{
 "cells": [
  {
   "cell_type": "markdown",
   "metadata": {},
   "source": [
    "# Big Data Modeling and Management Systems\n",
    "\n",
    "[Big Data Specialization, UC San Diego, Coursera](https://www.coursera.org/specializations/big-data)"
   ]
  },
  {
   "cell_type": "markdown",
   "metadata": {},
   "source": [
    "## Goals\n",
    "\n",
    "* **The Goal of  Data Modeling**. Formally explore the nature of data, so that you can figure out what kind of storage you need, and what kind of processing you can do on it.\n",
    "\n",
    "* **The Goal of Data Management**. Figure out what kind of infrastructure support you would need for the data. For example\n",
    "    * Does your environment need to keep multiple replicas of the data? \n",
    "    * Do you need to do statistical computation with the data?"
   ]
  },
  {
   "cell_type": "markdown",
   "metadata": {},
   "source": [
    "## What is Data Management\n",
    "\n",
    "### Data Ingestion\n",
    "\n",
    "Ingestion means the process of getting the data into the data system that we are building or using.\n",
    "\n",
    "Questions to ask when you automate the data ingestion.\n",
    "\n",
    "* **How many** data **sources**?\n",
    "* **How large** are data **items**?\n",
    "* Will the number of **data sources grow**?\n",
    "* **Rate** of data ingestion?\n",
    "* What to do with **bad data**?\n",
    "* What to do when data is **too little or too much**?\n",
    "\n",
    "### Data Storage\n",
    "\n",
    "* How much data to store?\n",
    "    * **Capacity**\n",
    "        * What should be the size of the memory?\n",
    "        * How large and how many disk units should we have, and so forth.\n",
    "    * **Scalability**\n",
    "        * Should the storage devices be attached directly to the computers to make the direct IO fast but less scalable?\n",
    "        * Or should the storage be attached to the network that connect the computers in the cluster?  \n",
    "            This will make disk access a bit slower but allows one to add more storage to the system easily.\n",
    "* How fast do we need to read/write?\n",
    "    * **Cache memory**: lives inside the CPU and is very fast.\n",
    "    * **SSD**s (Solid State Device) are faster than **HDD** \n",
    "    \n",
    "### Data Quality\n",
    "\n",
    "* Better quality means better analytics and better decision making.\n",
    "* Quality assurance means needed for regulatory compliance.\n",
    "* Quality leads to better engagement and interaction with external entities.\n",
    "\n",
    "### Data Operations\n",
    "\n",
    "* Operations **on single data items** that produce a sub-item\n",
    "* Operations **on collections of data items**\n",
    "    * Operations that **select** a part of a collection\n",
    "    * Operations that **combine** two collections\n",
    "    * Operations that **compute a function** on a collection\n",
    "* Efficiency of Data Operations\n",
    "    * Measured by time and space\n",
    "    * Should use parallelism\n",
    "    \n",
    "    \n",
    "### Data Scalability and Security\n",
    "\n",
    "* Scalability\n",
    "    * **Scaling Up** (Vertical Scaling): Making a server more poweful\n",
    "        * Adding more processors and RAM, buying more expensive and robust server\n",
    "        * Many **operations perform better** with more memory, more cores\n",
    "        * Maintenance can be difficult, expensive\n",
    "    * **Scaling Out** (Horizontal Scaling): Adding more machines\n",
    "        * Adding more, possibly less poweful machines that interconnect over a network\n",
    "        * **Parallel operations** will possibly be **slower**\n",
    "        * Easier in practice to add more machines\n",
    "* Data Security\n",
    "    * A must for sensitive data\n",
    "    * Increasing the number of machines leads to more security risks\n",
    "    * Data in transit must be secure\n",
    "    * Encryption and decryption increase security but make data operations expensive\n",
    "    "
   ]
  },
  {
   "cell_type": "code",
   "execution_count": null,
   "metadata": {},
   "outputs": [],
   "source": []
  },
  {
   "cell_type": "code",
   "execution_count": null,
   "metadata": {},
   "outputs": [],
   "source": []
  },
  {
   "cell_type": "code",
   "execution_count": null,
   "metadata": {},
   "outputs": [],
   "source": []
  },
  {
   "cell_type": "code",
   "execution_count": null,
   "metadata": {},
   "outputs": [],
   "source": []
  },
  {
   "cell_type": "code",
   "execution_count": null,
   "metadata": {},
   "outputs": [],
   "source": []
  },
  {
   "cell_type": "code",
   "execution_count": null,
   "metadata": {},
   "outputs": [],
   "source": []
  },
  {
   "cell_type": "code",
   "execution_count": null,
   "metadata": {},
   "outputs": [],
   "source": []
  },
  {
   "cell_type": "markdown",
   "metadata": {},
   "source": [
    "### Reading\n",
    "\n",
    "[Getting started with storage. Understanding SAN vs NAS vs DAS.](https://vanillavideo.com/blog/2014/started-storage-understanding-san-nas-das)"
   ]
  }
 ],
 "metadata": {
  "kernelspec": {
   "display_name": "Python 3",
   "language": "python",
   "name": "python3"
  },
  "language_info": {
   "codemirror_mode": {
    "name": "ipython",
    "version": 3
   },
   "file_extension": ".py",
   "mimetype": "text/x-python",
   "name": "python",
   "nbconvert_exporter": "python",
   "pygments_lexer": "ipython3",
   "version": "3.7.3"
  }
 },
 "nbformat": 4,
 "nbformat_minor": 4
}
