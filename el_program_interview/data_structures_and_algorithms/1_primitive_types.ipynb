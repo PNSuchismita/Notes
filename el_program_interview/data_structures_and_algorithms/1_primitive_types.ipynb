{
 "cells": [
  {
   "cell_type": "markdown",
   "metadata": {},
   "source": [
    "# Primitive Types\n",
    "\n",
    "## How they are represented in memory\n",
    "\n",
    "* **integers** - the size of integer is limited only by the machine's memory. "
   ]
  },
  {
   "cell_type": "code",
   "execution_count": 5,
   "metadata": {},
   "outputs": [
    {
     "data": {
      "text/plain": [
       "9223372036854775807"
      ]
     },
     "execution_count": 5,
     "metadata": {},
     "output_type": "execute_result"
    }
   ],
   "source": [
    "import sys\n",
    "sys.maxsize"
   ]
  },
  {
   "cell_type": "markdown",
   "metadata": {},
   "source": [
    "* **floats**"
   ]
  },
  {
   "cell_type": "code",
   "execution_count": 7,
   "metadata": {},
   "outputs": [
    {
     "data": {
      "text/plain": [
       "sys.float_info(max=1.7976931348623157e+308, max_exp=1024, max_10_exp=308, min=2.2250738585072014e-308, min_exp=-1021, min_10_exp=-307, dig=15, mant_dig=53, epsilon=2.220446049250313e-16, radix=2, rounds=1)"
      ]
     },
     "execution_count": 7,
     "metadata": {},
     "output_type": "execute_result"
    }
   ],
   "source": [
    "sys.float_info"
   ]
  },
  {
   "cell_type": "markdown",
   "metadata": {},
   "source": [
    "## Boolean Operations\n",
    "\n",
    "*Python3 documentation: https://docs.python.org/3/library/stdtypes.html#boolean-operations-and-or-not*\n",
    "\n",
    "| Operation | Result | Notes\n",
    "| --------- | ------ | -----\n",
    "| x or y | if x is false, then y, else x | (1)\n",
    "| x and y | if x is false, then x, else y | (2)\n",
    "| not x | if x is false, then True, else False | (3)\n",
    "\n",
    "Notes:\n",
    "\n",
    "1. This is a short-circuit operator, so it only evaluates the second argument if the first one is false.\n",
    "2. This is a short-circuit operator, so it only evaluates the second argument if the first one is true.\n",
    "* not has a lower priority than non-Boolean operators, so not a == b is interpreted as not (a == b), and a == not b is a syntax error."
   ]
  },
  {
   "cell_type": "markdown",
   "metadata": {},
   "source": [
    "## Comparison Operations\n",
    "\n",
    "*Python3 documentation: https://docs.python.org/3/library/stdtypes.html#comparisons* \n",
    "\n",
    "| Operation | Meaning\n",
    "| --------- | -------\n",
    "| < | strictly less than\n",
    "| <= | less than or equal\n",
    "| > | strictly greater than\n",
    "| >= | greater than or equal\n",
    "| == | equal\n",
    "| != |not equal\n",
    "| is | object identity\n",
    "| is not | negated object identity\n"
   ]
  },
  {
   "cell_type": "markdown",
   "metadata": {},
   "source": [
    "## Numeric Operations\n",
    "\n",
    "*Python3 documentation: https://docs.python.org/3/library/stdtypes.html#numeric-types-int-float-complex*  \n",
    "\n",
    "All numeric types (except complex) support the following operations, sorted by ascending priority (all numeric operations have a higher priority than comparison operations).  \n",
    "\n",
    "| Operation | Result | Notes \n",
    "| - | -------------- | -\n",
    "| x + y | sum of x and y | \n",
    "| x - y | difference of x and y | \n",
    "| x * y | product of x and y |\n",
    "| x / y | quotient of x and y |\n",
    "| x // y | floored quotient of x and y |(1) \n",
    "| x % y | remainder of x / y |(2)\n",
    "| -x | x negated | \n",
    "| +x | x unchanged |\n",
    "| abs(x) | absolute value or magnitude of x |\n",
    "| int(x) | x converted to integer | (3)(6)\n",
    "| float(x) | x converted to floating point | (4)(6)\n",
    "| complex(re, im) | a complex number with real part re, imaginary part im. im defaults to zero. | (6)\n",
    "| c.conjugate() | conjugate of the complex number c | \n",
    "| divmod(x, y) | the pair (x // y, x % y) | (2)\n",
    "| pow(x, y) | x to the power y | (5)\n",
    "| x $**$ y | x to the power y | (5)\n",
    "\n",
    "Notes:\n",
    "\n",
    "1. Also referred to as integer division. The resultant value is a whole integer, though the result’s type is not necessarily int. The result is always rounded towards minus infinity: 1//2 is 0, (-1)//2 is -1, 1//(-2) is -1, and (-1)//(-2) is 0.\n",
    "\n",
    "2. Not for complex numbers. Instead convert to floats using abs() if appropriate.\n",
    "\n",
    "3. Conversion from floating point to integer may round or truncate as in C; see functions math.floor() and math.ceil() for well-defined conversions.\n",
    "\n",
    "4. float also accepts the strings “nan” and “inf” with an optional prefix “+” or “-” for Not a Number (NaN) and positive or negative infinity.\n",
    "\n",
    "5. Python defines pow(0, 0) and 0 $**$ 0 to be 1, as is common for programming languages.\n",
    "\n",
    "6. The numeric literals accepted include the digits 0 to 9 or any Unicode equivalent (code points with the Nd property).\n",
    "\n",
    "All numbers.Real types (int and float) also include the following operations:\n",
    "\n",
    "| Operation | Result\n",
    "| --------- | ------\n",
    "| math.trunc(x) | x truncated to Integral\n",
    "| round(x[, n]) | x rounded to n digits, rounding half to even. If n is omitted, it defaults to 0.\n",
    "| math.floor(x) | the greatest Integral <= x\n",
    "| math.ceil(x) | the least Integral >= x"
   ]
  },
  {
   "cell_type": "code",
   "execution_count": 34,
   "metadata": {},
   "outputs": [
    {
     "data": {
      "text/plain": [
       "True"
      ]
     },
     "execution_count": 34,
     "metadata": {},
     "output_type": "execute_result"
    }
   ],
   "source": [
    "divmod(5, 3) == (5//3, 5%3)"
   ]
  },
  {
   "cell_type": "markdown",
   "metadata": {},
   "source": [
    "## Bitwise Operations\n",
    "\n",
    "*Python3 documentation: https://docs.python.org/3/library/stdtypes.html#bitwise-operations-on-integer-types*  \n",
    "\n",
    "The priorities of the binary bitwise operations are all lower than the numeric operations and higher than the comparisons.\n",
    "\n",
    "| Operation | Resul | Notes\n",
    "| :-: | :--------------: | :-:\n",
    "| x $|$ y | bitwise or of x and y | \n",
    "| x ^ y | bitwise exclusive or of x and y | \n",
    "| x & y | bitwise and of x and y |\n",
    "| x << n | x shifted left by n bits | (1)(2)\n",
    "| x >> n | x shifted right by n bits | (1)(3)\n",
    "| ~x | the bits of x inverted | \n",
    "\n",
    "Notes:\n",
    "\n",
    "1. Negative shift counts are illegal and cause a ValueError to be raised.\n",
    "2. A left shift by n bits is equivalent to multiplication by pow(2, n) without overflow check.\n",
    "3. A right shift by n bits is equivalent to division by pow(2, n) without overflow check."
   ]
  },
  {
   "cell_type": "code",
   "execution_count": null,
   "metadata": {},
   "outputs": [],
   "source": []
  }
 ],
 "metadata": {
  "kernelspec": {
   "display_name": "Python [default]",
   "language": "python",
   "name": "python3"
  },
  "language_info": {
   "codemirror_mode": {
    "name": "ipython",
    "version": 3
   },
   "file_extension": ".py",
   "mimetype": "text/x-python",
   "name": "python",
   "nbconvert_exporter": "python",
   "pygments_lexer": "ipython3",
   "version": "3.5.4"
  }
 },
 "nbformat": 4,
 "nbformat_minor": 2
}
