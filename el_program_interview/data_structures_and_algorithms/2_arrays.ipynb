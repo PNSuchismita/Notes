{
 "cells": [
  {
   "cell_type": "markdown",
   "metadata": {},
   "source": [
    "# Arrays\n",
    "\n",
    "Arrays are usually used to represent sequences.  \n",
    "\n",
    "*From the book \"Programming in Python 3, A Complete Introduction to the Python Language\", Mark Summerfield*. (Examples are changed to suit my interests).  \n",
    "\n",
    "**Sequence Types**. A sequence type is one that supports the membership operator (*in*), the size function (*len()*), slice (*[]*), and is *iterable*. Python provides 5 built-in sequence types.\n",
    "1. **bytearray**\n",
    "2. **bytes**\n",
    "3. **list**\n",
    "4. **str**\n",
    "5. **tuple**\n",
    "6. some other sequence types are provided in the standard library, most notably **collections.namedtuple()**"
   ]
  },
  {
   "cell_type": "markdown",
   "metadata": {},
   "source": [
    "## Tuples\n",
    "\n",
    "A tuple is an ordered sequence of zero or more object references. Like strings, tuples are **immutable**, so we cannot replace or delete any of their items."
   ]
  },
  {
   "cell_type": "code",
   "execution_count": 1,
   "metadata": {},
   "outputs": [
    {
     "name": "stdout",
     "output_type": "stream",
     "text": [
      "<class 'tuple'>\n",
      "('Jack', 'Ann', 'Jane')\n"
     ]
    }
   ],
   "source": [
    "names = \"Jack\", \"Ann\", \"Jane\"\n",
    "print(type(names))\n",
    "print(names)"
   ]
  },
  {
   "cell_type": "code",
   "execution_count": 5,
   "metadata": {},
   "outputs": [
    {
     "data": {
      "text/plain": [
       "('Ann', 'Harry')"
      ]
     },
     "execution_count": 5,
     "metadata": {},
     "output_type": "execute_result"
    }
   ],
   "source": [
    "tuple([\"Ann\", \"Harry\"])"
   ]
  },
  {
   "cell_type": "code",
   "execution_count": 10,
   "metadata": {},
   "outputs": [
    {
     "ename": "TypeError",
     "evalue": "can only concatenate tuple (not \"str\") to tuple",
     "output_type": "error",
     "traceback": [
      "\u001b[0;31m---------------------------------------------------------------------------\u001b[0m",
      "\u001b[0;31mTypeError\u001b[0m                                 Traceback (most recent call last)",
      "\u001b[0;32m<ipython-input-10-e2e490186c84>\u001b[0m in \u001b[0;36m<module>\u001b[0;34m()\u001b[0m\n\u001b[0;32m----> 1\u001b[0;31m \u001b[0;34m(\u001b[0m\u001b[0;34m\"Rob\"\u001b[0m\u001b[0;34m,\u001b[0m \u001b[0;34m\"Bob\"\u001b[0m\u001b[0;34m,\u001b[0m \u001b[0;34m\"Andrew\"\u001b[0m\u001b[0;34m)\u001b[0m\u001b[0;34m[\u001b[0m\u001b[0;34m:\u001b[0m\u001b[0;36m1\u001b[0m\u001b[0;34m]\u001b[0m \u001b[0;34m+\u001b[0m \u001b[0;34m\"Ann\"\u001b[0m \u001b[0;34m+\u001b[0m \u001b[0;34m(\u001b[0m\u001b[0;34m\"Rob\"\u001b[0m\u001b[0;34m,\u001b[0m \u001b[0;34m\"Bob\"\u001b[0m\u001b[0;34m,\u001b[0m \u001b[0;34m\"Andrew\"\u001b[0m\u001b[0;34m)\u001b[0m\u001b[0;34m[\u001b[0m\u001b[0;36m2\u001b[0m\u001b[0;34m]\u001b[0m\u001b[0;34m\u001b[0m\u001b[0m\n\u001b[0m",
      "\u001b[0;31mTypeError\u001b[0m: can only concatenate tuple (not \"str\") to tuple"
     ]
    }
   ],
   "source": [
    "(\"Rob\", \"Bob\", \"Andrew\")[:1] + \"Ann\" + (\"Rob\", \"Bob\", \"Andrew\")[2]"
   ]
  },
  {
   "cell_type": "code",
   "execution_count": 11,
   "metadata": {},
   "outputs": [
    {
     "data": {
      "text/plain": [
       "(('Rob',), 'Ann', 'Andrew')"
      ]
     },
     "execution_count": 11,
     "metadata": {},
     "output_type": "execute_result"
    }
   ],
   "source": [
    "(\"Rob\", \"Bob\", \"Andrew\")[:1], \"Ann\", (\"Rob\", \"Bob\", \"Andrew\")[2]"
   ]
  },
  {
   "cell_type": "code",
   "execution_count": 14,
   "metadata": {},
   "outputs": [
    {
     "data": {
      "text/plain": [
       "('Rob', 'Ann', 'Andrew')"
      ]
     },
     "execution_count": 14,
     "metadata": {},
     "output_type": "execute_result"
    }
   ],
   "source": [
    "(\"Rob\", \"Bob\", \"Andrew\")[:1] + (\"Ann\",) + (\"Rob\", \"Bob\", \"Andrew\")[2:]"
   ]
  },
  {
   "cell_type": "markdown",
   "metadata": {},
   "source": [
    "## Named Tuples\n",
    "\n",
    "Same as tuples with an added ability to refer to items in the tuple by name as well as by index position, and this allows us to create aggregates of data items."
   ]
  },
  {
   "cell_type": "code",
   "execution_count": 21,
   "metadata": {},
   "outputs": [
    {
     "data": {
      "text/plain": [
       "[Fruits(name='apple', quantity=2, size='larg'),\n",
       " Fruits(name='banana', quantity=1, size='medium')]"
      ]
     },
     "execution_count": 21,
     "metadata": {},
     "output_type": "execute_result"
    }
   ],
   "source": [
    "import collections\n",
    "Fruits = collections.namedtuple(\"Fruits\", \"name quantity size\")\n",
    "breakfast = []\n",
    "breakfast.append(Fruits('apple', 2, \"larg\"))\n",
    "breakfast.append(Fruits('banana', 1, 'medium'))\n",
    "breakfast"
   ]
  },
  {
   "cell_type": "code",
   "execution_count": 23,
   "metadata": {},
   "outputs": [
    {
     "data": {
      "text/plain": [
       "3"
      ]
     },
     "execution_count": 23,
     "metadata": {},
     "output_type": "execute_result"
    }
   ],
   "source": [
    "total = 0\n",
    "for fruit in breakfast:\n",
    "    total += fruit.quantity\n",
    "total"
   ]
  },
  {
   "cell_type": "markdown",
   "metadata": {},
   "source": [
    "## Lists\n",
    "\n",
    "A list is an ordered sequence of zero or more object references. Unlike strings and tuples, lists are **mutable**, so we can replace and delete any of their items. It is also possible to insert, replace, and delete slices of lists.\n",
    "\n",
    "*From \"Elements of Programming Interview\"*\n",
    "\n"
   ]
  },
  {
   "cell_type": "markdown",
   "metadata": {},
   "source": [
    "* The basic operations are len(), .append(), .remove(), and .insert()"
   ]
  },
  {
   "cell_type": "code",
   "execution_count": 91,
   "metadata": {},
   "outputs": [
    {
     "data": {
      "text/plain": [
       "[1, 2, 3, 4, 'Karen', 4]"
      ]
     },
     "execution_count": 91,
     "metadata": {},
     "output_type": "execute_result"
    }
   ],
   "source": [
    "a = [1,2,3,4]\n",
    "a.append(\"Karen\")\n",
    "a.append(4)\n",
    "a"
   ]
  },
  {
   "cell_type": "code",
   "execution_count": 92,
   "metadata": {},
   "outputs": [
    {
     "data": {
      "text/plain": [
       "[1, 2, 3, 4, 4]"
      ]
     },
     "execution_count": 92,
     "metadata": {},
     "output_type": "execute_result"
    }
   ],
   "source": [
    "a.remove(\"Karen\")\n",
    "a"
   ]
  },
  {
   "cell_type": "code",
   "execution_count": 93,
   "metadata": {},
   "outputs": [
    {
     "data": {
      "text/plain": [
       "[1, 2, 3, 4, 'Karen', 4]"
      ]
     },
     "execution_count": 93,
     "metadata": {},
     "output_type": "execute_result"
    }
   ],
   "source": [
    "a.insert(4, \"Karen\")\n",
    "a"
   ]
  },
  {
   "cell_type": "markdown",
   "metadata": {},
   "source": [
    "* Checking if a value is present in an array is as simple as *\"A\" in a*. (This operation has $O(n)$ time complexity, where $n$ is the length of the array.)"
   ]
  },
  {
   "cell_type": "code",
   "execution_count": 94,
   "metadata": {},
   "outputs": [
    {
     "data": {
      "text/plain": [
       "False"
      ]
     },
     "execution_count": 94,
     "metadata": {},
     "output_type": "execute_result"
    }
   ],
   "source": [
    "\"A\" in a"
   ]
  },
  {
   "cell_type": "markdown",
   "metadata": {},
   "source": [
    "* Understand how copy woeks, i.e., the difference between b = a and b = list(a). Understand what a deep copy is, and how it differs from a shallow copy, i.e., how copy.copy(a) differs from copy.deepcopy(a)."
   ]
  },
  {
   "cell_type": "code",
   "execution_count": 168,
   "metadata": {},
   "outputs": [
    {
     "data": {
      "text/plain": [
       "([1, 2, 3, 'Karen', 1], [1, 2, 3, 'Karen', 1])"
      ]
     },
     "execution_count": 168,
     "metadata": {},
     "output_type": "execute_result"
    }
   ],
   "source": [
    "a = [1, 2, 3, \"Karen\"]\n",
    "b = a         # b becomes another reference to [1, \"Karen\", 3, 4]\n",
    "b.append(1)\n",
    "a, b"
   ]
  },
  {
   "cell_type": "code",
   "execution_count": 169,
   "metadata": {},
   "outputs": [
    {
     "data": {
      "text/plain": [
       "([1, 2, 3, 'Karen'], [1, 2, 3, 'Karen', 1])"
      ]
     },
     "execution_count": 169,
     "metadata": {},
     "output_type": "execute_result"
    }
   ],
   "source": [
    "a = [1, 2, 3, \"Karen\"]\n",
    "b = list(a)     # creates a copy of a, equivalent to a[:]\n",
    "b.append(1)\n",
    "a, b"
   ]
  },
  {
   "cell_type": "code",
   "execution_count": 170,
   "metadata": {},
   "outputs": [
    {
     "name": "stdout",
     "output_type": "stream",
     "text": [
      "[[1, 2, 3], ['Ann', 'Jack']] [1, ['Ann', 'Jack']]\n",
      "[[1, 2, 3], ['Ann', 'Jack', 2]] [1, ['Ann', 'Jack', 2]]\n"
     ]
    }
   ],
   "source": [
    "import copy\n",
    "a = [[1, 2, 3], [\"Ann\", \"Jack\"]]\n",
    "b = copy.copy(a)   # shallow copy of a, equivalent to a[:]\n",
    "b[0] = 1\n",
    "print(a, b)\n",
    "b[1].append(2)\n",
    "print(a, b)"
   ]
  },
  {
   "cell_type": "code",
   "execution_count": 171,
   "metadata": {},
   "outputs": [
    {
     "name": "stdout",
     "output_type": "stream",
     "text": [
      "[[1, 2, 3], ['Ann', 'Jack']] [1, ['Ann', 'Jack']]\n",
      "[[1, 2, 3], ['Ann', 'Jack']] [1, ['Ann', 'Jack', 2]]\n"
     ]
    }
   ],
   "source": [
    "import copy\n",
    "a = [[1, 2, 3], [\"Ann\", \"Jack\"]]\n",
    "b = copy.deepcopy(a)\n",
    "b[0] = 1\n",
    "print(a, b)\n",
    "b[1].append(2)\n",
    "print(a, b)"
   ]
  },
  {
   "cell_type": "markdown",
   "metadata": {},
   "source": [
    "* Key methods for list include min(a), max(a), binary search for sorted lists (bisect.bisect(a, 3), bisect.bisect_left(a, 3), and bisect.bisect_right(a, 3)), a.reverse() (in-place), reversed(a) (returns an iterator), a.sort() (in-place), sorted(a) (returns a copy), del a[i] (deletes the i-th element), and del a[i:j] (removes the slice)."
   ]
  },
  {
   "cell_type": "code",
   "execution_count": 207,
   "metadata": {},
   "outputs": [
    {
     "name": "stdout",
     "output_type": "stream",
     "text": [
      "1\n",
      "0\n",
      "1\n"
     ]
    }
   ],
   "source": [
    "import bisect\n",
    "a = [0,1,2,3,4,5]\n",
    "print(bisect.bisect(a, 0))\n",
    "print(bisect.bisect_left(a, 0))\n",
    "print(bisect.bisect_right(a, 0))"
   ]
  },
  {
   "cell_type": "code",
   "execution_count": 208,
   "metadata": {},
   "outputs": [
    {
     "name": "stdout",
     "output_type": "stream",
     "text": [
      "[2, 1, 0]\n",
      "<list_reverseiterator object at 0x102fdb710>\n",
      "0\n",
      "1\n",
      "2\n"
     ]
    }
   ],
   "source": [
    "a = [0,1,2]\n",
    "a.reverse()\n",
    "print(a)\n",
    "print(reversed(a))\n",
    "for i in reversed(a):\n",
    "    print(i)"
   ]
  },
  {
   "cell_type": "code",
   "execution_count": 209,
   "metadata": {},
   "outputs": [
    {
     "name": "stdout",
     "output_type": "stream",
     "text": [
      "[2, 1, 0]\n",
      "[0, 1, 2]\n"
     ]
    }
   ],
   "source": [
    "a.sort(reverse=True)\n",
    "print(a)\n",
    "print(sorted(a))"
   ]
  },
  {
   "cell_type": "code",
   "execution_count": 212,
   "metadata": {},
   "outputs": [
    {
     "name": "stdout",
     "output_type": "stream",
     "text": [
      "[1, 2, 3, 4, 5]\n",
      "[2, 3, 4, 5]\n",
      "[2, 3]\n"
     ]
    }
   ],
   "source": [
    "a = [1,2,3,4,5]\n",
    "print(a)\n",
    "del a[0]\n",
    "print(a)\n",
    "del a[-2:]\n",
    "print(a)"
   ]
  },
  {
   "cell_type": "code",
   "execution_count": null,
   "metadata": {},
   "outputs": [],
   "source": []
  }
 ],
 "metadata": {
  "kernelspec": {
   "display_name": "Python [default]",
   "language": "python",
   "name": "python3"
  },
  "language_info": {
   "codemirror_mode": {
    "name": "ipython",
    "version": 3
   },
   "file_extension": ".py",
   "mimetype": "text/x-python",
   "name": "python",
   "nbconvert_exporter": "python",
   "pygments_lexer": "ipython3",
   "version": "3.5.4"
  }
 },
 "nbformat": 4,
 "nbformat_minor": 2
}
