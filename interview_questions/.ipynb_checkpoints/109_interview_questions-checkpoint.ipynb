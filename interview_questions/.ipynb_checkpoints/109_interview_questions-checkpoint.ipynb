{
 "cells": [
  {
   "cell_type": "markdown",
   "metadata": {},
   "source": [
    "# 109 Commonly Asked Data Science Interview Questions\n",
    "\n",
    "Springboard has the following article: https://www.springboard.com/blog/data-science-interview-questions/\n",
    "\n",
    "There are only several answers, so I am building this notebook to include the answers to those 109 questions."
   ]
  },
  {
   "cell_type": "markdown",
   "metadata": {},
   "source": [
    "# Table of Contents\n",
    "\n",
    "<a id=\"content\"></a>"
   ]
  },
  {
   "cell_type": "markdown",
   "metadata": {},
   "source": [
    "1. [Statistics](#statistics)\n",
    "   \n",
    "2. [Programming](#programming)\n",
    "\n",
    "   * [General](#general)  \n",
    "          \n",
    "   * [Big Data](#bigdata)  \n",
    "      \n",
    "   * [Python](#python)  \n",
    "   \n",
    "   * [R](#r)\n",
    "       \n",
    "   * [SQL](#sql)\n",
    "       \n",
    "3. [Modeling](#modeling)\n",
    "        \n",
    "4. [Behavioral](#behavioral)\n",
    "    \n",
    "5. [Culture Fit](#culturefit)\n",
    "       \n",
    "6. [Problem-Solving](#problemsolving)"
   ]
  },
  {
   "cell_type": "markdown",
   "metadata": {},
   "source": [
    "## 1. Statistics\n",
    "\n",
    "<a id=\"statistics\"></a>"
   ]
  },
  {
   "cell_type": "markdown",
   "metadata": {},
   "source": [
    "1. [What is the Central Limit Theorem and why is it important?](#clt)\n",
    "2. [What is sampling? How many sampling methods do you know?](#sampling)\n",
    "3. [What is the difference between Type I vs Type II error?](#type12errors)\n",
    "4. [What is linear regression? What do the terms P-value, coefficient, R-Squared value mean? What is the significance of each of these components?](#lr_pvalue_rsquared)\n",
    "5. [What are the assumptions required for linear regression?](#lr_assumptions)\n",
    "6. [What is a statistical interaction?](#statisticalinteraction)\n",
    "7. [What is selection bias?](#selectionbias)\n",
    "8. [What is an example of a dataset with a non-Gaussian distribution?](#nonGaussian)\n",
    "9. [What is the Binomial Probability Formula?](#binomial)\n",
    "10. [Examples of similar data science interview questions found from Glassdoor](#glassdoor1)\n",
    "    \n",
    "    * [What is a p-value? What is your interpretation of p-value change, if you had a different (much bigger, 3 mil. records for example) data set? (asked at **State Farm**)](#statefarm)\n",
    "    * [You are about to get to a plane to Seattle. You want to know if you should bring an umbrella. You call three random friends of yours who live there and asked each of them independently if it is raining. Each of your friends has a 2/3 chance of telling the truth and 1/3 chance of messing with you by lying. All three friend say that \"Yes\" it is raining. What is the probablity that it is actually raining in Seattle. (asked at **Facebook**)](#facebook)\n",
    "    * [How to compute an inverse matrix faster by playing around with some computational tricks. (asked at **Microsoft**)](#microsoft)\n",
    "    * [Given a sample from a uniform distribution (0, d), how to estimate d? (asked at **Spotify**)](#spotify)\n",
    "        "
   ]
  },
  {
   "cell_type": "markdown",
   "metadata": {},
   "source": [
    "### What is the Central Limit Theorem and why is it important?\n",
    "\n",
    "<a id=\"clt\"></a>"
   ]
  },
  {
   "cell_type": "markdown",
   "metadata": {},
   "source": [
    "First let's answer the first part of the question: \n",
    "\n",
    "<span style=\"color:blue\">***What is the Central Limit Theorem?***</span> "
   ]
  },
  {
   "cell_type": "markdown",
   "metadata": {},
   "source": [
    "<span style=\"color:green\">***Informal definition***</span> *from Matt Nedrich's post (link to the post is in references)*\n",
    "\n",
    "It states that if we sample from a population using a sufficiently large sample size, the mean of the samples (also known as the sample population) will be normally distributed (assuming true random sampling). What’s especially important is that this will be true regardless of the distribution of the original population."
   ]
  },
  {
   "cell_type": "markdown",
   "metadata": {},
   "source": [
    "<span style=\"color:green\">***Formal definition***</span>  *from the book \"All of Statistics: A Concise Course in Statistical Inference (Springer Texts in Statistics) by Larry Wasserman\" (link in the references)*\n",
    "\n",
    "Suppose that $X_1, ..., X_n$ are IID with mean $\\mu$ and variance $\\sigma^2$. The central limit theorem (CLT) says that $\\bar{X_n} = n^{-1} \\sum_{i} X_i$  has a distribution which is approximately Normal with mean $\\mu$ and variance $\\sigma^2/n$. This is remarkable since nothing is assumed about the distribution of $X_i$, except the existence of the mean and variance."
   ]
  },
  {
   "cell_type": "markdown",
   "metadata": {},
   "source": [
    "**Theorem (The Central Limit Theorem (CLT)).** *Let $X_1, ..., X_n$ be IID with mean $\\mu$ and variance $\\sigma^2$*. Let $\\bar{X_n} = n^{-1} \\sum_{i} X_i$. Then\n",
    "\n",
    "\\begin{equation*}\n",
    "Z_n \\equiv \\frac{\\bar{X_n} - \\mu}{\\sqrt{\\mathbb{V}(\\bar{X_n})}} = \\frac{\\sqrt{n} \\left( \\bar{X_n} - \\mu \\right)}{\\sigma} \\approx Z\n",
    "\\end{equation*}\n",
    "\n",
    "where $Z \\sim N(0,1)$ . In other words ,\n",
    "\n",
    "\\begin{equation*}\n",
    "\\lim_{n\\to\\infty}\\mathbb{P}(Z_n \\leq z) = \\phi(z) = \\int_{-\\infty}^{z} \\frac{1}{\\sqrt{2\\pi}}e^{-x^2/2}dx\n",
    "\\end{equation*}"
   ]
  },
  {
   "cell_type": "markdown",
   "metadata": {},
   "source": [
    "**Interpretation:** Probability statements about $\\bar{X_n}$ can be approximated using a Normal distribution. It's the probability statements that we are approximating, not the random variable itself.\n",
    "\n",
    "In addition to $Z \\approx N(0,1)$, there are several forms of notation to denote the fact that the distribution of $Z_n$ is converging to a Normal. They all mean the same thing. Here they are:\n",
    "\n",
    "\\begin{equation*}\n",
    "Z \\approx N(0,1)\n",
    "\\end{equation*}\n",
    "\n",
    "\\begin{equation*}\n",
    "\\bar{X_n} \\approx N(\\mu, \\frac{\\sigma^2}{n})\n",
    "\\end{equation*}\n",
    "\n",
    "\\begin{equation*}\n",
    "\\bar{X_n} - \\mu \\approx N(0, \\frac{\\sigma^2}{n})\n",
    "\\end{equation*}\n",
    "\n",
    "\\begin{equation*}\n",
    "\\sqrt{n}(\\bar{X_n} - \\mu) \\approx N(0, \\sigma^2)\n",
    "\\end{equation*}\n",
    "\n",
    "\\begin{equation*}\n",
    "\\frac{\\sqrt{n}(\\bar{X_n} - \\mu)}{\\sigma} \\approx N(0, 1)\n",
    "\\end{equation*}"
   ]
  },
  {
   "cell_type": "markdown",
   "metadata": {},
   "source": [
    "Now let's answer the second part of the question: \n",
    "\n",
    "<span style=\"color:blue\">**Why is Central Limit Theorem important?**</span>"
   ]
  },
  {
   "cell_type": "markdown",
   "metadata": {},
   "source": [
    "<span style=\"color:green\">***From the post by  Courtney Taylor (link in references)***</span>\n",
    "\n",
    "\n",
    "**This theorem allows us to simplify problems in statistics by allowing us to work with a distribution that is approximately normal.**\n",
    "\n",
    "Many practices in statistics, such as those involving hypothesis testing or confidence intervals, make some assumptions concerning the population that the data was obtained from. One assumption that is initially made in a statistics course is that the populations that we work with are normally distributed.\n",
    "\n",
    "The assumption that data is from a normal distribution simplifies matters but seems a little unrealistic. Just a little work with some real-world data shows that outliers, ​skewness, multiple peaks and asymmetry show up quite routinely. \n",
    "\n",
    "The use of an appropriate sample size and the central limit theorem help us to get around the problem of data from populations that are not normal.\n",
    "\n",
    "**Thus, even though we might not know the shape of the distribution where our data comes from, the central limit theorem says that we can treat the sampling distribution as if it were normal. **"
   ]
  },
  {
   "cell_type": "markdown",
   "metadata": {},
   "source": [
    "[Back to statistics](#statistics)  \n",
    "[Back to the table of contents](#content)  "
   ]
  },
  {
   "cell_type": "markdown",
   "metadata": {},
   "source": [
    "### What is sampling? How many sampling methods do you know?\n",
    "\n",
    "<a id=\"sampling\"></a>"
   ]
  },
  {
   "cell_type": "markdown",
   "metadata": {},
   "source": [
    "<span style=\"color:blue\">**What is sampling?**</span>"
   ]
  },
  {
   "cell_type": "markdown",
   "metadata": {},
   "source": [
    "<span style=\"color:green\">***From the book OpenIntro Statistics, by David M Diez, Christopher D Barr, Mine Cetinkaya-Rundel(link in references)***</span>\n",
    "\n",
    "We might try to estimate the time to graduation for Duke undergraduates in the last 5 years by collecting a sample of students. All graduates in the last 5 years represent the *population*, and graduates who are selected for review are collectively called the *sample*.\n"
   ]
  },
  {
   "cell_type": "markdown",
   "metadata": {},
   "source": [
    "<span style=\"color:blue\">**How many sampling methods do you know?**</span>\n"
   ]
  },
  {
   "cell_type": "markdown",
   "metadata": {},
   "source": [
    "<span style=\"color:green\">***From the book OpenIntro Statistics, by David M Diez, Christopher D Barr, Mine Cetinkaya-Rundel(link in references)***</span>\n",
    "\n",
    "In general, we always seek to randomly select a sample from a population.\n",
    "\n",
    "1. **Simple random sampling**. The most basic type of random sample is called a simple random sample, and which is equivalent to using raffle to select cases.\n",
    "2. **Stratified sampling**. The population is divided into groups called *strata*. The strata are chosen so that similar cases are grouped together, then a second sampling method, usually simple random sampling, is employed within each stratum.\n",
    "3. **Cluster sampling**. We break up the population into many groups, called clusters. Then we sample a fixed number of clusters and include all observations from each of those clusters in the sample.\n",
    "4. **Multistage sampling**. Like a cluster sample, but rather than keeping all observations in each cluster, we collect a random sample within each selected cluster."
   ]
  },
  {
   "cell_type": "markdown",
   "metadata": {},
   "source": [
    "[Back to statistics](#statistics)  \n",
    "[Back to the table of content](#content)"
   ]
  },
  {
   "cell_type": "markdown",
   "metadata": {},
   "source": [
    "### What is the difference between Type I vs Type II error?\n",
    "\n",
    "\n",
    "<a id=\"type12errors\"></a>"
   ]
  },
  {
   "cell_type": "markdown",
   "metadata": {},
   "source": [
    "<span style=\"color:blue\">**Type I error**</span>\n",
    "\n",
    "Type I error, which is the same as **False Positive** is when an algorithm classifies an outcome as positive but in reality it is negative.\n",
    "\n",
    "<span style=\"color:blue\">**Type II error**</span>\n",
    "\n",
    "Type II error, which is the same as **False negative** is when an algorithm classifies an outcome as negative but in reality it is positive.\n",
    "\n",
    "**Both Type 1 and Type 2 errors are related to binary classification problems.**\n",
    "\n",
    "It is obviously very important to distinguish and treat false positives and false negatives differently because the costs of such errors can be hugely different. \n",
    "\n",
    "For example, if a test for serious disease is false positive (test says disease, but person is healthy), then an extra test will be made that will determine the correct diagnosis. However, if a test is false negative (test says healthy, but person has disease), then treatment will be done and person may die as a result. "
   ]
  },
  {
   "cell_type": "markdown",
   "metadata": {},
   "source": [
    "[Back to statistics](#statistics)  \n",
    "[Back to the table of content](#content)"
   ]
  },
  {
   "cell_type": "markdown",
   "metadata": {},
   "source": [
    "### What is linear regression? What do the terms P-value, coefficient, R-Squared value mean? What is the significance of each of these components?\n",
    "\n",
    "<a id=\"lr_pvalue_rsquared\"></a>"
   ]
  },
  {
   "cell_type": "markdown",
   "metadata": {},
   "source": [
    "Sources:\n",
    "\n",
    "    An Introduction to Statistical Learning: with Applications in R, by Gareth James, Daniel Witten, Trevor Hastie, Robert Tibshirani\n",
    "    The Elements of Statistical Learning: Data Mining, Inference, and Prediction, by Trevor Hastie, Robert Tibshirani, Jerome Friedman\n",
    "    Introduction to Machine Learning with Python: A Guide For Data Scientists, by Andreas C.Muller & Sarah Guido"
   ]
  },
  {
   "cell_type": "markdown",
   "metadata": {},
   "source": [
    "<span style=\"color:blue\">**What is linear regression?**</span>\n",
    "\n",
    "*Linear regression* is a very simple approach for supervised learning. In particular, linear regression is a useful tool for predicting a quantitative response. \n",
    "\n",
    "The prediction of linear regression is a line for a single feature, a plane when using two features, or a hyperplane in higher dimensions (that is, when using more features).\n",
    "\n",
    "The linear regression model has the form\n",
    "\n",
    "\\begin{equation*}\n",
    "f(X) = \\beta_0 + \\sum_{j=1}^{p}X_j\\beta_j\n",
    "\\end{equation*}\n",
    "\n",
    "for an input vector of $X^T = (X_1, X_2, ...,X_p)$ and a real-valued output Y, where \n",
    "\n",
    "\\begin{equation*}\n",
    "Y = f(X) + \\epsilon\n",
    "\\end{equation*}\n",
    "\n",
    "Here $\\epsilon$ is a random *error term* which is independent of X and has mean 0.\n",
    "From the above model we see that we are making an assumption about the functional form, or shape, of *f*. We assume that it is linear and the problem of estimating it is greatly simplified. Instead of having to estimate an entirely arbitrary p-dimentional function $f(X)$, one only need to estimate the $p+1$ coefficients $\\beta_0, \\beta_1, ...,\\beta_p$.\n",
    "\n",
    "There are many different linear models for regression. The difference between these models lies in how the model parameters are learned from the training data, and how model complexity can be controlled.\n",
    "\n",
    "\n",
    "\n",
    "**Ordinary Least Squares**.\n",
    "\n",
    "* The simplest linear method for regresison.\n",
    "* Finds the parameters that minimize the *mean squared error* between predictions and the true regression target, y.\n",
    "* Linear regression has no way to control model complexity.\n",
    "\n",
    "**Ridge Regression**\n",
    "\n",
    "* Same formula for predictions\n",
    "* Additional constraint on coefficients to be close to zero\n",
    "* This constraint is an example of *regularization*\n",
    "* Ridge regression uses L2 regularization (Ridge penalizes the squared L2 norm of the coefficients, or the Euclidean length of $\\beta$)\n",
    "\n",
    "**Lasso**\n",
    "\n",
    "* As with ridge regression, using the lasso also restricts coefficients to be close to zero.\n",
    "* Lasso uses L1 regularization. Lasso penalizes the L1 norm of the coefficient vector - or in other words, the sum of the absolute values of the coefficients.\n",
    "* When using the Lasso, some coefficients are **exactly zero**, which means that some features are entirely ignored by the model.\n",
    "* This can be seen as a form of automatic feature selection."
   ]
  },
  {
   "cell_type": "markdown",
   "metadata": {},
   "source": [
    "<span style=\"color:blue\">**What do the terms P-value, coefficient, R-Squared value mean?**</span>"
   ]
  },
  {
   "cell_type": "markdown",
   "metadata": {},
   "source": [
    "<span style=\"color:purple\">P-value</span>\n",
    "\n",
    "\n",
    "The **p-value** is the probability of observing data at least as favorable to the alternative hypothesis as our current data set, if the null hypothesis is true. \n",
    "\n",
    "A P-value then requires a few steps.\n",
    "\n",
    "1. Decide on a statistic that evaluates support of the null or alternative hypothesis.\n",
    "2. Decide on a distribution of that statistic under the null hypothesis (null distribution).\n",
    "3. Calculate the probability of obtaining a statistic as or more extreme as was observed using the distribution in 2.\n",
    "\n",
    "The way to interpret P-value is as follows. If the P-value is small, then either $H_0$ is true and we have observed a rare event or $H_0$ is false (or possibly the null model is incorrect).\n",
    "\n",
    "The p-value for each term tests the null hypothesis that the coefficient is equal to zero (no effect). A low p-value (< 0.05) indicates that you can reject the null hypothesis. In other words, a predictor that has a low p-value is likely to be a meaningful addition to your model because changes in the predictor's value are related to changes in the response variable.\n",
    "\n",
    "Conversely, a larger (insignificant) p-value suggests that changes in the predictor are not associated with changes in the response.\n",
    "\n",
    "\n",
    "<span style=\"color:purple\">Coeffitients</span>\n",
    "\n",
    "The coefficients of the linear model are $\\beta_0, \\beta_1, ...,\\beta_p$.\n",
    "\n",
    "$\\beta_0$ is the intercept, while $\\beta_1, ..., \\beta_p$ are the expected change in the response per unit change in the corresponding regressor, holding all of the other regressors fixed.\n",
    "\n",
    "When we only have one prediction, then the estimates of $\\beta_0$ and $\\beta_1$ are\n",
    "\n",
    "\\begin{equation*}\n",
    "\\hat{\\beta_1} = \\frac{\\sum_{i=1}^{n}(x_i - \\bar{x})(y_i - \\bar{y})}{\\sum_{i=1}^{n}(x_i - \\bar{x})^2}\n",
    "\\end{equation*}\n",
    "\n",
    "\\begin{equation*}\n",
    "\\hat{\\beta_0} = \\bar{y} - \\hat{\\beta_1}\\bar{x}\n",
    "\\end{equation*}\n",
    "\n",
    "where $\\bar{y} \\equiv \\frac{1}{n}\\sum_{i=1}^{n}y_i$ and $\\bar{x} \\equiv \\frac{1}{n}\\sum_{i=1}^{n}x_i$, are the sample means.\n",
    "\n",
    "\n",
    "<span style=\"color:purple\">R-squared</span>\n",
    "\n",
    "\n",
    "$R^2$ statistic provides an alternative measure of fit. It takes the form of a *proportion* - the proportion of variance explained - and so it always takes on a value between 0 and 1, and is independent of the scale of Y.\n",
    "\n",
    "To calculate $R^2$, we use the formula\n",
    "\n",
    "\\begin{equation*}\n",
    "R^2 = \\frac{TSS - RSS}{TSS} = 1 - \\frac{RSS}{TSS}\n",
    "\\end{equation*}\n",
    "\n",
    "where $TSS = \\sum{} (y_i - \\bar{y})^2$ is the *total sum of squares*, and $RSS = \\sum_{i=1}^{n}(y_i - \\hat{y_i})^2$"
   ]
  },
  {
   "cell_type": "markdown",
   "metadata": {},
   "source": [
    "[Back to statistics](#statistics)  \n",
    "[Back to the table of content](#content)"
   ]
  },
  {
   "cell_type": "markdown",
   "metadata": {},
   "source": [
    "### What are the assumptions required for linear regression?\n",
    "\n",
    "<a id=\"lr_assumptions\"></a>"
   ]
  },
  {
   "cell_type": "markdown",
   "metadata": {},
   "source": [
    "There are four major assumptions:\n",
    "1. There is a linear relationship between the dependent variables and the regressors, meaning the model you are creating actually fits the data.  \n",
    "2. The errors or residuals of the data are normally distributed and independent from each other.   \n",
    "3. There is minimal multicollinearity between explanatory variables.  \n",
    "4. Homoscedasticity. This means the variance around the regression line is the same for all values of the predictor variable.  "
   ]
  },
  {
   "cell_type": "markdown",
   "metadata": {},
   "source": [
    "[Back to statistics](#statistics)  \n",
    "[Back to the table of content](#content)"
   ]
  },
  {
   "cell_type": "markdown",
   "metadata": {},
   "source": [
    "### What is a statistical interaction?\n",
    "\n",
    "<a id=\"statisticalinteraction\"></a>"
   ]
  },
  {
   "cell_type": "markdown",
   "metadata": {},
   "source": [
    "Interaction is when the effect of one factor (input variable) on the dependent variable (output variable) differs among levels of another  factor.\n",
    "\n",
    "For a response $Y$ and two variables $x_1$ and $x_2$ an additive model would be:\n",
    "\n",
    "\\begin{equation*}\n",
    "Y = \\beta_0 + \\beta_1x_1 + \\beta_2x_2 + error\n",
    "\\end{equation*}\n",
    "\n",
    "In contrast to this,\n",
    "\n",
    "\\begin{equation*}\n",
    "Y = \\beta_0 + \\beta_1x_1 + \\beta_2x_2 + \\beta_3x_1x_2 + error\n",
    "\\end{equation*}\n",
    "\n",
    "is an example of a model with an interaction between variables $x_1$ and $x_2$.\n",
    "\n",
    "To illustrate, think of a drug interaction: barbiturates alone have a depressive effect on your central nervous system. Alcohol alone has a depressive effect on your central nervous system. Taken together, these two drugs strengthen the effect of the other drug, beyond the effect that that drug would normally produce, so much so that you could fall into a coma!"
   ]
  },
  {
   "cell_type": "markdown",
   "metadata": {},
   "source": [
    "[Back to statistics](#statistics)  \n",
    "[Back to the table of content](#content)"
   ]
  },
  {
   "cell_type": "markdown",
   "metadata": {},
   "source": [
    "### What is selection bias?\n",
    "\n",
    "<a id=\"selectionbias\"></a>"
   ]
  },
  {
   "cell_type": "markdown",
   "metadata": {},
   "source": [
    "Selection bias is the bias introduced by the selection of individuals, groups or data for analysis in such a way that proper randomization is not achieved, thereby ensuring that the sample obtained is not representative of the population intended to be analyzed."
   ]
  },
  {
   "cell_type": "markdown",
   "metadata": {},
   "source": [
    "[Back to statistics](#statistics)  \n",
    "[Back to the table of content](#content)"
   ]
  },
  {
   "cell_type": "markdown",
   "metadata": {},
   "source": [
    "### What is an example of a dataset with a non-Gaussian distribution?\n",
    "\n",
    "<a id=\"nonGaussian\"></a>"
   ]
  },
  {
   "cell_type": "markdown",
   "metadata": {},
   "source": [
    "An example of a dataset with non_Gaussian distribution would be the heights during a lifetime of a person is non_Gaussian as it increases gradually, then stays approximately the same.\n",
    "\n",
    "Here are 2 non_Gaussian distributions together with a Gaussian distribution (third plot below)."
   ]
  },
  {
   "cell_type": "code",
   "execution_count": 42,
   "metadata": {},
   "outputs": [
    {
     "data": {
      "text/plain": [
       "<matplotlib.text.Text at 0x10f623278>"
      ]
     },
     "execution_count": 42,
     "metadata": {},
     "output_type": "execute_result"
    },
    {
     "data": {
      "image/png": "[encoded data removed]",
      "text/plain": [
       "<matplotlib.figure.Figure at 0x10cd68320>"
      ]
     },
     "metadata": {},
     "output_type": "display_data"
    }
   ],
   "source": [
    "import numpy as np\n",
    "import matplotlib.pyplot as plt\n",
    "%matplotlib inline\n",
    "\n",
    "plt.figure(1, figsize=(17,4))\n",
    "\n",
    "### Uniform distribution\n",
    "\n",
    "# draw 1000 samples between -1 and 0 from uniform distribution\n",
    "s1 = np.random.uniform(-1,0,1000)\n",
    "\n",
    "# Display the histogram of the samples, along with the probability density function\n",
    "plt.subplot(131)\n",
    "count, bins, ignored = plt.hist(s1, 15, normed = True)\n",
    "plt.plot(bins, np.ones_like(bins), linewidth=2, color='r')\n",
    "plt.title('uniform')\n",
    "\n",
    "\n",
    "### Poisson distribution\n",
    "\n",
    "# Draw 10000 samples from the distribution, lambda=5\n",
    "s2 = np.random.poisson(5, 10000)\n",
    "\n",
    "# Display histogram of the samples\n",
    "plt.subplot(132)\n",
    "count, bins, ignored = plt.hist(s2, 14, normed=True)\n",
    "plt.title(\"poisson\")\n",
    "\n",
    "### Gaussian distribution\n",
    "\n",
    "# Draw 1000 standard normals (mean = 0, standard deviation = 1)\n",
    "mu, sigma = 0, 1   # mean and standard deviation\n",
    "s3 = np.random.normal(mu, sigma, 1000)\n",
    "\n",
    "# Display histogram of the samples, along with the probability density function \n",
    "plt.subplot(133)\n",
    "count, bins, ignored = plt.hist(s3, 30, normed=True)\n",
    "plt.plot(bins, 1/(sigma * np.sqrt(2 * np.pi)) * np.exp( - (bins - mu)**2 / (2 * sigma**2) ), linewidth=2, color='r')\n",
    "plt.title(\"standard normal\")"
   ]
  },
  {
   "cell_type": "markdown",
   "metadata": {},
   "source": [
    "[Back to statistics](#statistics)  \n",
    "[Back to the table of content](#content)"
   ]
  },
  {
   "cell_type": "markdown",
   "metadata": {},
   "source": [
    "### What is the Binomial Probability Formula?\n",
    "\n",
    "<a id=\"binomial\"></a>"
   ]
  },
  {
   "cell_type": "markdown",
   "metadata": {},
   "source": [
    "If $X_1,...,X_n$ is iid Bernoulli(p), then $X=\\sum_{i=1}^{n}X_i$ is a binomial random variable. We write out that $X \\sim$ Binomial$(n, p)$. The binomial mass function is \n",
    "\n",
    "\\begin{equation*}\n",
    "P(X=x) = \\left(\\frac{n}{x}\\right)p^x(1-p)^{n-x}\n",
    "\\end{equation*}\n",
    "\n",
    "where $x = 0,...,n$ and\n",
    "\n",
    "\\begin{equation*}\n",
    "\\left(\\frac{n}{x}\\right) = \\frac{n!}{x!(n-x)!}\n",
    "\\end{equation*}\n",
    "\n",
    "(read \"$n$ choose $x$\") counts the number of ways of selecting $x$ items out of $n$ without replacement disregarding the order of the items. $n$ choose $0$, $n$ choose $1$, and $n$ choose $n-1$ are all $1$."
   ]
  },
  {
   "cell_type": "markdown",
   "metadata": {},
   "source": [
    "[Back to statistics](#statistics)  \n",
    "[Back to the table of content](#content)"
   ]
  },
  {
   "cell_type": "markdown",
   "metadata": {},
   "source": [
    "## 2. Programming\n",
    "\n",
    "<a id=\"programming\"></a>"
   ]
  },
  {
   "cell_type": "markdown",
   "metadata": {},
   "source": [
    "### 2.1. General\n",
    "\n",
    "<a id=\"general\"></a>"
   ]
  },
  {
   "cell_type": "markdown",
   "metadata": {},
   "source": [
    "1. [With which programming languages and environments are you most comfortable working?](#programminglanguages)\n",
    "2. [What are some pros and cons about your favorite statistical software?](#proscons)\n",
    "3. [Tell me about an original algorithm you’ve created.](#originalalgorithm)\n",
    "4. [Describe a data science project  in which you worked with a substantial programming component. What did you learn from that experience?](#dsproject)\n",
    "5. [Do you contribute to any open source projects?](#opensource)\n",
    "6. [How would you clean a dataset in (insert language here)?](#cleandata)\n",
    "7. [Tell me about the coding you did during your last project?](#lastproject)"
   ]
  },
  {
   "cell_type": "markdown",
   "metadata": {},
   "source": [
    "### With which programming languages and environments are you most comfortable working?\n",
    "\n",
    "<a id=\"programminglanguages\">"
   ]
  },
  {
   "cell_type": "markdown",
   "metadata": {},
   "source": [
    "Python and R"
   ]
  },
  {
   "cell_type": "markdown",
   "metadata": {},
   "source": [
    "[Back to programming/general](#general)  \n",
    "[Back to programming](#programming)  \n",
    "[Back to the table of content](#content)"
   ]
  },
  {
   "cell_type": "markdown",
   "metadata": {},
   "source": [
    "### What are some pros and cons about your favorite statistical software?\n",
    "\n",
    "<a id=\"proscons\"></a>"
   ]
  },
  {
   "cell_type": "markdown",
   "metadata": {},
   "source": [
    "Python\n",
    "\n",
    "Pros: Notebooks\n",
    "You can easily share notebooks with anybody, without having them to install anything.\n",
    "\n",
    "Pros: A general purpose language\n",
    "Easy and intuitive for people with different backgrounds\n",
    "\n",
    "Con: Python is a challenger\n",
    "Python is a challenger to R. It does not offer an alternative to the hundreds of essential R packages.  Although it’s catching up, it’s still unclear if this will make people give up R."
   ]
  },
  {
   "cell_type": "markdown",
   "metadata": {},
   "source": [
    "[Back to programming/general](#general)  \n",
    "[Back to programming](#programming)  \n",
    "[Back to the table of content](#content)"
   ]
  },
  {
   "cell_type": "markdown",
   "metadata": {},
   "source": [
    "### Tell me about an original algorithm you’ve created.\n",
    "\n",
    "<a id=\"originalalgorithm\">"
   ]
  },
  {
   "cell_type": "markdown",
   "metadata": {},
   "source": [
    "..."
   ]
  },
  {
   "cell_type": "markdown",
   "metadata": {},
   "source": [
    "[Back to programming/general](#general)  \n",
    "[Back to programming](#programming)  \n",
    "[Back to the table of content](#content)"
   ]
  },
  {
   "cell_type": "markdown",
   "metadata": {},
   "source": [
    "### Describe a data science project  in which you worked with a substantial programming component. What did you learn from that experience?\n",
    "\n",
    "<a id=\"dsproject\"></a>"
   ]
  },
  {
   "cell_type": "markdown",
   "metadata": {},
   "source": [
    "..."
   ]
  },
  {
   "cell_type": "markdown",
   "metadata": {},
   "source": [
    "[Back to programming/general](#general)  \n",
    "[Back to programming](#programming)  \n",
    "[Back to the table of content](#content)"
   ]
  },
  {
   "cell_type": "markdown",
   "metadata": {},
   "source": [
    "### Do you contribute to any open source projects?\n",
    "\n",
    "<a id=\"opensource\"></a>"
   ]
  },
  {
   "cell_type": "markdown",
   "metadata": {},
   "source": [
    "..."
   ]
  },
  {
   "cell_type": "markdown",
   "metadata": {},
   "source": [
    "[Back to programming/general](#general)  \n",
    "[Back to programming](#programming)  \n",
    "[Back to the table of content](#content)"
   ]
  },
  {
   "cell_type": "markdown",
   "metadata": {},
   "source": [
    "### How would you clean a dataset in (insert language here)?\n",
    "\n",
    "<a id=\"cleandata\"></a>"
   ]
  },
  {
   "cell_type": "markdown",
   "metadata": {},
   "source": [
    "..."
   ]
  },
  {
   "cell_type": "markdown",
   "metadata": {},
   "source": [
    "[Back to programming/general](#general)  \n",
    "[Back to programming](#programming)  \n",
    "[Back to the table of content](#content)"
   ]
  },
  {
   "cell_type": "markdown",
   "metadata": {},
   "source": [
    "### Tell me about the coding you did during your last project?\n",
    "\n",
    "<a id=\"lastproject\"></a>"
   ]
  },
  {
   "cell_type": "markdown",
   "metadata": {},
   "source": [
    "..."
   ]
  },
  {
   "cell_type": "markdown",
   "metadata": {},
   "source": [
    "[Back to programming/general](#general)  \n",
    "[Back to programming](#programming)  \n",
    "[Back to the table of content](#content)"
   ]
  },
  {
   "cell_type": "markdown",
   "metadata": {},
   "source": [
    "### 2.2. Big Data\n",
    "\n",
    "<a id=\"bigdata\"></a>"
   ]
  },
  {
   "cell_type": "markdown",
   "metadata": {},
   "source": [
    "1. [What are the two main components of the Hadoop Framework?](#hadoopcomponents)\n",
    "2. [Explain how MapReduce works as simply as possible.](#mapreduce)\n",
    "3. [How would you sort a large list of numbers?](#sortlargelist)\n",
    "4. [Here is a big dataset. What is your plan for dealing with outliers? How about missing values? How about transformations?](#bigdata_outliers_missingvalues)"
   ]
  },
  {
   "cell_type": "markdown",
   "metadata": {},
   "source": [
    "### What are the two main components of the Hadoop Framework?\n",
    "\n",
    "<a id=\"hadoopcomponents\"></a>"
   ]
  },
  {
   "cell_type": "markdown",
   "metadata": {},
   "source": [
    "Hadoop is a framework that allows us to store and process large data sets in parallel and distributed fashion. \n",
    "\n",
    "The two main components of Hadoop framework are  \n",
    "1. <span style=\"color:purple\">HDFS</span> - Hadoop Distributed File System - for storing the data.\n",
    "    * The data is distributed over different machines and these machines are interconnected and in Hadoop terms it is called a Hadoop cluster.\n",
    "    \n",
    "2. <span style=\"color:purple\">MapReduce</span> - the programming unit of Hadoop. It allows paralell and distributed processing of the data which is lying across the Hadoop cluster.\n",
    "    * map - every machine in Hadoop cluster processes the data that it has got.\n",
    "    * reduce - combines the intermediary outputs to provide the final output."
   ]
  },
  {
   "cell_type": "markdown",
   "metadata": {},
   "source": [
    "[Back to programming/big data](#bigdata)  \n",
    "[Back to programming](#programming)  \n",
    "[Back to the table of content](#content)"
   ]
  },
  {
   "cell_type": "markdown",
   "metadata": {},
   "source": [
    "### Explain how MapReduce works as simply as possible.\n",
    "\n",
    "<a id=\"mapreduce\"></a>"
   ]
  },
  {
   "cell_type": "markdown",
   "metadata": {},
   "source": [
    "Here is a simple explanation from IBM analytics post (link in the [Reference](#reference))\n",
    "\n",
    "The term MapReduce actually refers to two separate and distinct tasks that Hadoop programs perform. The first is the map job, which takes a set of data and converts it into another set of data, where individual elements are broken down into tuples (key/value pairs).\n",
    "\n",
    "The reduce job takes the output from a map as input and combines those data tuples into a smaller set of tuples. As the sequence of the name MapReduce implies, the reduce job is always performed after the map job.\n",
    "\n",
    "And here is an excellent diagram showing MapReduce workflow for counting words. I made the diagram based on the diagram found in the tutorial by Edureka (link to the tutorial in [Reference](#reference))"
   ]
  },
  {
   "cell_type": "markdown",
   "metadata": {},
   "source": [
    "![mapreduce_diogram_full.jpg](attachment:mapreduce_diogram_full.jpg)"
   ]
  },
  {
   "cell_type": "markdown",
   "metadata": {},
   "source": [
    "[Back to programming/big data](#bigdata)  \n",
    "[Back to programming](#programming)  \n",
    "[Back to the table of content](#content)"
   ]
  },
  {
   "cell_type": "markdown",
   "metadata": {},
   "source": [
    "### How would you sort a large list of numbers?\n",
    "\n",
    "<a id=\"sortlargelist\"></a>"
   ]
  },
  {
   "cell_type": "code",
   "execution_count": null,
   "metadata": {
    "collapsed": true
   },
   "outputs": [],
   "source": []
  },
  {
   "cell_type": "markdown",
   "metadata": {},
   "source": [
    "[Back to programming/big data](#bigdata)  \n",
    "[Back to programming](#programming)  \n",
    "[Back to the table of content](#content)"
   ]
  },
  {
   "cell_type": "markdown",
   "metadata": {},
   "source": [
    "### Here is a big dataset. What is your plan for dealing with outliers? How about missing values? How about transformations?\n",
    "\n",
    "<a id=\"bigdata_outliers_missingvalues\"></a>"
   ]
  },
  {
   "cell_type": "code",
   "execution_count": null,
   "metadata": {
    "collapsed": true
   },
   "outputs": [],
   "source": []
  },
  {
   "cell_type": "markdown",
   "metadata": {},
   "source": [
    "[Back to programming/big data](#bigdata)  \n",
    "[Back to programming](#programming)  \n",
    "[Back to the table of content](#content)"
   ]
  },
  {
   "cell_type": "markdown",
   "metadata": {},
   "source": [
    "### 2.3. Python\n",
    "\n",
    "<a id=\"python\"></a>"
   ]
  },
  {
   "cell_type": "markdown",
   "metadata": {},
   "source": [
    "1. [What modules/libraries are you most familiar with? What do you like or dislike about them?](#libraries)\n",
    "2. [What are the supported data types in Python?](#datatypes)\n",
    "3. [What is the difference between a tuple and a list in Python?](#tuplelist)\n",
    "       "
   ]
  },
  {
   "cell_type": "markdown",
   "metadata": {},
   "source": [
    "### 2.4. R\n",
    "\n",
    "<a id=\"r\"></a>"
   ]
  },
  {
   "cell_type": "markdown",
   "metadata": {},
   "source": [
    "1. [What are the different types of sorting algorithms available in R language?](#sorting)\n",
    "2. [What are the different data objects in R?](#objects)\n",
    "3. [What packages are you most familiar with? What do you like or dislike about them?](#packages)\n",
    "4. [How do you access the element in the 2nd column and 4th row of a matrix named M?](#accesselement)\n",
    "5. [What is the command used to store R objects in a file?](#storeobject)\n",
    "6. [What is the best way to use Hadoop and R together for analysis?](#hadoopR)\n",
    "7. [How do you split a continuous variable into different groups/ranks in R?](#splitranks)\n",
    "8. [Write a function in R language to replace the missing value in a vector with the mean of that vector.](#function_missingvalues)\n",
    "       "
   ]
  },
  {
   "cell_type": "markdown",
   "metadata": {},
   "source": [
    "### 2.5. SQL\n",
    "\n",
    "<a id=\"sql\"></a>"
   ]
  },
  {
   "cell_type": "markdown",
   "metadata": {},
   "source": [
    "1. [What is the purpose of the group functions in SQL? Give some examples of group functions.](#group)\n",
    "2. [Tell me the difference between an inner join, left join/right join, and union.](#joins)\n",
    "3. [What does UNION do? What is the difference between UNION and UNION ALL?](#union)\n",
    "4. [What is the difference between SQL and MySQL or SQL Server?](#sqlvsmysql)\n",
    "5. [If a table contains duplicate rows, does a query result display the duplicate values by default? How can you eliminate duplicate rows from a query result?](#duplicaterows)\n",
    "6. [Examples of similar data science interview questions found from Glassdoor:](#glassdoor2)    \n",
    "   * [Find the second largest element in a Binary Search tree](#Linkedin)\n",
    "   * [SQL queries with basic groupby, self joins and inner queries. The problem could be solved by analytical queries](#facebook)"
   ]
  },
  {
   "cell_type": "markdown",
   "metadata": {},
   "source": [
    "### What is the purpose of the group functions in SQL? Give some examples of group functions."
   ]
  },
  {
   "cell_type": "markdown",
   "metadata": {},
   "source": [
    "Group functions are mathematical functions to operate on sets of rows to give one result per set. The types of group functions (also called aggregate functions) are:\n",
    "\n",
    "* **AVG**, that calculates the average of the specified columns in a set of rows,\n",
    "* **COUNT**, calculating the number of rows in a set.\n",
    "* **MAX**, calculating the maximum,\n",
    "* **MIN**, calculating the minimum,\n",
    "* **STDDEV**, calculating the standard deviation,\n",
    "* **SUM**, calculating the sum,\n",
    "* **VARIANCE**, calculating the variance.\n",
    "\n",
    "The above aggregate functions are usually used with **GROUP BY** clause. You can farther use **HAVING** clause to filter out rows from the groups. Do not confuse it with **WHERE** clause.\n",
    "\n",
    "* **GROUP BY** allows you to separate data into groups, which can be aggregated independently of one another.\n",
    "* **HAVING** clause filters rows AFTER the GROUPING action (i.e., after the calculation of the aggregate functions).\n",
    "* **WHERE** clause is used to filter rows BEFORE the GROUPING action (i.e., before the calculation of the aggregate functions)."
   ]
  },
  {
   "cell_type": "code",
   "execution_count": null,
   "metadata": {},
   "outputs": [],
   "source": []
  },
  {
   "cell_type": "code",
   "execution_count": null,
   "metadata": {},
   "outputs": [],
   "source": []
  },
  {
   "cell_type": "code",
   "execution_count": null,
   "metadata": {},
   "outputs": [],
   "source": []
  },
  {
   "cell_type": "code",
   "execution_count": null,
   "metadata": {},
   "outputs": [],
   "source": []
  },
  {
   "cell_type": "markdown",
   "metadata": {},
   "source": [
    "## 3. Modeling\n",
    "\n",
    "<a id=\"modeling\"></a>"
   ]
  },
  {
   "cell_type": "markdown",
   "metadata": {},
   "source": [
    "1. [Tell me about how you designed the model you created for a past employer or client.](#pastmodeldesign)\n",
    "2. [What are your favorite data visualization techniques?](#visualization)\n",
    "3. [How would you effectively represent data with 5 dimensions?](#5dimentions)\n",
    "4. [How is kNN different from k-means clustering?](#knnvskmeans)\n",
    "5. [How would you create a logistic regression model?](#logreg)\n",
    "6. [Have you used a time series model? Do you understand cross-correlations with time lags?](#timeseries)\n",
    "7. [Explain the 80/20 rule, and tell me about its importance in model validation.](#validation)\n",
    "8. [Explain what precision and recall are. How do they relate to the ROC curve?](#precisionrecall)\n",
    "9. [Explain the difference between L1 and L2 regularization methods.](#regularization)\n",
    "10. [What is root cause analysis?](#rootcause)\n",
    "11. [What are hash table collisions?](#hashcollisions)\n",
    "12. [What is an exact test?](#exacttest)\n",
    "13. [In your opinion, which is more important when designing a machine learning model: Model performance? Or model accuracy?](#performanceaccuracy)\n",
    "14. [What is one way that you would handle an imbalanced dataset that’s being used for prediction? (i.e. vastly more negative classes than positive classes.)](#imbalanced)\n",
    "15. [How would you validate a model you created to generate a predictive model of a quantitative outcome variable using multiple regression?](#validateregression)\n",
    "16. [I have two models of comparable accuracy and computational performance. Which one should I choose for production and why?](#choosemodel)\n",
    "17. [How do you deal with sparsity?](#sparsity)\n",
    "18. [Is it better to spend 5 days developing a 90% accurate solution, or 10 days for 100% accuracy?](#compareaccuracy)\n",
    "19. [What are some situations where a general linear model fails?](#linearfail)\n",
    "20. [Do you think 50 small decision trees are better than a large one? Why?](#decisiontrees)\n",
    "21. [When modifying an algorithm, how do you know that your changes are an improvement over not doing anything?](#modifyalgorithm)\n",
    "22. [Is it better to have too many false positives, or too many false negatives?](#falseposneg)\n",
    "23. [Examples of similar data science interview questions found from Glassdoor:](#glassdoor3)\n",
    "    \n",
    "   * [How do you take millions of users with 100's of transactions each, amongst 10k's of products and group the users together in a meaningfull segments? (asked at **Apple**)](#apple)\n",
    "   * [A project where I have extracted useful information from a large data set. What machine algorithm did I use and why. (asked at **Greenplum**)](#greenplum)\n",
    "   * [How would you tune a random forest? (asked at **Instacart**)](#instacart)\n",
    "   * [How do you know if one algorithm is better than the other? (asked at **Netflix**)](#netflix)"
   ]
  },
  {
   "cell_type": "markdown",
   "metadata": {},
   "source": [
    "## 4. Behavioral\n",
    "\n",
    "<a id=\"behavioral\"></a>"
   ]
  },
  {
   "cell_type": "markdown",
   "metadata": {},
   "source": [
    "1. [Tell me about a time when you took initiative.](#initiative)\n",
    "2. [Tell me about a time where you had to overcome a dilemma.](#dilemma)\n",
    "3. [Tell me about a time where you resolved a conflict.](#conflixt)\n",
    "4. [Tell me about a time you failed, and what you have learned from it.](#failed)\n",
    "5. [Tell me about (a job on your resume). Why did you choose to do it and what do you like most about it?](#jobinresume)\n",
    "6. [Tell me about (a job on your resume). Why did you choose to do it and what do you like most about it?](#challenge)\n",
    "7. [When you encounter a tedious, boring task, how would you deal with it and motivate yourself to complete it?](#boringtask)\n",
    "8. [What have you done in the past to make a client satisfied/happy?](#happyclient)\n",
    "9. [What have you done in your previous job that you are really proud of?](#proudof)\n",
    "10. [What do you do when your personal life is running over into your work life?](#personallife)\n",
    "11. [Examples of similar data science interview questions found from Glassdoor](#glassdoor4)\n",
    "    \n",
    "    * [Look at this email these jerks sent me, what would you do about this? (Guy actually shows me his Outlook inbox and lets me read a very demanding email from another department in the company) (asked at **Constellation Brands**)](#constellationbrands)"
   ]
  },
  {
   "cell_type": "markdown",
   "metadata": {},
   "source": [
    "## 5. Culture Fit\n",
    "\n",
    "<a id=\"culturefit\"></a>"
   ]
  },
  {
   "cell_type": "markdown",
   "metadata": {},
   "source": [
    "1. [Which data scientists do you admire most? Which startups?](#admire)\n",
    "2. [What do you think makes a good data scientist?](#gooddatascientist)\n",
    "3. [How did you become interested in data science?](#howinterested)\n",
    "4. [Give a few examples of “best practices” in data science.](#bestpractise)\n",
    "5. [What/when is the latest data science book / article you read? What/when is the latest data mining conference / webinar / class / workshop / training you attended?](#dsbookarticle)\n",
    "6. [What’s a project you would want to work on at our company?](#projectyouwant)\n",
    "7. [What unique skills do you think you’d bring to the team?](#uniqueskills)\n",
    "8. [What data would you love to acquire if there were no limitations?](#datayouwant)\n",
    "9. [Have you ever thought about creating a startup? Around which idea / concept?](#createstartup)\n",
    "10. [What can your hobbies tell me that your resume can’t?](#hobbies)\n",
    "11. [What are your top 5 predictions for the next 20 years?](#top5predictions)\n",
    "12. [What did you do today? Or what did you do this week / last week?](#whatdidyoudotoday)\n",
    "13. [If you won a million dollars in the lottery, what would you do with the money?](#ifyouwonmillion)\n",
    "14. [What is one thing you believe that most people do not?](#1thingyoubelieve)\n",
    "15. [What personality traits do you butt heads with?](#personalitytraits)\n",
    "16. [What are you passionate about?](#passionate)\n",
    "17. [Examples of similar data science interview questions found from Glassdoor.](#glassdoor5)\n",
    "    \n",
    "    * [What is your career path? (asked at **Capital One**)](#capitalone)\n",
    "    * [If you could have one superpower, what would it be? (asked at **Apple**)](#superpower)"
   ]
  },
  {
   "cell_type": "markdown",
   "metadata": {},
   "source": [
    "## 6. Problem-Solving\n",
    "\n",
    "<a id=\"problemsolving\"></a>"
   ]
  },
  {
   "cell_type": "markdown",
   "metadata": {},
   "source": []
  },
  {
   "cell_type": "markdown",
   "metadata": {},
   "source": [
    "1. [How would you come up with a solution to identify plagiarism?](#plagiarism)\n",
    "2. [How many “useful” votes will a Yelp review receive?](#yelpreview)\n",
    "3. [How do you detect individual paid accounts shared by multiple users?](#sharedaccount)\n",
    "4. [You are about to send one million emails. How do you optimize delivery? How do you optimize response?](#optimizeemaildelivery)\n",
    "5. [You have a dataset containing 100K rows and 100 columns, with one of those columns being our dependent variable for a problem we’d like to solve. How can we quickly identify which columns will be helpful in predicting the dependent variable. Identify two techniques and explain them to me as though I were 5 years old.](#helpfulpredictors)\n",
    "6. [How would you detect bogus reviews, or bogus Facebook accounts used for bad purposes?](#bogus)\n",
    "7. [How would you perform clustering on one million unique keywords, assuming you have 10 million data points – each one consisting of two keywords, and a metric measuring how similar these two keywords are? How would you create this 10 million data points table in the first place?](#clustering)\n",
    "8. [How would you optimize a web crawler to run much faster, extract better information, and better summarize data to produce cleaner databases?](#webcrawler)\n",
    "9. [Examples of similar data science interview questions found from Glassdoor.](#Glassdoor)\n",
    "    \n",
    "   * [Suppose you have a coffee store. What do you do to increase the number of customers? (asked at **Symantec**)](#symantec)\n",
    "   * [Given an existing set of purchases, how do you predict the next item to purchase of a new busket? (asked at **Massachusetts General Hospital**)](#massachusetts)\n",
    "   * [Imagine you have N pieces of rope in a bucket. You reach in and grab one end-piece, then reach in and grab another end-piece and tie those two together. What is the expected vaue of the number of loops in the bucket? (asked at **Natera**)](#Natera)\n",
    "\n"
   ]
  },
  {
   "cell_type": "markdown",
   "metadata": {},
   "source": [
    "## Reference\n",
    "\n",
    "<a id=\"reference\"></a>"
   ]
  },
  {
   "cell_type": "markdown",
   "metadata": {},
   "source": [
    "### Books\n",
    "\n",
    "1. All of Statistics: A Concise Course in Statistical Inference, by Larry Wasserman: https://books.google.com/books/about/All_of_Statistics.html?id=qrcuBAAAQBAJ&printsec=frontcover&source=kp_read_button#v=onepage&q&f=false\n",
    "2. OpenIntro Statistics, Third Edition, by David M Diez, Christopher D Barr, Mine Cetinkaya-Rundel: https://www.openintro.org/download.php?file=os3_tablet\n",
    "\n",
    "\n",
    "### Articles\n",
    "\n",
    "1. Matt Nedrich's post on Central Limit Theorem. https://spin.atomicobject.com/2015/02/12/central-limit-theorem-intro/\n",
    "2. Courtney Taylor's post, Understanding the Importance of the Central Limit Theorem: https://www.thoughtco.com/importance-of-the-central-limit-theorem-3126556\n",
    "3. IBM analytics post on MapReduce: https://www.ibm.com/analytics/hadoop/mapreduce\n",
    "\n",
    "### Tutorials\n",
    "\n",
    "2. Edureka Tutorial on Apache Hadoop: https://www.youtube.com/watch?v=mafw2-CVYnA&t=1264s"
   ]
  },
  {
   "cell_type": "code",
   "execution_count": null,
   "metadata": {
    "collapsed": true
   },
   "outputs": [],
   "source": []
  }
 ],
 "metadata": {
  "kernelspec": {
   "display_name": "Python [default]",
   "language": "python",
   "name": "python3"
  },
  "language_info": {
   "codemirror_mode": {
    "name": "ipython",
    "version": 3
   },
   "file_extension": ".py",
   "mimetype": "text/x-python",
   "name": "python",
   "nbconvert_exporter": "python",
   "pygments_lexer": "ipython3",
   "version": "3.5.4"
  }
 },
 "nbformat": 4,
 "nbformat_minor": 2
}
