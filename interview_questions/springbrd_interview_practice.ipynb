{
 "cells": [
  {
   "cell_type": "markdown",
   "metadata": {},
   "source": [
    "## Programming Boot-Up\n",
    "\n",
    "* What native data structures can you name in Python? Of these, which are mutable, and which are immutable?   \n",
    "\n",
    "    1. From Python3 documentation:  \n",
    "    https://docs.python.org/3/library/stdtypes.html  \n",
    "\n",
    "    The principal built-in types are **numerics**, **sequences**, **mappings**, **classes**, **instances** and **exceptions**.  \n",
    "\n",
    "        * Numeric Types - **int, float, complex**\n",
    "            * **boolean** is a subtype of numeric type\n",
    "        * Iterator Types - Generator Types\n",
    "        * Sequence Types - **list, tuple, range**\n",
    "        * Text Sequence Type - **str**\n",
    "        * Binary Sequence Types — **bytes, bytearray, memoryview**\n",
    "        * Set Types — **set, frozenset**\n",
    "        * Mapping Types - **dict**\n",
    "        * Context Manager Types\n",
    "        * Other Built-in Types - **modules, classes and class instances, functions, methods, code objects, type objects, the null object, the ellipsis object, the notimplemented object, boolean values, internal objects**\n",
    "\n",
    "    2. From Wikipedia: https://en.wikibooks.org/wiki/Python_Programming/Data_Types\n",
    "\n",
    "| Some immutable types | Some mutable types \n",
    "| -------------------- | ------------------ \n",
    "| int, float, complex | array |\n",
    "| str | bytearray \n",
    "| bytes | list \n",
    "| tuple | set \n",
    "| frozenset | dict \n",
    "| bool |   \n",
    "\n",
    "* Explain the difference between a list and a dictionary? \n",
    "* In a list, what data types can be elements? \n",
    "* In a dictionary, what data types can the key be? And the values? Why? \n",
    "* When would you use a list vs. a tuple vs. a set in Python? \n",
    "* Explain the difference between a for loop and a while loop.\n",
    "* What packages in the standard library, useful for Data Science work, do you know?\n",
    "* Do you know any additional data structures available in the standard library?\n",
    "* Can you explain what a list or dict comprehension is? "
   ]
  },
  {
   "cell_type": "markdown",
   "metadata": {},
   "source": []
  }
 ],
 "metadata": {
  "kernelspec": {
   "display_name": "Python [default]",
   "language": "python",
   "name": "python3"
  },
  "language_info": {
   "codemirror_mode": {
    "name": "ipython",
    "version": 3
   },
   "file_extension": ".py",
   "mimetype": "text/x-python",
   "name": "python",
   "nbconvert_exporter": "python",
   "pygments_lexer": "ipython3",
   "version": "3.5.4"
  }
 },
 "nbformat": 4,
 "nbformat_minor": 2
}
