{
 "cells": [
  {
   "cell_type": "markdown",
   "metadata": {},
   "source": [
    "# Sequence Models for Time Series and Natural Language Processing\n",
    "\n",
    "Course 4 of 5 in the [Advanced Machine Learning with TensorFlow on Google Cloud Platform Specialization](https://www.coursera.org/specializations/advanced-machine-learning-tensorflow-gcp)"
   ]
  },
  {
   "cell_type": "markdown",
   "metadata": {},
   "source": [
    "## Agenda\n",
    "\n",
    "1. [Introduction](#introduction)\n",
    "2. [Working with Sequencies](#working_with_sequencies)\n",
    "3. [Recurrent Neural Networks (RNNs)](#rnn)\n",
    "4. [Dealing with Longer Sequencies (LSTMs)](#lstm)\n",
    "5. [Reusable Embeddings](#reusable_empeddings)\n",
    "6. [Encoder-Decoder Models](#encoder_decoder)"
   ]
  },
  {
   "cell_type": "markdown",
   "metadata": {},
   "source": [
    "## 1. Introduction\n",
    "\n",
    "<a id=\"introduction\"></a>"
   ]
  },
  {
   "cell_type": "markdown",
   "metadata": {},
   "source": [
    "## 2. Working with Sequencies\n",
    "\n",
    "<a id=\"working_with_sequencies\"></a>"
   ]
  },
  {
   "cell_type": "markdown",
   "metadata": {},
   "source": [
    "## 3. Recurrent Neural Networks (RNNs)\n",
    "\n",
    "<a id=\"rnn\"></a>"
   ]
  },
  {
   "cell_type": "markdown",
   "metadata": {},
   "source": [
    "## 4. Dealing with Longer Sequencies (LSTMs)\n",
    "\n",
    "<a id=\"lstm\"></a>"
   ]
  },
  {
   "cell_type": "markdown",
   "metadata": {},
   "source": [
    "## 5. Reusable Embeddings\n",
    "\n",
    "<a id=\"reusable_empeddings\"></a>"
   ]
  },
  {
   "cell_type": "markdown",
   "metadata": {},
   "source": [
    "## 6. Encoder-Decoder Models\n",
    "\n",
    "<a><>"
   ]
  }
 ],
 "metadata": {
  "kernelspec": {
   "display_name": "Python [default]",
   "language": "python",
   "name": "python3"
  },
  "language_info": {
   "codemirror_mode": {
    "name": "ipython",
    "version": 3
   },
   "file_extension": ".py",
   "mimetype": "text/x-python",
   "name": "python",
   "nbconvert_exporter": "python",
   "pygments_lexer": "ipython3",
   "version": "3.5.6"
  }
 },
 "nbformat": 4,
 "nbformat_minor": 2
}
