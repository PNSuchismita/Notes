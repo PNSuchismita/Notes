{
 "cells": [
  {
   "cell_type": "markdown",
   "metadata": {},
   "source": [
    "# The Elements of Data Science, AWS Machine Learning: Data Scientist"
   ]
  },
  {
   "cell_type": "markdown",
   "metadata": {},
   "source": [
    "## What is Data Science?"
   ]
  },
  {
   "cell_type": "markdown",
   "metadata": {},
   "source": [
    "**General Definition**. Processes and systems to extract knowledge or insights from data, either structured or unstructured. (Wikipedia)\n",
    "\n",
    "**What is Machine Learning?**\n",
    "* **Main idea**: Learning = estimating underlying function $f$ by mapping data attributes to some target value.\n",
    "* **Training set**: A set of labeled examples ($x, f(x)$) where $x$ is the input variables and the label $f(x)$ is the observed target truth.\n",
    "* **Goal**: Given a training set, find approximation $\\hat{f}$ of $f$ that best generalizes, or predicts, labels for new examples.\n",
    "    * **\"Best\"** is measured by some quality measure.\n",
    "    * **Example**: error rate, sum squared error"
   ]
  },
  {
   "cell_type": "markdown",
   "metadata": {},
   "source": [
    "### Types of Machine Learning"
   ]
  },
  {
   "cell_type": "markdown",
   "metadata": {},
   "source": [
    "* **Supervised Learning**: Models learn from training data that has been labeled.\n",
    "* **Unsupervised Learning**:  Models learn from test data that has not been labeled.\n",
    "* **Semi-Supervised Learning**: Combination of supervized and unsupervized learnings. You have a mixture of labeled and unlabeled data\n",
    "* **Reinforcement Learning**: Models learn by taking actions that can earn rewards."
   ]
  },
  {
   "cell_type": "code",
   "execution_count": null,
   "metadata": {},
   "outputs": [],
   "source": []
  },
  {
   "cell_type": "code",
   "execution_count": null,
   "metadata": {},
   "outputs": [],
   "source": []
  },
  {
   "cell_type": "code",
   "execution_count": null,
   "metadata": {},
   "outputs": [],
   "source": []
  },
  {
   "cell_type": "code",
   "execution_count": null,
   "metadata": {},
   "outputs": [],
   "source": []
  },
  {
   "cell_type": "code",
   "execution_count": null,
   "metadata": {},
   "outputs": [],
   "source": []
  },
  {
   "cell_type": "code",
   "execution_count": null,
   "metadata": {},
   "outputs": [],
   "source": []
  },
  {
   "cell_type": "code",
   "execution_count": null,
   "metadata": {},
   "outputs": [],
   "source": []
  }
 ],
 "metadata": {
  "kernelspec": {
   "display_name": "Python [default]",
   "language": "python",
   "name": "python3"
  },
  "language_info": {
   "codemirror_mode": {
    "name": "ipython",
    "version": 3
   },
   "file_extension": ".py",
   "mimetype": "text/x-python",
   "name": "python",
   "nbconvert_exporter": "python",
   "pygments_lexer": "ipython3",
   "version": "3.5.6"
  }
 },
 "nbformat": 4,
 "nbformat_minor": 2
}
