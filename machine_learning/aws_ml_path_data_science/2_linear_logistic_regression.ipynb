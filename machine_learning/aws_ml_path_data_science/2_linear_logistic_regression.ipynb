{
 "cells": [
  {
   "cell_type": "markdown",
   "metadata": {},
   "source": [
    "# Linear and Logistic Regression, AWS Machine Learning: Data Scientist"
   ]
  },
  {
   "cell_type": "markdown",
   "metadata": {},
   "source": [
    "## Linear Regression via Least Squares Minimization\n",
    "\n",
    "### Types of Machine Learning\n",
    "\n",
    "* **Supervised**. Learns a function that approximates the relationship between input and output data\n",
    "* **Unsupervised**. Finds structure in data without using explicit labels.\n",
    "    * **Classification**. Predicts discrete labels/categories. Example, Logistic Regression\n",
    "    * **Regression**. Predicts continuous values. Example, Ordinary Least Squares"
   ]
  },
  {
   "cell_type": "markdown",
   "metadata": {},
   "source": [
    "### Introduction to Linear Models\n",
    "\n",
    "* **What is it?**. In linear modeling, the relationship between each individual input variables and the output is a straight line. Slopes of such lines become the coefficients of the linear equation.\n",
    "* **An example of a linear notation**. $y_i = a_0 + a_1x_1 + a_2x_2 + ...$.\n",
    "* **Why use linear models?**.     \n",
    "    * Interpretable\n",
    "    * Low complexity\n",
    "    * Scalable\n",
    "    * Good baseline"
   ]
  },
  {
   "cell_type": "markdown",
   "metadata": {},
   "source": [
    "### Definition of 1-Dimension Ordinary Least Squares (OLS)\n",
    "\n",
    "* $i$ - an observation. Assume $i = 1, 2, ..., N$.\n",
    "* $x$ - independent variable, feature\n",
    "* $y$ - dependent variable, output \n",
    "\n",
    "The linear relationship looks like this\n",
    "\n",
    "\\begin{equation*}\n",
    "y = ax + b\n",
    "\\end{equation*}\n",
    "\n",
    "where $a, b$ are constants.  \n",
    "\n",
    "The OLS problem is to solve for $a$ and $b$ in order to achieve $y_i = ax_i + b + \\epsilon$, where $\\epsilon$ is the noise (there is always a noise/error: no matter how well we find $a$ and $b$, the indipendent variable never fully explains the dependent variable). We usually skip $\\epsilon$ and instead write\n",
    "\n",
    "\\begin{equation*}\n",
    "\\hat{y}_i = ax_i + b\n",
    "\\end{equation*}\n",
    "\n",
    "where  $\\hat{y}_i$ are our estimates of $y_i$.\n",
    "\n",
    "We solve for $a$ and $b$ by defining a loss function. A loss function is used whenever we are trying to optimize a given function. Let's define a loss function for linear regression.\n",
    "\n",
    "\\begin{equation*}\n",
    "L = \\sum_{i=1}^{N}(y_i - \\hat{y_i})^2\n",
    "\\end{equation*}"
   ]
  },
  {
   "cell_type": "markdown",
   "metadata": {},
   "source": [
    "### Solution of Ordinary Least Squares (OLS)\n",
    "\n",
    "Find the $L$ minimum by equating the first derivatives of $L$ to zero, and solving for the values of $a$ and $b$ for which $L$ is minimum.\n",
    "\n",
    "\\begin{equation*}\n",
    "L = \\sum_{i=1}^{N}(y_i - \\hat{y_i})^2 = \\sum_{i=1}^{N}(y_i - ax_i - b)^2\n",
    "\\end{equation*}\n",
    "\n",
    "Set $\\frac{dL}{da} = 0$ and $\\frac{dL}{db} = 0$\n",
    "\n",
    "Let's do it\n",
    "\n",
    "\\begin{align*}\n",
    "&\\frac{dL}{db} = \\sum_{i=1}^{N} 2(y_i - ax_i - b)(-1) = \\sum_{i=1}^{N} (y_i - ax_i - b) = 0 \\\\\n",
    "&\\sum_{i=1}^{N} y_i- a\\sum_{i=1}^{N}x_i - bN = 0 \\\\\n",
    "& \\boxed{b = \\frac{1}{N} \\sum_{i=1}^{N} y_i - \\frac{a}{N} \\sum_{i=1}^{N}x_i}\n",
    "\\end{align*}\n",
    "\n",
    "\n",
    "\\begin{align*}\n",
    "& \\frac{dL}{da} = \\sum_{i=1}^{N} 2(y_i - ax_i - b)(-x_i) = \\sum_{i=1}^{N} (y_i - ax_i - b)(x_i) = 0\\\\\n",
    "& \\sum_{i=1}^{N} x_iy_i - a\\sum_{i=1}^{N}x_i^2 - b\\sum_{i=1}^{N}x_i = 0 \\\\\n",
    "& \\sum_{i=1}^{N} x_iy_i = a\\sum_{i=1}^{N}x_i^2 + \\big( \\frac{1}{N} \\sum_{i=1}^{N} y_i - \\frac{a}{N} \\sum_{i=1}^{N}x_i  \\big) \\sum_{i=1}^{N}x_i \\\\\n",
    "& \\boxed{a = \\frac{\\sum_{i} x_iy_i - \\frac{1}{N}(\\sum_{i}x_i)(\\sum_{i}y_i)}{\\sum_{i}x_i^2 - \\frac{1}{N}(\\sum_{i}x_i)^2}} \n",
    "\\end{align*}\n",
    "\n",
    "So the exact solutions to the minimization problem are\n",
    "\n",
    "\\begin{align*}\n",
    "a &= \\frac{\\sum_{i} x_iy_i - \\frac{1}{N}(\\sum_{i}x_i)(\\sum_{i}y_i)}{\\sum_{i}x_i^2 - \\frac{1}{N}(\\sum_{i}x_i)^2} \\qquad \\big[= \\frac{Cov(X,Y)}{Var(X)} \\big] \\\\\n",
    "b &= \\frac{1}{N}\\sum_{i}y_i - \\frac{a}{N}\\sum_{i}x_i \\qquad[ = E[Y] - aE[X]]\n",
    "\\end{align*}"
   ]
  },
  {
   "cell_type": "markdown",
   "metadata": {},
   "source": [
    "### Interpretation"
   ]
  },
  {
   "cell_type": "markdown",
   "metadata": {},
   "source": [
    "* Interpreting parameters in an OLS equation\n",
    "* Limitations of using OLS through Anscombe’s Quartet\n",
    "* Multivariate OLS models and an example problem\n",
    "* Using matrix foundation to solve the OLS problem\n",
    "* The pros and cons of using OLS regression"
   ]
  },
  {
   "cell_type": "code",
   "execution_count": null,
   "metadata": {},
   "outputs": [],
   "source": []
  }
 ],
 "metadata": {
  "kernelspec": {
   "display_name": "Python [default]",
   "language": "python",
   "name": "python3"
  },
  "language_info": {
   "codemirror_mode": {
    "name": "ipython",
    "version": 3
   },
   "file_extension": ".py",
   "mimetype": "text/x-python",
   "name": "python",
   "nbconvert_exporter": "python",
   "pygments_lexer": "ipython3",
   "version": "3.5.6"
  }
 },
 "nbformat": 4,
 "nbformat_minor": 2
}
