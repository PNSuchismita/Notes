{
 "cells": [
  {
   "cell_type": "markdown",
   "metadata": {},
   "source": [
    "# Math for Machine Learning\n",
    "\n",
    "## What is Machine Learning?\n",
    "\n",
    "Arthur Aamuel, 1959, \"Field of study that gives computers the abiity to learn without being explicitly programmed\".\n",
    "\n",
    "## The Machine Learning Pipeline in Mathematics\n",
    "\n",
    "1. **Data Processing**\n",
    "    * Uses linear algebra to format the data in a way algorithms can ingest.\n",
    "2. **Feature Engineering and Selection**\n",
    "    * Uses vectores and matrices to transform data to make it easy for algorithms to understand.\n",
    "3. **Modeling**\n",
    "    * Uses geometry, probability, norms, and statistics to define the problem in a way the algorithm can optimize.\n",
    "4. **Optimization**\n",
    "    * Uses vector calculus to interate until certain conditions are met. Then you choose the best model.\n"
   ]
  },
  {
   "cell_type": "markdown",
   "metadata": {},
   "source": [
    "## Vectors\n",
    "\n",
    "### Norm\n",
    "\n",
    "A measure of distance. \n",
    "\n",
    "### Norm Properties\n",
    "\n",
    "1. All distances are non-negative. $\\Vert \\vec{v} \\Vert \\geq 0$\n",
    "2. Distances multiply with scalar multiplication. $\\Vert a \\vec{v} \\Vert = \\vert a \\vert \\cdot \\Vert v \\Vert$\n",
    "3. *Triangle Inequality*. If I travel from $A$ to $B$ then $B$ to $C$, that is at least as far as going from $A$ to $C$. $\\Vert \\vec{v} + \\vec{w} \\Vert \\leq \\Vert \\vec{v} \\Vert + \\Vert \\vec{w} \\Vert$. \n",
    "    * If $A$, $B$, and $C$ all lie on the same line, then $\\Vert \\vec{v} + \\vec{w} \\Vert = \\Vert \\vec{v} \\Vert + \\Vert \\vec{w} \\Vert$"
   ]
  },
  {
   "cell_type": "markdown",
   "metadata": {},
   "source": [
    "    \n",
    "### Types of Norms\n",
    "\n",
    "For $\\vec{v} = \\begin{pmatrix} v_1\\\\ v_2\\\\ ...\\\\ v_n\\end{pmatrix}$\n",
    "\n",
    "1. **Euclidean Norm**. \n",
    "\\begin{align*}\n",
    "\\Vert \\vec{v} \\Vert_2 &= \\sqrt{v_1^2 + v_2^2 + ... + v_n^2} \\\\\n",
    "                      &= \\sqrt{\\sum_{i=1}^{n} {v_i^2}}\n",
    "\\end{align*}\n",
    "2. $L_p-\\text{Norm}$ \n",
    "\\begin{equation*}\n",
    "\\Vert \\vec{v} \\Vert_p = \\Big( \\sum_{i=1}^{n} \\vert v_i \\vert ^p \\Big)^{1/p}\n",
    "\\end{equation*}\n",
    "3. $L_1-\\text{Norm}$\n",
    "\\begin{equation*}\n",
    "\\Vert \\vec{v} \\Vert_1 = \\sum_{i=1}^{n} \\vert v_i \\vert \n",
    "\\end{equation*}\n",
    "Other names are TAXICAB METRIC, MANHATTAN NORM, ...\n",
    "4. $L_\\infty-\\text{Norm}$\n",
    "\\begin{equation*}\n",
    "\\Vert \\vec{v} \\Vert_\\infty =  \\lim_{p \\to \\infty} \\Vert \\vec{v} \\Vert_p = \\lim_{p \\to \\infty} \\Big( \\sum_{i=1}^{n} \\vert v_i \\vert ^p \\Big)^{1/p} \n",
    "\\end{equation*}\n",
    "5. $L_0-\\text{Norm}$, which is not a norm, is the number of non-zero elements."
   ]
  },
  {
   "cell_type": "markdown",
   "metadata": {},
   "source": [
    "## Vectors in Code\n",
    "\n",
    "* We have used LaTeX to write down mathematical equations.\n",
    "* Let's use Python now"
   ]
  },
  {
   "cell_type": "code",
   "execution_count": 5,
   "metadata": {},
   "outputs": [],
   "source": [
    "# this defines a row\n",
    "v = [1, 2, 3]\n",
    "w = [1, 1, 1]\n",
    "\n",
    "# this defines a matrix\n",
    "A = [[1, 2, 3], [-1, 0, 1], [1, 1, 1]]"
   ]
  },
  {
   "cell_type": "code",
   "execution_count": 6,
   "metadata": {},
   "outputs": [
    {
     "data": {
      "text/plain": [
       "[1, 2, 3, 1, 1, 1]"
      ]
     },
     "execution_count": 6,
     "metadata": {},
     "output_type": "execute_result"
    }
   ],
   "source": [
    "v + w"
   ]
  },
  {
   "cell_type": "code",
   "execution_count": 7,
   "metadata": {},
   "outputs": [
    {
     "data": {
      "text/plain": [
       "array([2, 3, 4])"
      ]
     },
     "execution_count": 7,
     "metadata": {},
     "output_type": "execute_result"
    }
   ],
   "source": [
    "import numpy as np\n",
    "\n",
    "np.array(v) + np.array(w)"
   ]
  },
  {
   "cell_type": "code",
   "execution_count": 10,
   "metadata": {},
   "outputs": [
    {
     "data": {
      "text/plain": [
       "[1, 2, 3, 1, 2, 3]"
      ]
     },
     "execution_count": 10,
     "metadata": {},
     "output_type": "execute_result"
    }
   ],
   "source": [
    "2*v"
   ]
  },
  {
   "cell_type": "code",
   "execution_count": 11,
   "metadata": {},
   "outputs": [
    {
     "data": {
      "text/plain": [
       "array([2, 4, 6])"
      ]
     },
     "execution_count": 11,
     "metadata": {},
     "output_type": "execute_result"
    }
   ],
   "source": [
    "2*np.array(v)"
   ]
  },
  {
   "cell_type": "code",
   "execution_count": 12,
   "metadata": {},
   "outputs": [
    {
     "name": "stdout",
     "output_type": "stream",
     "text": [
      "6.0\n",
      "3.7416573867739413\n",
      "3.0\n"
     ]
    }
   ],
   "source": [
    "# L_p-Norms\n",
    "\n",
    "print(np.linalg.norm(v, ord=1))\n",
    "print(np.linalg.norm(v, ord=2))\n",
    "print(np.linalg.norm(v, ord=np.inf))"
   ]
  },
  {
   "cell_type": "markdown",
   "metadata": {},
   "source": [
    "## Matrices"
   ]
  },
  {
   "cell_type": "code",
   "execution_count": null,
   "metadata": {},
   "outputs": [],
   "source": []
  },
  {
   "cell_type": "code",
   "execution_count": null,
   "metadata": {},
   "outputs": [],
   "source": []
  },
  {
   "cell_type": "code",
   "execution_count": null,
   "metadata": {},
   "outputs": [],
   "source": []
  },
  {
   "cell_type": "code",
   "execution_count": null,
   "metadata": {},
   "outputs": [],
   "source": []
  },
  {
   "cell_type": "code",
   "execution_count": null,
   "metadata": {},
   "outputs": [],
   "source": []
  }
 ],
 "metadata": {
  "kernelspec": {
   "display_name": "Python [default]",
   "language": "python",
   "name": "python3"
  },
  "language_info": {
   "codemirror_mode": {
    "name": "ipython",
    "version": 3
   },
   "file_extension": ".py",
   "mimetype": "text/x-python",
   "name": "python",
   "nbconvert_exporter": "python",
   "pygments_lexer": "ipython3",
   "version": "3.5.6"
  }
 },
 "nbformat": 4,
 "nbformat_minor": 2
}
