{
 "cells": [
  {
   "cell_type": "markdown",
   "metadata": {},
   "source": [
    "# The Elements of Data Science\n",
    "# *AWS Machine Learning: Data Scientist*"
   ]
  },
  {
   "cell_type": "markdown",
   "metadata": {},
   "source": [
    "## What is Data Science?"
   ]
  },
  {
   "cell_type": "markdown",
   "metadata": {},
   "source": [
    "**General Definition**. Processes and systems to extract knowledge or insights from data, either structured or unstructured. (Wikipedia)\n",
    "\n",
    "### What is Machine Learning?\n",
    "\n",
    "* **Main idea**: Learning = estimating underlying function $f$ by mapping data attributes to some target value.\n",
    "* **Training set**: A set of labeled examples ($x, f(x)$) where $x$ is the input variables and the label $f(x)$ is the observed target truth.\n",
    "* **Goal**: Given a training set, find approximation $\\hat{f}$ of $f$ that best generalizes, or predicts, labels for new examples.\n",
    "    * **\"Best\"** is measured by some quality measure.\n",
    "    * **Example**: error rate, sum squared error"
   ]
  },
  {
   "cell_type": "markdown",
   "metadata": {},
   "source": [
    "### Types of Machine Learning"
   ]
  },
  {
   "cell_type": "markdown",
   "metadata": {},
   "source": [
    "* **Supervised Learning**: Models learn from training data that has been labeled.\n",
    "    * Regression: Target is continous numerical value\n",
    "    * Classification: Target is descrete/categorical\n",
    "* **Unsupervised Learning**:  Models learn from test data that has not been labeled.\n",
    "    * No target outcome\n",
    "    * One of the main goals is to detect groups/clusters\n",
    "* **Semi-Supervised Learning**: Combination of supervised and unsupervised learnings. You have a mixture of labeled and unlabeled data\n",
    "    * Example: Teaching an ML algorithm to play video games\n",
    "* **Reinforcement Learning**: Models learn by taking actions that can earn rewards."
   ]
  },
  {
   "cell_type": "markdown",
   "metadata": {},
   "source": [
    "### Data Science and ML Workflow\n",
    "\n",
    "Here is a nice slide from the AWS The Elements of Data Science course."
   ]
  },
  {
   "cell_type": "markdown",
   "metadata": {},
   "source": [
    "![title](companion_files/ml_workflow.png)"
   ]
  },
  {
   "cell_type": "markdown",
   "metadata": {},
   "source": [
    "### Important Concepts"
   ]
  },
  {
   "cell_type": "markdown",
   "metadata": {},
   "source": [
    "* Dataset \n",
    "    * Training set versus test set\n",
    "    * In the dataset we have **features=independent variables=attributes=predictors**.\n",
    "    * Often times, we use $y$ to represent labels. **label=target=outcome=class=dependent variable=response**\n",
    "* **Dimensionality = number of features**\n",
    "* **Model selection**: the process of determining the best model to be generalized for the new data."
   ]
  }
 ],
 "metadata": {
  "kernelspec": {
   "display_name": "Python 3",
   "language": "python",
   "name": "python3"
  },
  "language_info": {
   "codemirror_mode": {
    "name": "ipython",
    "version": 3
   },
   "file_extension": ".py",
   "mimetype": "text/x-python",
   "name": "python",
   "nbconvert_exporter": "python",
   "pygments_lexer": "ipython3",
   "version": "3.7.3"
  }
 },
 "nbformat": 4,
 "nbformat_minor": 4
}
