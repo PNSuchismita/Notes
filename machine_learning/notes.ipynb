{
 "cells": [
  {
   "cell_type": "markdown",
   "metadata": {},
   "source": [
    "## Bias and Regression\n",
    "\n",
    "Harvard University course, CS109 Data Science.  \n",
    "Slides: https://github.com/cs109/2015/blob/master/Lectures/07-BiasAndRegression.pdf\n"
   ]
  },
  {
   "cell_type": "markdown",
   "metadata": {},
   "source": [
    "### Bias Types\n",
    "* **Selection Bias**. Where did the data come from?\n",
    "* **Publication Bias**. What percentage of the scientific discoveries are replicatable? If you are to reproduce the results, will you succeed? How true are the discoveries?\n",
    "* **Non-response Bias**. What if the people who didn't answer the survey questions are an important group of people?\n",
    "* **Length Bias**. For example, you want to measure the average prison sentence. If you show up at a random point in time you would most probably see the prisoners who are going to be there for a long time and you would not meet many people who are serving 1, 2 weeks, days...."
   ]
  },
  {
   "cell_type": "markdown",
   "metadata": {},
   "source": [
    "### Mathematical/Statistical Definition of Bias\n",
    "\n",
    "The bias of an estimator is how far off it is on average: \n",
    "\n",
    "\\begin{equation*}\n",
    "bias(\\hat{\\theta}) = E(\\hat{\\theta}) - \\theta   \n",
    "\\end{equation*}\n",
    "\n",
    "*where $\\theta$ is what we are trying to estimate, and $\\hat{\\theta}$ is it's estimator*.\n",
    "\n",
    "The question may arise, why not subtract the bias? \n",
    "Because\n",
    "* We don't know the bias. We can try to estimate it but will have bias in that process as well.\n",
    "* **Bias_Variance Tradoff**, which is very often formulates the following way  \n",
    "\n",
    "\\begin{equation*}\n",
    "MSE(\\hat{\\theta}) = VAR(\\hat{\\theta}) + bias^2(\\hat{\\theta})\n",
    "\\end{equation*}\n",
    "\n",
    "**MSE** is the **Mean Squared Error**, the most common way to measure how good is your estimator (on average, in terms of squared distance, how far off are you from the truth?).\n",
    "\n",
    "#### So the goal is not to minimize the bias but instead the more appropriate goal is to minimize MSE."
   ]
  },
  {
   "cell_type": "markdown",
   "metadata": {},
   "source": [
    "### Fisher Weighting\n",
    "\n",
    "How should we combine independent, *unbiased* estimators for a parameter into one estimator?\n",
    "\n",
    "\\begin{equation*}\n",
    "\\hat{\\theta} = \\sum_{i=1}^{k}w_i\\hat{\\theta_i}\n",
    "\\end{equation*}\n",
    "\n",
    "The *weights* should sum to 1 but how should they be chosen?\n",
    "\n",
    "\\begin{equation*}\n",
    "w_i \\propto \\frac{1}{Var(\\hat{\\theta_i})}\n",
    "\\end{equation*}\n",
    "\n",
    "(Inversly proportional to variance)"
   ]
  },
  {
   "cell_type": "code",
   "execution_count": null,
   "metadata": {},
   "outputs": [],
   "source": []
  },
  {
   "cell_type": "code",
   "execution_count": null,
   "metadata": {},
   "outputs": [],
   "source": []
  },
  {
   "cell_type": "code",
   "execution_count": null,
   "metadata": {},
   "outputs": [],
   "source": []
  },
  {
   "cell_type": "code",
   "execution_count": null,
   "metadata": {},
   "outputs": [],
   "source": []
  },
  {
   "cell_type": "code",
   "execution_count": null,
   "metadata": {},
   "outputs": [],
   "source": []
  },
  {
   "cell_type": "code",
   "execution_count": null,
   "metadata": {},
   "outputs": [],
   "source": []
  },
  {
   "cell_type": "code",
   "execution_count": null,
   "metadata": {},
   "outputs": [],
   "source": []
  },
  {
   "cell_type": "code",
   "execution_count": null,
   "metadata": {},
   "outputs": [],
   "source": []
  },
  {
   "cell_type": "code",
   "execution_count": null,
   "metadata": {},
   "outputs": [],
   "source": []
  },
  {
   "cell_type": "code",
   "execution_count": null,
   "metadata": {},
   "outputs": [],
   "source": []
  }
 ],
 "metadata": {
  "kernelspec": {
   "display_name": "Python [default]",
   "language": "python",
   "name": "python3"
  },
  "language_info": {
   "codemirror_mode": {
    "name": "ipython",
    "version": 3
   },
   "file_extension": ".py",
   "mimetype": "text/x-python",
   "name": "python",
   "nbconvert_exporter": "python",
   "pygments_lexer": "ipython3",
   "version": "3.5.4"
  }
 },
 "nbformat": 4,
 "nbformat_minor": 2
}
