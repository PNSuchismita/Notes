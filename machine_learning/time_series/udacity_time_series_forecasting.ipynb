{
 "cells": [
  {
   "cell_type": "markdown",
   "metadata": {},
   "source": [
    "# Time Series Forecasting\n",
    "\n",
    "*Udacity*: https://classroom.udacity.com/courses/ud980"
   ]
  },
  {
   "cell_type": "markdown",
   "metadata": {},
   "source": [
    "## 1. Fundamentals of Time Series Forecasting"
   ]
  },
  {
   "cell_type": "markdown",
   "metadata": {},
   "source": [
    "### Simple Forecasting Methods\n",
    "\n",
    "* **Average Method**: Assumes the best predictor of what will happen tomorrow is the average of everything that has happened up until now.\n",
    "* **Moving Average Method**: This method uses the average of a time series over defined number of time periods.\n",
    "* **Naive Method**: All forecasts are simply set to be equal to the las observation.\n",
    "* **Seasonal Naive Method**: Assumes that the magnitude of the seasonal pattern will will remain constant.\n",
    "\n",
    "### Trend\n",
    "\n",
    "In time series analysis a **trend** is a gradual shift or moviement to relatively higher or lower values over long period of time.\n",
    "\n",
    "* **Uptrend**: When a trend pattern exhibits a general direction that is upward where there are higher highs and higher lows.\n",
    "* **Downtrend**: When a trend pattern exhibits a general direction that is down where there are lower highs and lower lows.\n",
    "* **Horizontal or Stationary Trend**: When there is no trend.\n",
    "\n",
    "### Seasonality\n",
    "\n",
    "A time series that exhibits a repeating pattern **at fixed intervals** of time within a one year period is said to have a seasonal pattern or seasonality.\n",
    "\n",
    "### Cyclical Pattern\n",
    "\n",
    "A cyclical pattern exists when the data exhibits rises an falls that are **not of a fixed period**.\n",
    "\n",
    "In finance\n",
    "* **Bull Market**: Cyclical uptrend\n",
    "* **Bear Market**: Ciclical downtrend"
   ]
  }
 ],
 "metadata": {
  "kernelspec": {
   "display_name": "Python 3",
   "language": "python",
   "name": "python3"
  },
  "language_info": {
   "codemirror_mode": {
    "name": "ipython",
    "version": 3
   },
   "file_extension": ".py",
   "mimetype": "text/x-python",
   "name": "python",
   "nbconvert_exporter": "python",
   "pygments_lexer": "ipython3",
   "version": "3.7.3"
  }
 },
 "nbformat": 4,
 "nbformat_minor": 4
}
