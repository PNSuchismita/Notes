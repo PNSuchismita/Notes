{
 "cells": [
  {
   "cell_type": "markdown",
   "metadata": {},
   "source": [
    "# K-means Clustering\n",
    "\n",
    "*Machine Learning | Andrew Ng*: https://www.youtube.com/watch?v=hDmNF9JG3lo\n",
    "\n",
    "* Unsupervised\n",
    "    * Unlabeled data\n",
    "* Clustering data into different groups/clusters\n",
    "\n",
    "## How it works\n",
    "\n",
    "0. Randomly initialize cluster centroids.\n",
    "\n",
    "Do the following 2 steps iteratively\n",
    "1. Cluster assignment\n",
    "    * For each data point, assign the closest centroid to it.\n",
    "2. Move centroids\n",
    "    * Average all of the data points assigned to a cluster. Make that average the new cluster centroid of that cluster.\n",
    "    \n",
    "**K-means algorithm**  \n",
    "\n",
    "Randomly initialize $K$ cluster centroids $\\mu_1, \\mu_2, ..., \\mu_k \\in R^n$  \n",
    "\n",
    "Repeat {  \n",
    "$\\quad$$\\quad$    for $i=1$ to $m$  \n",
    "$\\quad$ $\\quad$$\\quad$    $c^i$ := index (from $1$ to $K$) of cluster centroid closest to $x^i$  \n",
    "$\\quad$$\\quad$    for $k=1$ to $K$  \n",
    "$\\quad$$\\quad$$\\quad$    $\\mu_k$ := average (mean) of points assigned to cluster $k$  \n",
    "$\\quad$$\\quad$ }"
   ]
  },
  {
   "cell_type": "markdown",
   "metadata": {},
   "source": [
    "## Optimization Objective\n",
    "\n",
    "\n",
    "$c^{i}$ = index of cluster $(1, 2, ..., K)$ to which example $x^{i}$ is currently assigned  \n",
    "$\\mu_{k}$ = location of cluster centroid $k$ ($\\mu_k \\in R^n$)  \n",
    "$\\mu_{c^i}$ = location of cluster centroid to which example $x^i$ is assigned  \n",
    "$K$ = total number of clusters  \n",
    "\n",
    "**Optimization Objective**:  \n",
    "\n",
    "\\begin{equation}  \n",
    "J(c^1, ..., c^m, \\mu_1, ..., \\mu_K) = \\frac{1}{m}\\sum_{i=1}^{m} ||x^i-\\mu_{c^i}||^2 \\\\\n",
    "\\min_{c^1,...,c^m,\\mu_1,...,\\mu_K} J(c^1, ..., c^m, \\mu_1, ..., \\mu_K)\n",
    "\\end{equation}\n",
    "\n",
    "Cluster assignment step in the k-means algorithm is exactly doing the minimization of the cost/distortion function $J$ with respect to $c^1, ..., c^m$ (holding the $\\mu_1, ..., \\mu_K$ fixed). And the move centroids step is minimizing the cost/distortion function $J$ with respect to $\\mu_1,...,\\mu_K$. "
   ]
  },
  {
   "cell_type": "markdown",
   "metadata": {},
   "source": [
    "## Random Initialization of Cluster Centroids\n",
    "\n",
    "* Should have $K < m$\n",
    "* Randomly pick $K$ training examples\n",
    "* Set $\\mu_1, ..., \\mu_K$ equal to these $K$ examples\n",
    "\n",
    "K-means can end up converging to different solutions depending on how exactly the clusters were initialized. It can also get stuck in a local optima. \n",
    "\n",
    "To avoid getting stuck in a local optima, do multiple random initializations.\n",
    "\n",
    "**Random Initialization**  \n",
    "\n",
    "For $i=1$ to $100$ {  \n",
    "$\\quad$ Randomly initialize K-means.  \n",
    "$\\quad$ Run K-means. Get $c^1,...,c^m,\\mu_1,...,\\mu_K$.  \n",
    "$\\quad$ Compute cost function (distortion)  \n",
    "$\\quad$$\\quad$ $J(c^1,...,c^m,\\mu_1,...,\\mu_K)$  \n",
    "$\\quad$ }\n",
    "\n",
    "Pick the initialization with the lowest cost function $J$. This method will work well if the **number of clusters is small**."
   ]
  },
  {
   "cell_type": "markdown",
   "metadata": {},
   "source": [
    "## Choosing the Number of Clusters\n",
    "\n",
    "* **Elbow method**: Compute the cost/distortion function $J$ for the number of clusters equal to 1, then 2, then 3, etc. Plot tha value of $J$ on y-axis and the number of clusters on the x-axis. Pick the number of clusters up until which the distortion goes down rapidly and after which the distortion goes down slowly.\n",
    "* **Better method**: Sometimes, you're running K-means to get clusters to use for some later/downstream purpose. Evaluate K-means based on a metric for how well it performs for that later purpose. For example, you might want to choose 5 clusters versus 3 clusters for the sizes of t-shirts based on the heights and weights of the customers."
   ]
  }
 ],
 "metadata": {
  "kernelspec": {
   "display_name": "Python 3",
   "language": "python",
   "name": "python3"
  },
  "language_info": {
   "codemirror_mode": {
    "name": "ipython",
    "version": 3
   },
   "file_extension": ".py",
   "mimetype": "text/x-python",
   "name": "python",
   "nbconvert_exporter": "python",
   "pygments_lexer": "ipython3",
   "version": "3.7.3"
  }
 },
 "nbformat": 4,
 "nbformat_minor": 4
}
